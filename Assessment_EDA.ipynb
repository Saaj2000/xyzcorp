{
 "cells": [
  {
   "cell_type": "code",
   "execution_count": null,
   "id": "f7389559",
   "metadata": {},
   "outputs": [],
   "source": [
    "import pandas as pd\n",
    "import numpy as np\n",
    "import plotly.express as px \n",
    "import plotly.graph_objects as go \n",
    "import matplotlib.pyplot as plt\n",
    "import seaborn as sns\n",
    "#add number of loans issued over time\n",
    "#average interest rate vs expected default rate with colours indicating subgrades\n",
    "import plotly.io as pio\n",
    "pio.templates.default = \"presentation\"\n",
    "px_colour = px.colors.qualitative.Pastel\n",
    "import kaleido"
   ]
  },
  {
   "cell_type": "markdown",
   "id": "ac0ca330",
   "metadata": {},
   "source": [
    "Classification - Default Ind definitely easiest, potentially loan grade classification\n",
    "Regression - ?\n",
    "NLP - ? \n"
   ]
  },
  {
   "cell_type": "code",
   "execution_count": null,
   "id": "6c3dc368",
   "metadata": {},
   "outputs": [],
   "source": [
    "df = pd.read_csv(\"XYZCorp_LendingData.txt\", sep = \"\\t\", low_memory = False)"
   ]
  },
  {
   "cell_type": "code",
   "execution_count": null,
   "id": "b119a17c",
   "metadata": {},
   "outputs": [],
   "source": [
    "df.shape"
   ]
  },
  {
   "cell_type": "code",
   "execution_count": null,
   "id": "960ddff6",
   "metadata": {},
   "outputs": [],
   "source": [
    "df_ordered = df.reindex(sorted(df.columns), axis=1)\n",
    "\n",
    "with pd.option_context('display.max_rows', 5, 'display.max_columns', None): \n",
    "    display(df_ordered)"
   ]
  },
  {
   "cell_type": "code",
   "execution_count": null,
   "id": "5fbe78a6",
   "metadata": {},
   "outputs": [],
   "source": [
    "df.tail()"
   ]
  },
  {
   "cell_type": "code",
   "execution_count": null,
   "id": "36282332",
   "metadata": {},
   "outputs": [],
   "source": [
    "df.select_dtypes(\"object\")"
   ]
  },
  {
   "cell_type": "code",
   "execution_count": null,
   "id": "321b4a25",
   "metadata": {},
   "outputs": [],
   "source": [
    "df.select_dtypes([\"object\"]).columns"
   ]
  },
  {
   "cell_type": "code",
   "execution_count": null,
   "id": "5e2bd31e",
   "metadata": {},
   "outputs": [],
   "source": [
    "df[\"annual_inc_joint\"].count()*100/len(df)"
   ]
  },
  {
   "cell_type": "code",
   "execution_count": null,
   "id": "38017f1f",
   "metadata": {},
   "outputs": [],
   "source": []
  },
  {
   "cell_type": "code",
   "execution_count": null,
   "id": "65a9df06",
   "metadata": {},
   "outputs": [],
   "source": [
    "df.info()"
   ]
  },
  {
   "cell_type": "code",
   "execution_count": null,
   "id": "aba64b2d",
   "metadata": {},
   "outputs": [],
   "source": [
    "df.describe()"
   ]
  },
  {
   "cell_type": "code",
   "execution_count": null,
   "id": "e769016d",
   "metadata": {},
   "outputs": [],
   "source": [
    "east = [\n",
    "'CT',\n",
    "'MA',\n",
    "'ME',\n",
    "'NH',\n",
    "'NJ',\n",
    "'NY',\n",
    "'PA',\n",
    "'RI',\n",
    "'VT'\n",
    "]\n",
    "midwest = [\n",
    "'IA',\n",
    "'IL',\n",
    "'IN',\n",
    "'KS',\n",
    "'MI',\n",
    "'MN',\n",
    "'MO',\n",
    "'ND',\n",
    "'NE',\n",
    "'OH',\n",
    "'SD',\n",
    "'WI'\n",
    "]\n",
    "south = [\n",
    "'AL',\n",
    "'AR',\n",
    "'DC',\n",
    "'DE',\n",
    "'FL',\n",
    "'GA',\n",
    "'KY',\n",
    "'LA',\n",
    "'MD',\n",
    "'MS',\n",
    "'NC',\n",
    "'OK',\n",
    "'SC',\n",
    "'TN',\n",
    "'TX',\n",
    "'VA',\n",
    "'WV'\n",
    "]\n",
    "west = [\n",
    "'AK',\n",
    "'AZ',\n",
    "'CA',\n",
    "'CO',\n",
    "'HI',\n",
    "'ID',\n",
    "'MT',\n",
    "'NM',\n",
    "'NV',\n",
    "'OR',\n",
    "'UT',\n",
    "'WA',\n",
    "'WY'\n",
    "]"
   ]
  },
  {
   "cell_type": "code",
   "execution_count": null,
   "id": "ecdba217",
   "metadata": {},
   "outputs": [],
   "source": [
    "df_region = df.copy()\n",
    "\n",
    "df_region[\"region\"] = df_region[\"addr_state\"].apply(lambda x: \"East\" if x in east else\n",
    "                                       (\"Midwest\" if x in midwest else\n",
    "                                        (\"South\" if x in south else\n",
    "                                         (\"West\" if x in west else np.nan))))\n",
    "limit = df[\"annual_inc\"].quantile(0.99)\n",
    "\n",
    "fig = px.histogram(df_region[df_region[\"annual_inc\"]<limit], x = \"annual_inc\", color = \"region\", nbins = 30,\n",
    "                  color_discrete_sequence = px_colour)\n",
    "fig.update_layout(bargap=0.30,\n",
    "                 title = \"Distribution of Annual Incomes split by Region\",\n",
    "                 xaxis_title = \"Annual Income (USD)\",\n",
    "                 yaxis_title = \"Count\",\n",
    "                 legend_title = \"US Region\")\n",
    "fig.write_image(\"annual_inc_region_distr.png\")"
   ]
  },
  {
   "cell_type": "code",
   "execution_count": null,
   "id": "5efc325c",
   "metadata": {},
   "outputs": [],
   "source": [
    "\n",
    "\n",
    "fig = px.histogram(df_region, x = \"loan_amnt\", color = \"home_ownership\", nbins = 30,\n",
    "                  color_discrete_sequence = px.colors.qualitative.T10)\n",
    "fig.update_layout(bargap=0.30,\n",
    "                 title = \"Distribution of Loan Amounts split by Home Ownership\",\n",
    "                 xaxis_title = \"Loan Amount (USD)\",\n",
    "                 yaxis_title = \"Count\",\n",
    "                 legend_title = \"Home Ownership\")\n",
    "fig.write_image(\"loan_amnt_ownership_disr.png\")"
   ]
  },
  {
   "cell_type": "code",
   "execution_count": null,
   "id": "9517a56d",
   "metadata": {},
   "outputs": [],
   "source": [
    "\n",
    "fig = px.histogram(df_region[df_region[\"annual_inc\"]<limit], x = \"annual_inc\", color = \"region\", nbins = 30, facet_col = \"term\",\n",
    "                  color_discrete_sequence = px_colour,\n",
    "                  labels = {\"term\":\"Term \"}, facet_col_spacing = 0.04)\n",
    "fig.update_layout(bargap=0.30)\n",
    "fig.update_layout(bargap=0.30,\n",
    "                 title = \"Distribution of Annual Incomes split by Term and Region\",\n",
    "                 xaxis_title = \"Annual Income (USD)\",\n",
    "                 yaxis_title = \"Count\",\n",
    "                 legend_title = \"US Region\")\n",
    "fig.write_image(\"annual_inc_region_distr_term.png\")"
   ]
  },
  {
   "cell_type": "code",
   "execution_count": null,
   "id": "d27b8f85",
   "metadata": {},
   "outputs": [],
   "source": [
    "limit = df[\"annual_inc\"].quantile(0.99)\n",
    "\n",
    "fig = px.histogram(df[df[\"annual_inc\"]<limit], x = \"annual_inc\", color = \"home_ownership\", nbins = 30, facet_col = \"term\",\n",
    "                  color_discrete_sequence = px_colour,\n",
    "                  labels = {\"term\":\"Term \", \"annual_inc\":\"Annual Income (USD)\"}, facet_col_spacing = 0.05)\n",
    "fig.update_layout(bargap=0.30,\n",
    "                 title = \"Distribution of Annual Incomes split by Term and Home Ownership\",\n",
    "                 xaxis_title = \"Annual Income (USD)\",\n",
    "                 yaxis_title = \"Count\",\n",
    "                 legend_title = \"Home Ownership\", width = 1000, height = 600)\n",
    "\n",
    "fig.write_image(\"annual_inc_ownership_distr_term.png\")\n",
    "fig.show()"
   ]
  },
  {
   "cell_type": "code",
   "execution_count": null,
   "id": "66c1468f",
   "metadata": {},
   "outputs": [],
   "source": [
    "limit = df[\"annual_inc\"].quantile(0.99)\n",
    "\n",
    "fig = px.histogram(df[(df[\"annual_inc\"]<limit) & (df[\"default_ind\"] == 0)], x = \"annual_inc\", color = \"home_ownership\", nbins = 30, color_discrete_sequence = px_colour)\n",
    "fig.update_layout(bargap=0.30,\n",
    "                 title = \"Distribution of Annual Incomes split by Home Ownership for Non-Defaulting Loans\",\n",
    "                 xaxis_title = \"Annual Income (USD)\",\n",
    "                 yaxis_title = \"Count\",\n",
    "                 legend_title = \"Home Ownership\")\n",
    "fig.write_image(\"annual_inc_distr_non_default.png\")\n",
    "fig.show()"
   ]
  },
  {
   "cell_type": "code",
   "execution_count": null,
   "id": "949f789b",
   "metadata": {},
   "outputs": [],
   "source": [
    "limit = df[\"annual_inc\"].quantile(0.99)\n",
    "\n",
    "fig = px.histogram(df[(df[\"annual_inc\"]<limit) & (df[\"default_ind\"] == 1)], x = \"annual_inc\", color = \"home_ownership\", nbins = 30, color_discrete_sequence = px_colour)\n",
    "fig.update_layout(bargap=0.30,\n",
    "                 title = \"Distribution of Annual Incomes split by Home Ownership for Defaulting Loans\",\n",
    "                 xaxis_title = \"Annual Income (USD)\",\n",
    "                 yaxis_title = \"Count\",\n",
    "                 legend_title = \"Home Ownership\")\n",
    "fig.write_image(\"annual_inc_distr_non_default.png\")\n",
    "fig.show()"
   ]
  },
  {
   "cell_type": "code",
   "execution_count": null,
   "id": "7396eb5a",
   "metadata": {},
   "outputs": [],
   "source": [
    "df[\"application_type\"].value_counts(normalize = True)"
   ]
  },
  {
   "cell_type": "code",
   "execution_count": null,
   "id": "5819d75b",
   "metadata": {},
   "outputs": [],
   "source": [
    "df[\"default_ind\"].value_counts(normalize = True)"
   ]
  },
  {
   "cell_type": "code",
   "execution_count": null,
   "id": "18e983b7",
   "metadata": {},
   "outputs": [],
   "source": [
    "df[\"emp_title\"]"
   ]
  },
  {
   "cell_type": "code",
   "execution_count": null,
   "id": "debe72ad",
   "metadata": {},
   "outputs": [],
   "source": [
    "px.histogram(df, x = \"int_rate\")"
   ]
  },
  {
   "cell_type": "code",
   "execution_count": null,
   "id": "a04f22dc",
   "metadata": {},
   "outputs": [],
   "source": [
    "import datetime as dt\n",
    "df[\"issue_d\"] = pd.to_datetime(df[\"issue_d\"])\n",
    "df[\"issue_y\"] = df[\"issue_d\"].dt.year\n",
    "df[\"term\"] = df[\"term\"].replace({\"36 months\":\"36 Months\",\"60 months\":\"60 Months\"})"
   ]
  },
  {
   "cell_type": "code",
   "execution_count": null,
   "id": "9069783e",
   "metadata": {},
   "outputs": [],
   "source": [
    "import kaleido\n",
    "fig = px.histogram(df, x = \"issue_y\", color = \"term\", color_discrete_sequence = px.colors.qualitative.T10, labels = {\"36 months\":\"36 Months\",\"60 months\":\"60 Months\"})\n",
    "fig.update_layout(bargap=0.30,\n",
    "                 title = \"Distribution of Loans Issued over Time split by Term\",\n",
    "                 xaxis_title = \"Year\",\n",
    "                 yaxis_title = \"Count\",\n",
    "                 legend_title = \"Term\")\n",
    "\n",
    "fig.show()\n",
    "fig.write_image(\"distr_loans_over_time.png\")"
   ]
  },
  {
   "cell_type": "code",
   "execution_count": null,
   "id": "14221dfd",
   "metadata": {},
   "outputs": [],
   "source": [
    "fig = px.histogram(df, x = \"issue_y\", color = \"term\")\n"
   ]
  },
  {
   "cell_type": "code",
   "execution_count": null,
   "id": "bc54cc08",
   "metadata": {},
   "outputs": [],
   "source": [
    "fig = make_subplots(rows = 1, cols = 2, subplot_titles = [\"Loan Amount\",\"Interest Rate\"])\n",
    "trace_amnt = go.Box(\n",
    "        y  = df[\"loan_amnt\"],\n",
    "        x = df[\"term\"].replace({\"36 months\":\"36 Months\",\"60 months\":\"60 Months\"}),\n",
    "        name = \"Loan Amount\"\n",
    ")\n",
    "trace_int = go.Box(\n",
    "        y  = df[\"int_rate\"],\n",
    "        x = df[\"term\"].replace({\"36 months\":\"36 Months\",\"60 months\":\"60 Months\"}),\n",
    "        name = \"Interest Rate\"\n",
    ")\n",
    "fig.append_trace(trace_amnt, 1, 1)\n",
    "fig.append_trace(trace_int, 1, 2)\n",
    "fig.update_layout(\n",
    "                 title = \"Loan Amount and Interest Rate split by Loan Term\", width = 1000, height = 600)\n",
    "fig.update_yaxes(title_text = \"Loan Amount (USD)\", row = 1, col =1)\n",
    "fig.update_yaxes(title_text = \"Interest Rate (%)\", row = 1, col =2)\n",
    "fig.update_xaxes(title_text = \"Term\")\n",
    "fig.update_layout(legend=dict(orientation = \"h\",y = -0.2,x=0.24))\n",
    "\n",
    "fig.write_image(\"box_plot_loan_amnt_interest.png\")\n",
    "fig.show()"
   ]
  },
  {
   "cell_type": "code",
   "execution_count": null,
   "id": "48d02675",
   "metadata": {},
   "outputs": [],
   "source": [
    "df[\"loan_amnt\"].describe()"
   ]
  },
  {
   "cell_type": "code",
   "execution_count": null,
   "id": "a077191d",
   "metadata": {},
   "outputs": [],
   "source": [
    "df[\"title\"]"
   ]
  },
  {
   "cell_type": "code",
   "execution_count": null,
   "id": "8f6ff227",
   "metadata": {},
   "outputs": [],
   "source": [
    "df[\"verification_status\"].value_counts(normalize = True)"
   ]
  },
  {
   "cell_type": "code",
   "execution_count": null,
   "id": "1a2b541a",
   "metadata": {},
   "outputs": [],
   "source": [
    "df[\"grade\"].value_counts()"
   ]
  },
  {
   "cell_type": "code",
   "execution_count": null,
   "id": "1fd35857",
   "metadata": {},
   "outputs": [],
   "source": [
    "fig = px.histogram(df, x = \"home_ownership\")\n",
    "fig.update_layout(bargap=0.30)\n"
   ]
  },
  {
   "cell_type": "code",
   "execution_count": null,
   "id": "5da997ef",
   "metadata": {},
   "outputs": [],
   "source": [
    "fig=px.box(df, x = \"grade\", y = \"int_rate\", color = \"grade\", color_discrete_sequence = px_colour, category_orders={\"grade\":[\"A\",\"B\",\"C\",\"D\",\"E\",\"F\",\"G\"]})\n",
    "fig.update_xaxes(categoryorder='array', categoryarray= [\"A\",\"B\",\"C\",\"D\",\"E\",\"F\",\"G\"])\n",
    "fig.update_layout(\n",
    "                 title = \"Distribution of Interest Rate split by Loan Grade\",\n",
    "                 yaxis_title = \"Interest Rate (%)\",\n",
    "                 xaxis_title = \"Loan Grade\",\n",
    "                 legend_title = \"Loan Grade\")\n",
    "fig.write_image(\"int_rate_grade_boxplot.png\")\n",
    "fig.show()"
   ]
  },
  {
   "cell_type": "code",
   "execution_count": null,
   "id": "ba99dce5",
   "metadata": {},
   "outputs": [],
   "source": [
    "def test(series):\n",
    "    return series.value_counts(normalize = True)"
   ]
  },
  {
   "cell_type": "code",
   "execution_count": null,
   "id": "6a3f5d05",
   "metadata": {},
   "outputs": [],
   "source": [
    "grade_group = df.groupby([\"grade\"])[[\"default_ind\"]].value_counts(normalize = True).reset_index()\n",
    "grade_group_default = grade_group[grade_group[\"default_ind\"] == 1]\n",
    "fig = px.line(grade_group_default, x = \"grade\", y = 0, markers = True)\n",
    "\n",
    "fig.update_layout(\n",
    "                 title = \"Probablility of Default vs Loan Grade\",\n",
    "                 yaxis_title = \"Probability of Default\",\n",
    "                 xaxis_title = \"Loan Grade\")\n",
    "fig.write_image(\"prob_default_vs_grade.png\")\n",
    "fig.show()"
   ]
  },
  {
   "cell_type": "code",
   "execution_count": null,
   "id": "4f9a8ba7",
   "metadata": {},
   "outputs": [],
   "source": [
    "inq_group = df.groupby([\"inq_last_6mths\"])[[\"default_ind\"]].value_counts(normalize = True).reset_index()\n",
    "inq_group_default = inq_group[inq_group[\"default_ind\"] == 1]\n",
    "fig = px.line(inq_group_default, x = \"inq_last_6mths\", y = 0, markers = True)\n",
    "\n",
    "fig.update_layout(\n",
    "                 title = \"Probablility of Default vs No. Loan Inquiries over Previous 6 Months \",\n",
    "                 yaxis_title = \"Probability of Default\",\n",
    "                 xaxis_title = \"No. Loan Inquiries over Previous 6 Months\")\n",
    "fig.write_image(\"prob_default_vs_no_inq.png\")"
   ]
  },
  {
   "cell_type": "code",
   "execution_count": null,
   "id": "9df5f55f",
   "metadata": {},
   "outputs": [],
   "source": [
    "emp_length_group = df.groupby([\"emp_length\"])[[\"default_ind\"]].value_counts(normalize = True).reset_index()\n",
    "emp_length_group_default = emp_length_group[emp_length_group[\"default_ind\"] == 1]\n",
    "emp_length_group_default = emp_length_group_default.set_index(\"emp_length\").reindex(index  = [\"< 1 year\",\"1 year\",\"2 years\",\"3 years\",\"4 years\",\"5 years\",\"6 years\",\"7 years\",\"8 years\",\"9 years\",\"10+ years\"]).reset_index()\n",
    "px.line(emp_length_group_default, x = \"emp_length\", y = 0, markers = True, \n",
    "        category_orders = {\"emp_length\":[\"< 1 year\",\"1 year\",\"2 years\",\"3 years\",\"4 years\",\"5 years\",\"6 years\",\"7 years\",\"8 years\",\"9 years\",\"10+ years\"]})"
   ]
  },
  {
   "cell_type": "code",
   "execution_count": null,
   "id": "d42c7f03",
   "metadata": {},
   "outputs": [],
   "source": [
    "df_cred = df.copy()\n",
    "df_cred[\"earliest_cr_line\"] = pd.to_datetime(df_cred[\"earliest_cr_line\"]).dt.year\n",
    "counts = df_cred[\"earliest_cr_line\"].value_counts().to_dict()\n",
    "df_cred[\"counts\"] = df_cred[\"earliest_cr_line\"].map(counts)\n",
    "df_cred = df_cred[df_cred[\"counts\"] >= 50]"
   ]
  },
  {
   "cell_type": "code",
   "execution_count": null,
   "id": "0e9aafc1",
   "metadata": {},
   "outputs": [],
   "source": [
    "import datetime as dt\n",
    "credit_group = df_cred.groupby([\"earliest_cr_line\"])[[\"default_ind\"]].value_counts(normalize = True).reset_index()\n",
    "credit_group_default = credit_group[credit_group[\"default_ind\"] == 1]\n",
    "px.scatter(credit_group_default, x = \"earliest_cr_line\", y = 0)\n"
   ]
  },
  {
   "cell_type": "code",
   "execution_count": null,
   "id": "d5967622",
   "metadata": {},
   "outputs": [],
   "source": [
    "credit_group_default[0].quantile(0.3333)"
   ]
  },
  {
   "cell_type": "code",
   "execution_count": null,
   "id": "016c102f",
   "metadata": {},
   "outputs": [],
   "source": [
    "[x for x in df.columns if \"collection\" in x]"
   ]
  },
  {
   "cell_type": "markdown",
   "id": "c0d60bc0",
   "metadata": {},
   "source": [
    "default vs non-default percentage for:\n",
    "collection vs no collection\n",
    "derog record vs no derog record\n",
    "delinq vs no delinq\n",
    "payment plan vs no payment plan\n",
    "36 months vs 60 months term\n",
    "late fee vs no late fee"
   ]
  },
  {
   "cell_type": "code",
   "execution_count": null,
   "id": "cb428ec4",
   "metadata": {},
   "outputs": [],
   "source": [
    "df['total_rec_late_fee']"
   ]
  },
  {
   "cell_type": "code",
   "execution_count": null,
   "id": "e56c6cda",
   "metadata": {},
   "outputs": [],
   "source": [
    "df.columns"
   ]
  },
  {
   "cell_type": "code",
   "execution_count": null,
   "id": "ceb2bc17",
   "metadata": {},
   "outputs": [],
   "source": [
    "df_db = df.copy()\n",
    "df_db[\"collection_check\"] = df_db['collections_12_mths_ex_med'].apply(lambda x: 1 if x > 0 else 0)\n",
    "df_db[\"derog_check\"] = ~df_db['mths_since_last_major_derog'].isna()\n",
    "df_db[\"payment_check\"] = ~df_db['mths_since_last_delinq'].isna()\n",
    "df_db[\"pub_check\"] = df_db['pub_rec'].apply(lambda x: 1 if x > 0 else 0)\n",
    "df_db[\"late_check\"] = df_db['total_rec_late_fee'].apply(lambda x: 1 if x > 0 else 0)\n",
    "checks = [\"collection_check\",\"derog_check\",\"payment_check\",\"pub_check\",\"late_check\"]\n",
    "true_perc = []\n",
    "false_perc =[]\n",
    "true_count, false_count = [],[]\n",
    "for check in checks:\n",
    "    true_perc.append(df_db[df_db[check] == 1][\"default_ind\"].value_counts()[1])\n",
    "    true_count.append(len(df_db[df_db[check] == 1][\"default_ind\"]))\n",
    "    false_perc.append(df_db[df_db[check] == 0][\"default_ind\"].value_counts()[1])\n",
    "    false_count.append(len(df_db[df_db[check] == 0][\"default_ind\"]))\n",
    "\n",
    "df_db_res = pd.DataFrame({\"Check\":checks,\"True\":true_perc,\"True Count\":true_count,\"False\":false_perc,\"False Count\":false_count})\n",
    "\n"
   ]
  },
  {
   "cell_type": "code",
   "execution_count": null,
   "id": "bd88e348",
   "metadata": {},
   "outputs": [],
   "source": [
    "df_db = df.copy()\n",
    "df_db[\"collection_check\"] = df_db['collections_12_mths_ex_med'].apply(lambda x: 1 if x > 0 else 0)\n",
    "df_db[\"derog_check\"] = ~df_db['mths_since_last_major_derog'].isna()\n",
    "df_db[\"payment_check\"] = ~df_db['mths_since_last_delinq'].isna()\n",
    "df_db[\"pub_check\"] = df_db['pub_rec'].apply(lambda x: 1 if x > 0 else 0)\n",
    "df_db[\"late_check\"] = df_db['total_rec_late_fee'].apply(lambda x: 1 if x > 0 else 0)\n",
    "checks = [\"collection_check\",\"derog_check\",\"payment_check\",\"pub_check\",\"late_check\"]\n",
    "true_perc = []\n",
    "false_perc =[]\n",
    "true_count, false_count, true_not_def, false_not_def = [],[],[],[]\n",
    "for check in checks:\n",
    "    true_perc.append(df_db[df_db[check] == 1][\"default_ind\"].value_counts(normalize = True)[1]*100)\n",
    "    true_not_def.append(df_db[df_db[check] == 1][\"default_ind\"].value_counts(normalize = True)[0]*100)\n",
    "    true_count.append(len(df_db[df_db[check] == 1][\"default_ind\"]))\n",
    "    false_perc.append(df_db[df_db[check] == 0][\"default_ind\"].value_counts(normalize = True)[1]*100)\n",
    "    false_not_def.append(df_db[df_db[check] == 0][\"default_ind\"].value_counts(normalize = True)[0]*100)\n",
    "    false_count.append(len(df_db[df_db[check] == 0][\"default_ind\"]))\n",
    "\n",
    "df_db_res = pd.DataFrame({\"Check\":checks,\"True - Defaulted\":true_perc,\"True Count\":true_count,\n",
    "                          \"False - Defaulted\":false_perc,\"False Count\":false_count,\n",
    "                          \"True - Didn't Default\":true_not_def,\"False - Didn't Default\":false_not_def})\n",
    "\n"
   ]
  },
  {
   "cell_type": "code",
   "execution_count": null,
   "id": "2b995a1b",
   "metadata": {},
   "outputs": [],
   "source": [
    "df_db_res"
   ]
  },
  {
   "cell_type": "code",
   "execution_count": null,
   "id": "09165acb",
   "metadata": {},
   "outputs": [],
   "source": [
    "df_db_plot_true = df_db_res[[\"Check\",\"True - Defaulted\",\"True - Didn't Default\"]].melt(id_vars = [\"Check\"])\n",
    "df_db_plot_false = df_db_res[[\"Check\",\"False - Defaulted\",\"False - Didn't Default\"]].melt(id_vars = [\"Check\"])\n",
    "df_db_plot_false = df_db_plot_false.sort_values(\"Check\")\n",
    "df_db_plot_true = df_db_plot_true.sort_values(\"Check\")"
   ]
  },
  {
   "cell_type": "code",
   "execution_count": null,
   "id": "3ba7abe5",
   "metadata": {},
   "outputs": [],
   "source": [
    "from plotly.subplots import make_subplots\n",
    "fig_true = make_subplots(rows=3, cols=2, specs=[[{'type':'domain'}, {'type':'domain'}],[{'type':'domain'}, {'type':'domain'}],[{'type':'domain'}, {'type':'domain'}]],\n",
    "                   subplot_titles = [\"Collection Payment in Last 12 Months\",\" No Collection Payment in Last 12 Months\",\"Borrower Delinquency\",\"No Borrower Delinquency\",\"Loan Payments Missed\",\"No Loan Payments Missed\"])\n",
    "`\n",
    "fig.add_trace(go.Pie(labels = df_db_plot_true[df_db_plot_true[\"Check\"] == checks[0]][\"variable\"], values = df_db_plot_true[df_db_plot_true[\"Check\"] == checks[0]][\"value\"]),1,1 )\n",
    "fig.add_trace(go.Pie(labels = df_db_plot_false[df_db_plot_false[\"Check\"] == checks[0]][\"variable\"], values = df_db_plot_false[df_db_plot_false[\"Check\"] == checks[0]][\"value\"]),1,2 )\n",
    "fig.add_trace(go.Pie(labels = df_db_plot_true[df_db_plot_true[\"Check\"] == checks[2]][\"variable\"], values = df_db_plot_true[df_db_plot_true[\"Check\"] == checks[2]][\"value\"]),2,1 )\n",
    "fig.add_trace(go.Pie(labels = df_db_plot_false[df_db_plot_false[\"Check\"] == checks[2]][\"variable\"], values = df_db_plot_false[df_db_plot_false[\"Check\"] == checks[2]][\"value\"]),2,2 )\n",
    "fig.add_trace(go.Pie(labels = df_db_plot_true[df_db_plot_true[\"Check\"] == checks[4]][\"variable\"], values = df_db_plot_true[df_db_plot_true[\"Check\"] == checks[4]][\"value\"]),3,1 )\n",
    "fig.add_trace(go.Pie(labels = df_db_plot_false[df_db_plot_false[\"Check\"] == checks[4]][\"variable\"], values = df_db_plot_false[df_db_plot_false[\"Check\"] == checks[4]][\"value\"]),3,2 )\n",
    "for i in range(len(fig.layout.annotations)):\n",
    "    current = fig.layout.annotations[i][\"y\"]\n",
    "    fig.layout.annotations[i].update(y = current + 0.1)\n",
    "fig.show()"
   ]
  },
  {
   "cell_type": "code",
   "execution_count": null,
   "id": "358082f7",
   "metadata": {},
   "outputs": [],
   "source": [
    "from plotly.subplots import make_subplots\n",
    "fig_true = make_subplots(rows=3, cols=1, specs=[[{'type':'domain'}],[{'type':'domain'}],[{'type':'domain'}]],\n",
    "                   subplot_titles = [\"Collection Payment in Last 12 Months\",\"Borrower Delinquency\",\"Loan Payments Missed\"])\n",
    "\n",
    "fig_false = make_subplots(rows=3, cols=1, specs=[[{'type':'domain'}],[{'type':'domain'}],[{'type':'domain'}]],\n",
    "                   subplot_titles = [\"No Collection Payment in Last 12 Months\",\"No Borrower Delinquency\",\"No Loan Payments Missed\"])\n",
    "\n",
    "\n",
    "fig_true.add_trace(go.Pie(labels = df_db_plot_true[df_db_plot_true[\"Check\"] == checks[0]][\"variable\"], values = df_db_plot_true[df_db_plot_true[\"Check\"] == checks[0]][\"value\"]),1,1 )\n",
    "fig_false.add_trace(go.Pie(labels = df_db_plot_false[df_db_plot_false[\"Check\"] == checks[0]][\"variable\"], values = df_db_plot_false[df_db_plot_false[\"Check\"] == checks[0]][\"value\"]),1,1)\n",
    "fig_true.add_trace(go.Pie(labels = df_db_plot_true[df_db_plot_true[\"Check\"] == checks[2]][\"variable\"], values = df_db_plot_true[df_db_plot_true[\"Check\"] == checks[2]][\"value\"]),2,1 )\n",
    "fig_false.add_trace(go.Pie(labels = df_db_plot_false[df_db_plot_false[\"Check\"] == checks[2]][\"variable\"], values = df_db_plot_false[df_db_plot_false[\"Check\"] == checks[2]][\"value\"]),2,1)\n",
    "fig_true.add_trace(go.Pie(labels = df_db_plot_true[df_db_plot_true[\"Check\"] == checks[4]][\"variable\"], values = df_db_plot_true[df_db_plot_true[\"Check\"] == checks[4]][\"value\"]),3,1 )\n",
    "fig_false.add_trace(go.Pie(labels = df_db_plot_false[df_db_plot_false[\"Check\"] == checks[4]][\"variable\"], values = df_db_plot_false[df_db_plot_false[\"Check\"] == checks[4]][\"value\"]),3,1)\n",
    "\n",
    "fig_true.update_annotations(yshift=17)\n",
    "fig_false.update_annotations(yshift=17)\n",
    "fig_true.update_layout(title = \"Delinquent Customers\", width = 1000, height = 500)\n",
    "fig_false.update_layout(title = \"Good Standing Customers\", width = 1000, height = 500)\n",
    "\n",
    "fig_true.show()\n",
    "fig_true.write_image(\"true_pie_charts.png\")"
   ]
  },
  {
   "cell_type": "code",
   "execution_count": null,
   "id": "860c5df7",
   "metadata": {},
   "outputs": [],
   "source": [
    "\n",
    "fig_false.show()\n",
    "fig_false.write_image(\"false_pie_charts.png\")"
   ]
  },
  {
   "cell_type": "code",
   "execution_count": null,
   "id": "ca33a708",
   "metadata": {},
   "outputs": [],
   "source": [
    "grouped[\"id\"]"
   ]
  },
  {
   "cell_type": "code",
   "execution_count": null,
   "id": "5b7620a7",
   "metadata": {},
   "outputs": [],
   "source": [
    "px.scatter(df.sample(frac = 0.05), x = \"loan_amnt\", y = \"installment\", color = \"default_ind\", opacity = 0.7, facet_row = \"grade\",\n",
    "           category_orders = {\"grade\":[\"A\",\"B\",\"C\",\"D\",\"E\",\"F\",\"G\"]}, height = 1000)"
   ]
  },
  {
   "cell_type": "code",
   "execution_count": null,
   "id": "84a263ad",
   "metadata": {},
   "outputs": [],
   "source": [
    "px.scatter(df.sample(frac = 0.05), x = \"loan_amnt\", y = \"installment\", color = \"grade\", opacity = 0.7, category_orders = {\"grade\":[\"A\",\"B\",\"C\",\"D\",\"E\",\"F\",\"G\"]})"
   ]
  },
  {
   "cell_type": "code",
   "execution_count": null,
   "id": "d703cdfa",
   "metadata": {},
   "outputs": [],
   "source": [
    "grade_list = [\"A\",\"B\",\"C\",\"D\",\"E\",\"F\",\"G\"]\n",
    "fig = px.scatter(df.sample(frac = 0.05), x = \"loan_amnt\", y = \"installment\", color = \"grade\", opacity = 0.7, category_orders = {\"grade\":[\"A\",\"B\",\"C\",\"D\",\"E\",\"F\",\"G\"]}, template = \"plotly_white\", width = 1000, height = 500)\n",
    "fig.update_layout(\n",
    "                 title = \"Loan Amount vs Installment Amount\",\n",
    "                 yaxis_title = \"Installment (USD)\",\n",
    "                 xaxis_title = \"Loan Amount (USD)\",\n",
    "                 legend_title = \"Grade\", yaxis_range = [0,1500], xaxis_range = [0,36000])\n",
    "fig.write_image(\"loan_amnt_installment_grade_overall.png\")\n",
    "fig.show()"
   ]
  },
  {
   "cell_type": "code",
   "execution_count": null,
   "id": "5becf4a6",
   "metadata": {},
   "outputs": [],
   "source": [
    "grade_list = [\"A\",\"B\",\"C\",\"D\",\"E\",\"F\",\"G\"]\n",
    "sample = df.sample(frac = 0.05)\n",
    "for grade in grade_list:\n",
    "    order = [grade+str(x) for x in range(1,6)]\n",
    "    fig = px.scatter(sample[sample[\"grade\"] == grade], x = \"loan_amnt\", y = \"installment\", color = \"sub_grade\", opacity = 0.7, category_orders = {\"sub_grade\":order}, template = \"plotly_white\", width = 1000, height = 500)\n",
    "    fig.update_layout(\n",
    "                     title = \"Loan Amount vs Installment Amount\",\n",
    "                     yaxis_title = \"Installment (USD)\",\n",
    "                     xaxis_title = \"Loan Amount (USD)\",\n",
    "                     legend_title = \"Grade\", yaxis_range = [0,1500], xaxis_range = [0,36000])\n",
    "    fig.write_image(\"loan_amnt_installment_subgrade_\"+grade+\".png\")\n"
   ]
  },
  {
   "cell_type": "code",
   "execution_count": null,
   "id": "9040f669",
   "metadata": {},
   "outputs": [],
   "source": []
  },
  {
   "cell_type": "code",
   "execution_count": null,
   "id": "94c2e244",
   "metadata": {},
   "outputs": [],
   "source": [
    "df['collections_12_mths_ex_med']"
   ]
  },
  {
   "cell_type": "code",
   "execution_count": null,
   "id": "fd017914",
   "metadata": {},
   "outputs": [],
   "source": [
    "px.histogram(df[(df[\"total_rec_late_fee\"] > 0) & (df[\"total_rec_late_fee\"] <100)], x = \"total_rec_late_fee\", color = \"default_ind\")"
   ]
  },
  {
   "cell_type": "code",
   "execution_count": null,
   "id": "fd8ccd41",
   "metadata": {},
   "outputs": [],
   "source": [
    "px.histogram(df[(df[\"total_rec_late_fee\"] > 0) & (df[\"total_rec_late_fee\"] <100)], x = \"total_rec_late_fee\", color = \"default_ind\", barnorm = 'percent')"
   ]
  },
  {
   "cell_type": "code",
   "execution_count": null,
   "id": "e2e150c0",
   "metadata": {},
   "outputs": [],
   "source": []
  }
 ],
 "metadata": {
  "kernelspec": {
   "display_name": "Python 3 (ipykernel)",
   "language": "python",
   "name": "python3"
  },
  "language_info": {
   "codemirror_mode": {
    "name": "ipython",
    "version": 3
   },
   "file_extension": ".py",
   "mimetype": "text/x-python",
   "name": "python",
   "nbconvert_exporter": "python",
   "pygments_lexer": "ipython3",
   "version": "3.9.12"
  }
 },
 "nbformat": 4,
 "nbformat_minor": 5
}
