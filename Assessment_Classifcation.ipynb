{
 "cells": [
  {
   "cell_type": "code",
   "execution_count": 1,
   "id": "a2fcab00",
   "metadata": {},
   "outputs": [],
   "source": [
    "import pandas as pd\n",
    "import numpy as np\n",
    "import plotly.express as px \n",
    "import plotly.graph_objects as go \n",
    "import matplotlib.pyplot as plt\n",
    "import seaborn as sns\n",
    "import datetime as dt"
   ]
  },
  {
   "cell_type": "code",
   "execution_count": 29,
   "id": "9393ed5c",
   "metadata": {},
   "outputs": [],
   "source": [
    "from sklearn.impute import SimpleImputer\n",
    "from sklearn.pipeline import Pipeline\n",
    "from sklearn.preprocessing import OneHotEncoder, StandardScaler\n",
    "from sklearn.compose import ColumnTransformer\n",
    "from sklearn.model_selection import train_test_split"
   ]
  },
  {
   "cell_type": "code",
   "execution_count": 3,
   "id": "e3fe208e",
   "metadata": {},
   "outputs": [],
   "source": [
    "df = pd.read_csv(\"XYZCorp_LendingData.txt\", sep = \"\\t\", low_memory = False)"
   ]
  },
  {
   "cell_type": "code",
   "execution_count": 5,
   "id": "7f7abb6b",
   "metadata": {},
   "outputs": [
    {
     "data": {
      "text/plain": [
       "id                             0.000000\n",
       "member_id                      0.000000\n",
       "loan_amnt                      0.000000\n",
       "funded_amnt                    0.000000\n",
       "funded_amnt_inv                0.000000\n",
       "term                           0.000000\n",
       "int_rate                       0.000000\n",
       "installment                    0.000000\n",
       "grade                          0.000000\n",
       "sub_grade                      0.000000\n",
       "emp_title                      0.057763\n",
       "emp_length                     0.050307\n",
       "home_ownership                 0.000000\n",
       "annual_inc                     0.000000\n",
       "verification_status            0.000000\n",
       "issue_d                        0.000000\n",
       "pymnt_plan                     0.000000\n",
       "desc                           0.857691\n",
       "purpose                        0.000000\n",
       "title                          0.000039\n",
       "zip_code                       0.000000\n",
       "addr_state                     0.000000\n",
       "dti                            0.000000\n",
       "delinq_2yrs                    0.000000\n",
       "earliest_cr_line               0.000000\n",
       "inq_last_6mths                 0.000000\n",
       "mths_since_last_delinq         0.513818\n",
       "mths_since_last_record         0.846742\n",
       "open_acc                       0.000000\n",
       "pub_rec                        0.000000\n",
       "revol_bal                      0.000000\n",
       "revol_util                     0.000521\n",
       "total_acc                      0.000000\n",
       "initial_list_status            0.000000\n",
       "out_prncp                      0.000000\n",
       "out_prncp_inv                  0.000000\n",
       "total_pymnt                    0.000000\n",
       "total_pymnt_inv                0.000000\n",
       "total_rec_prncp                0.000000\n",
       "total_rec_int                  0.000000\n",
       "total_rec_late_fee             0.000000\n",
       "recoveries                     0.000000\n",
       "collection_recovery_fee        0.000000\n",
       "last_pymnt_d                   0.010353\n",
       "last_pymnt_amnt                0.000000\n",
       "next_pymnt_d                   0.295538\n",
       "last_credit_pull_d             0.000058\n",
       "collections_12_mths_ex_med     0.000065\n",
       "mths_since_last_major_derog    0.750997\n",
       "policy_code                    0.000000\n",
       "application_type               0.000000\n",
       "annual_inc_joint               0.999484\n",
       "dti_joint                      0.999486\n",
       "verification_status_joint      0.999484\n",
       "acc_now_delinq                 0.000000\n",
       "tot_coll_amt                   0.078640\n",
       "tot_cur_bal                    0.078640\n",
       "open_acc_6m                    0.984476\n",
       "open_il_6m                     0.984476\n",
       "open_il_12m                    0.984476\n",
       "open_il_24m                    0.984476\n",
       "mths_since_rcnt_il             0.984890\n",
       "total_bal_il                   0.984476\n",
       "il_util                        0.986438\n",
       "open_rv_12m                    0.984476\n",
       "open_rv_24m                    0.984476\n",
       "max_bal_bc                     0.984476\n",
       "all_util                       0.984476\n",
       "total_rev_hi_lim               0.078640\n",
       "inq_fi                         0.984476\n",
       "total_cu_tl                    0.984476\n",
       "inq_last_12m                   0.984476\n",
       "default_ind                    0.000000\n",
       "dtype: float64"
      ]
     },
     "metadata": {},
     "output_type": "display_data"
    }
   ],
   "source": [
    "with pd.option_context('display.max_rows', None, 'display.max_columns', None): \n",
    "    display(df.isna().sum()/len(df))"
   ]
  },
  {
   "cell_type": "code",
   "execution_count": 15,
   "id": "52200767",
   "metadata": {},
   "outputs": [],
   "source": [
    "missing_count = df.isna().sum()/len(df)"
   ]
  },
  {
   "cell_type": "code",
   "execution_count": 16,
   "id": "09a269a1",
   "metadata": {},
   "outputs": [],
   "source": [
    "df_clean = df.copy()\n",
    "for col in df.columns:\n",
    "    if missing_count[col] > 0.9:\n",
    "        df_clean = df_clean.drop(col, axis = 1)"
   ]
  },
  {
   "cell_type": "code",
   "execution_count": 17,
   "id": "f32b417a",
   "metadata": {},
   "outputs": [],
   "source": [
    "df_clean = df_clean.drop([\"desc\"], axis = 1)"
   ]
  },
  {
   "cell_type": "code",
   "execution_count": null,
   "id": "d51600ae",
   "metadata": {},
   "outputs": [],
   "source": [
    "df_clean.shape"
   ]
  },
  {
   "cell_type": "code",
   "execution_count": 13,
   "id": "f9a2ccce",
   "metadata": {},
   "outputs": [
    {
     "data": {
      "text/plain": [
       "['desc',\n",
       " 'annual_inc_joint',\n",
       " 'dti_joint',\n",
       " 'verification_status_joint',\n",
       " 'open_acc_6m',\n",
       " 'open_il_6m',\n",
       " 'open_il_12m',\n",
       " 'open_il_24m',\n",
       " 'mths_since_rcnt_il',\n",
       " 'total_bal_il',\n",
       " 'il_util',\n",
       " 'open_rv_12m',\n",
       " 'open_rv_24m',\n",
       " 'max_bal_bc',\n",
       " 'all_util',\n",
       " 'inq_fi',\n",
       " 'total_cu_tl',\n",
       " 'inq_last_12m']"
      ]
     },
     "execution_count": 13,
     "metadata": {},
     "output_type": "execute_result"
    }
   ],
   "source": [
    "[x for x in df.columns if x not in df_clean.columns]"
   ]
  },
  {
   "cell_type": "code",
   "execution_count": 212,
   "id": "48432fe9",
   "metadata": {},
   "outputs": [
    {
     "data": {
      "text/plain": [
       "Feb-2016    534094\n",
       "Jan-2016     68838\n",
       "Mar-2016        66\n",
       "Name: next_pymnt_d, dtype: int64"
      ]
     },
     "execution_count": 212,
     "metadata": {},
     "output_type": "execute_result"
    }
   ],
   "source": [
    "df_clean[\"next_pymnt_d\"].value_counts()"
   ]
  },
  {
   "cell_type": "code",
   "execution_count": 18,
   "id": "7340953f",
   "metadata": {},
   "outputs": [],
   "source": [
    "si = SimpleImputer(strategy = \"most_frequent\")\n",
    "df_clean[\"next_pymnt_d\"] = si.fit_transform(df_clean[\"next_pymnt_d\"].to_numpy().reshape(-1,1))"
   ]
  },
  {
   "cell_type": "code",
   "execution_count": 19,
   "id": "e347e186",
   "metadata": {},
   "outputs": [
    {
     "data": {
      "text/plain": [
       "0         Feb-2016\n",
       "1         Feb-2016\n",
       "2         Feb-2016\n",
       "3         Feb-2016\n",
       "4         Feb-2016\n",
       "            ...   \n",
       "855964    Feb-2016\n",
       "855965    Feb-2016\n",
       "855966    Feb-2016\n",
       "855967    Feb-2016\n",
       "855968    Feb-2016\n",
       "Name: next_pymnt_d, Length: 855969, dtype: object"
      ]
     },
     "execution_count": 19,
     "metadata": {},
     "output_type": "execute_result"
    }
   ],
   "source": [
    "df_clean[\"next_pymnt_d\"]"
   ]
  },
  {
   "cell_type": "markdown",
   "id": "c3311b97",
   "metadata": {},
   "source": [
    "Large variation in employment length and form EDA know 10+ years decreases likeklihood of defaulting, so not worth imputing.\n",
    "\n",
    "No meaningful way to guess employment, enough data with the info to drop missing values\n",
    "\n",
    "Small amount of info missing for last payment day and for revol_util, not worth imputing "
   ]
  },
  {
   "cell_type": "code",
   "execution_count": 20,
   "id": "761185c1",
   "metadata": {},
   "outputs": [],
   "source": [
    "si_999 = SimpleImputer(strategy = \"constant\", fill_value = 999)\n",
    "df_clean[\"mths_since_last_delinq\"] = si_999.fit_transform(df_clean[\"mths_since_last_delinq\"].to_numpy().reshape(-1,1))\n",
    "df_clean[\"mths_since_last_record\"] = si_999.fit_transform(df_clean[\"mths_since_last_record\"].to_numpy().reshape(-1,1))\n",
    "df_clean[\"mths_since_last_major_derog\"] = si_999.fit_transform(df_clean[\"mths_since_last_major_derog\"].to_numpy().reshape(-1,1))\n",
    "\n",
    "#assumption made here that if not populated, they aren't applicable. i.e. there have been no delinquencies for the person\n",
    "#Filling with 999 to indicate this"
   ]
  },
  {
   "cell_type": "code",
   "execution_count": 216,
   "id": "02fa41cd",
   "metadata": {},
   "outputs": [
    {
     "data": {
      "text/plain": [
       "1.0"
      ]
     },
     "execution_count": 216,
     "metadata": {},
     "output_type": "execute_result"
    }
   ],
   "source": [
    "df_clean.shape[0]/df.shape[0]"
   ]
  },
  {
   "cell_type": "code",
   "execution_count": 217,
   "id": "f3d74b5b",
   "metadata": {},
   "outputs": [
    {
     "data": {
      "text/html": [
       "<div>\n",
       "<style scoped>\n",
       "    .dataframe tbody tr th:only-of-type {\n",
       "        vertical-align: middle;\n",
       "    }\n",
       "\n",
       "    .dataframe tbody tr th {\n",
       "        vertical-align: top;\n",
       "    }\n",
       "\n",
       "    .dataframe thead th {\n",
       "        text-align: right;\n",
       "    }\n",
       "</style>\n",
       "<table border=\"1\" class=\"dataframe\">\n",
       "  <thead>\n",
       "    <tr style=\"text-align: right;\">\n",
       "      <th></th>\n",
       "      <th>id</th>\n",
       "      <th>member_id</th>\n",
       "      <th>loan_amnt</th>\n",
       "      <th>funded_amnt</th>\n",
       "      <th>funded_amnt_inv</th>\n",
       "      <th>term</th>\n",
       "      <th>int_rate</th>\n",
       "      <th>installment</th>\n",
       "      <th>grade</th>\n",
       "      <th>sub_grade</th>\n",
       "      <th>...</th>\n",
       "      <th>il_util</th>\n",
       "      <th>open_rv_12m</th>\n",
       "      <th>open_rv_24m</th>\n",
       "      <th>max_bal_bc</th>\n",
       "      <th>all_util</th>\n",
       "      <th>total_rev_hi_lim</th>\n",
       "      <th>inq_fi</th>\n",
       "      <th>total_cu_tl</th>\n",
       "      <th>inq_last_12m</th>\n",
       "      <th>default_ind</th>\n",
       "    </tr>\n",
       "  </thead>\n",
       "  <tbody>\n",
       "    <tr>\n",
       "      <th>3563</th>\n",
       "      <td>1016416</td>\n",
       "      <td>1244120</td>\n",
       "      <td>8000.0</td>\n",
       "      <td>8000.0</td>\n",
       "      <td>8000.0</td>\n",
       "      <td>36 months</td>\n",
       "      <td>19.42</td>\n",
       "      <td>294.95</td>\n",
       "      <td>E</td>\n",
       "      <td>E3</td>\n",
       "      <td>...</td>\n",
       "      <td>NaN</td>\n",
       "      <td>NaN</td>\n",
       "      <td>NaN</td>\n",
       "      <td>NaN</td>\n",
       "      <td>NaN</td>\n",
       "      <td>NaN</td>\n",
       "      <td>NaN</td>\n",
       "      <td>NaN</td>\n",
       "      <td>NaN</td>\n",
       "      <td>0</td>\n",
       "    </tr>\n",
       "    <tr>\n",
       "      <th>4712</th>\n",
       "      <td>997734</td>\n",
       "      <td>1222858</td>\n",
       "      <td>6100.0</td>\n",
       "      <td>6100.0</td>\n",
       "      <td>6100.0</td>\n",
       "      <td>36 months</td>\n",
       "      <td>14.27</td>\n",
       "      <td>209.29</td>\n",
       "      <td>C</td>\n",
       "      <td>C2</td>\n",
       "      <td>...</td>\n",
       "      <td>NaN</td>\n",
       "      <td>NaN</td>\n",
       "      <td>NaN</td>\n",
       "      <td>NaN</td>\n",
       "      <td>NaN</td>\n",
       "      <td>NaN</td>\n",
       "      <td>NaN</td>\n",
       "      <td>NaN</td>\n",
       "      <td>NaN</td>\n",
       "      <td>1</td>\n",
       "    </tr>\n",
       "    <tr>\n",
       "      <th>4942</th>\n",
       "      <td>790093</td>\n",
       "      <td>994164</td>\n",
       "      <td>7200.0</td>\n",
       "      <td>7200.0</td>\n",
       "      <td>7200.0</td>\n",
       "      <td>36 months</td>\n",
       "      <td>14.27</td>\n",
       "      <td>247.03</td>\n",
       "      <td>C</td>\n",
       "      <td>C2</td>\n",
       "      <td>...</td>\n",
       "      <td>NaN</td>\n",
       "      <td>NaN</td>\n",
       "      <td>NaN</td>\n",
       "      <td>NaN</td>\n",
       "      <td>NaN</td>\n",
       "      <td>NaN</td>\n",
       "      <td>NaN</td>\n",
       "      <td>NaN</td>\n",
       "      <td>NaN</td>\n",
       "      <td>0</td>\n",
       "    </tr>\n",
       "    <tr>\n",
       "      <th>11269</th>\n",
       "      <td>817195</td>\n",
       "      <td>1024992</td>\n",
       "      <td>5000.0</td>\n",
       "      <td>5000.0</td>\n",
       "      <td>5000.0</td>\n",
       "      <td>36 months</td>\n",
       "      <td>21.36</td>\n",
       "      <td>189.31</td>\n",
       "      <td>F</td>\n",
       "      <td>F4</td>\n",
       "      <td>...</td>\n",
       "      <td>NaN</td>\n",
       "      <td>NaN</td>\n",
       "      <td>NaN</td>\n",
       "      <td>NaN</td>\n",
       "      <td>NaN</td>\n",
       "      <td>NaN</td>\n",
       "      <td>NaN</td>\n",
       "      <td>NaN</td>\n",
       "      <td>NaN</td>\n",
       "      <td>0</td>\n",
       "    </tr>\n",
       "    <tr>\n",
       "      <th>12026</th>\n",
       "      <td>804073</td>\n",
       "      <td>1009899</td>\n",
       "      <td>3000.0</td>\n",
       "      <td>3000.0</td>\n",
       "      <td>3000.0</td>\n",
       "      <td>60 months</td>\n",
       "      <td>22.11</td>\n",
       "      <td>83.05</td>\n",
       "      <td>G</td>\n",
       "      <td>G1</td>\n",
       "      <td>...</td>\n",
       "      <td>NaN</td>\n",
       "      <td>NaN</td>\n",
       "      <td>NaN</td>\n",
       "      <td>NaN</td>\n",
       "      <td>NaN</td>\n",
       "      <td>NaN</td>\n",
       "      <td>NaN</td>\n",
       "      <td>NaN</td>\n",
       "      <td>NaN</td>\n",
       "      <td>1</td>\n",
       "    </tr>\n",
       "    <tr>\n",
       "      <th>...</th>\n",
       "      <td>...</td>\n",
       "      <td>...</td>\n",
       "      <td>...</td>\n",
       "      <td>...</td>\n",
       "      <td>...</td>\n",
       "      <td>...</td>\n",
       "      <td>...</td>\n",
       "      <td>...</td>\n",
       "      <td>...</td>\n",
       "      <td>...</td>\n",
       "      <td>...</td>\n",
       "      <td>...</td>\n",
       "      <td>...</td>\n",
       "      <td>...</td>\n",
       "      <td>...</td>\n",
       "      <td>...</td>\n",
       "      <td>...</td>\n",
       "      <td>...</td>\n",
       "      <td>...</td>\n",
       "      <td>...</td>\n",
       "      <td>...</td>\n",
       "    </tr>\n",
       "    <tr>\n",
       "      <th>841406</th>\n",
       "      <td>38548365</td>\n",
       "      <td>41332242</td>\n",
       "      <td>17275.0</td>\n",
       "      <td>17275.0</td>\n",
       "      <td>17275.0</td>\n",
       "      <td>60 months</td>\n",
       "      <td>16.49</td>\n",
       "      <td>424.61</td>\n",
       "      <td>D</td>\n",
       "      <td>D3</td>\n",
       "      <td>...</td>\n",
       "      <td>NaN</td>\n",
       "      <td>NaN</td>\n",
       "      <td>NaN</td>\n",
       "      <td>NaN</td>\n",
       "      <td>NaN</td>\n",
       "      <td>4500.0</td>\n",
       "      <td>NaN</td>\n",
       "      <td>NaN</td>\n",
       "      <td>NaN</td>\n",
       "      <td>0</td>\n",
       "    </tr>\n",
       "    <tr>\n",
       "      <th>851788</th>\n",
       "      <td>38262179</td>\n",
       "      <td>41045939</td>\n",
       "      <td>35000.0</td>\n",
       "      <td>35000.0</td>\n",
       "      <td>35000.0</td>\n",
       "      <td>36 months</td>\n",
       "      <td>13.66</td>\n",
       "      <td>1190.45</td>\n",
       "      <td>C</td>\n",
       "      <td>C3</td>\n",
       "      <td>...</td>\n",
       "      <td>NaN</td>\n",
       "      <td>NaN</td>\n",
       "      <td>NaN</td>\n",
       "      <td>NaN</td>\n",
       "      <td>NaN</td>\n",
       "      <td>0.0</td>\n",
       "      <td>NaN</td>\n",
       "      <td>NaN</td>\n",
       "      <td>NaN</td>\n",
       "      <td>0</td>\n",
       "    </tr>\n",
       "    <tr>\n",
       "      <th>851857</th>\n",
       "      <td>38282621</td>\n",
       "      <td>41066402</td>\n",
       "      <td>3350.0</td>\n",
       "      <td>3350.0</td>\n",
       "      <td>3350.0</td>\n",
       "      <td>36 months</td>\n",
       "      <td>9.49</td>\n",
       "      <td>107.30</td>\n",
       "      <td>B</td>\n",
       "      <td>B2</td>\n",
       "      <td>...</td>\n",
       "      <td>NaN</td>\n",
       "      <td>NaN</td>\n",
       "      <td>NaN</td>\n",
       "      <td>NaN</td>\n",
       "      <td>NaN</td>\n",
       "      <td>0.0</td>\n",
       "      <td>NaN</td>\n",
       "      <td>NaN</td>\n",
       "      <td>NaN</td>\n",
       "      <td>0</td>\n",
       "    </tr>\n",
       "    <tr>\n",
       "      <th>851923</th>\n",
       "      <td>38342391</td>\n",
       "      <td>41126161</td>\n",
       "      <td>9500.0</td>\n",
       "      <td>9500.0</td>\n",
       "      <td>9500.0</td>\n",
       "      <td>36 months</td>\n",
       "      <td>8.67</td>\n",
       "      <td>300.65</td>\n",
       "      <td>B</td>\n",
       "      <td>B1</td>\n",
       "      <td>...</td>\n",
       "      <td>NaN</td>\n",
       "      <td>NaN</td>\n",
       "      <td>NaN</td>\n",
       "      <td>NaN</td>\n",
       "      <td>NaN</td>\n",
       "      <td>90000.0</td>\n",
       "      <td>NaN</td>\n",
       "      <td>NaN</td>\n",
       "      <td>NaN</td>\n",
       "      <td>0</td>\n",
       "    </tr>\n",
       "    <tr>\n",
       "      <th>855827</th>\n",
       "      <td>37197963</td>\n",
       "      <td>39970763</td>\n",
       "      <td>35000.0</td>\n",
       "      <td>35000.0</td>\n",
       "      <td>35000.0</td>\n",
       "      <td>60 months</td>\n",
       "      <td>12.99</td>\n",
       "      <td>796.18</td>\n",
       "      <td>C</td>\n",
       "      <td>C2</td>\n",
       "      <td>...</td>\n",
       "      <td>NaN</td>\n",
       "      <td>NaN</td>\n",
       "      <td>NaN</td>\n",
       "      <td>NaN</td>\n",
       "      <td>NaN</td>\n",
       "      <td>0.0</td>\n",
       "      <td>NaN</td>\n",
       "      <td>NaN</td>\n",
       "      <td>NaN</td>\n",
       "      <td>0</td>\n",
       "    </tr>\n",
       "  </tbody>\n",
       "</table>\n",
       "<p>446 rows × 73 columns</p>\n",
       "</div>"
      ],
      "text/plain": [
       "              id  member_id  loan_amnt  funded_amnt  funded_amnt_inv  \\\n",
       "3563     1016416    1244120     8000.0       8000.0           8000.0   \n",
       "4712      997734    1222858     6100.0       6100.0           6100.0   \n",
       "4942      790093     994164     7200.0       7200.0           7200.0   \n",
       "11269     817195    1024992     5000.0       5000.0           5000.0   \n",
       "12026     804073    1009899     3000.0       3000.0           3000.0   \n",
       "...          ...        ...        ...          ...              ...   \n",
       "841406  38548365   41332242    17275.0      17275.0          17275.0   \n",
       "851788  38262179   41045939    35000.0      35000.0          35000.0   \n",
       "851857  38282621   41066402     3350.0       3350.0           3350.0   \n",
       "851923  38342391   41126161     9500.0       9500.0           9500.0   \n",
       "855827  37197963   39970763    35000.0      35000.0          35000.0   \n",
       "\n",
       "              term  int_rate  installment grade sub_grade  ... il_util  \\\n",
       "3563     36 months     19.42       294.95     E        E3  ...     NaN   \n",
       "4712     36 months     14.27       209.29     C        C2  ...     NaN   \n",
       "4942     36 months     14.27       247.03     C        C2  ...     NaN   \n",
       "11269    36 months     21.36       189.31     F        F4  ...     NaN   \n",
       "12026    60 months     22.11        83.05     G        G1  ...     NaN   \n",
       "...            ...       ...          ...   ...       ...  ...     ...   \n",
       "841406   60 months     16.49       424.61     D        D3  ...     NaN   \n",
       "851788   36 months     13.66      1190.45     C        C3  ...     NaN   \n",
       "851857   36 months      9.49       107.30     B        B2  ...     NaN   \n",
       "851923   36 months      8.67       300.65     B        B1  ...     NaN   \n",
       "855827   60 months     12.99       796.18     C        C2  ...     NaN   \n",
       "\n",
       "       open_rv_12m open_rv_24m  max_bal_bc all_util total_rev_hi_lim inq_fi  \\\n",
       "3563           NaN         NaN         NaN      NaN              NaN    NaN   \n",
       "4712           NaN         NaN         NaN      NaN              NaN    NaN   \n",
       "4942           NaN         NaN         NaN      NaN              NaN    NaN   \n",
       "11269          NaN         NaN         NaN      NaN              NaN    NaN   \n",
       "12026          NaN         NaN         NaN      NaN              NaN    NaN   \n",
       "...            ...         ...         ...      ...              ...    ...   \n",
       "841406         NaN         NaN         NaN      NaN           4500.0    NaN   \n",
       "851788         NaN         NaN         NaN      NaN              0.0    NaN   \n",
       "851857         NaN         NaN         NaN      NaN              0.0    NaN   \n",
       "851923         NaN         NaN         NaN      NaN          90000.0    NaN   \n",
       "855827         NaN         NaN         NaN      NaN              0.0    NaN   \n",
       "\n",
       "       total_cu_tl inq_last_12m default_ind  \n",
       "3563           NaN          NaN           0  \n",
       "4712           NaN          NaN           1  \n",
       "4942           NaN          NaN           0  \n",
       "11269          NaN          NaN           0  \n",
       "12026          NaN          NaN           1  \n",
       "...            ...          ...         ...  \n",
       "841406         NaN          NaN           0  \n",
       "851788         NaN          NaN           0  \n",
       "851857         NaN          NaN           0  \n",
       "851923         NaN          NaN           0  \n",
       "855827         NaN          NaN           0  \n",
       "\n",
       "[446 rows x 73 columns]"
      ]
     },
     "execution_count": 217,
     "metadata": {},
     "output_type": "execute_result"
    }
   ],
   "source": [
    "df[df[\"revol_util\"].isna()]"
   ]
  },
  {
   "cell_type": "code",
   "execution_count": 218,
   "id": "85dc7547",
   "metadata": {},
   "outputs": [],
   "source": [
    "identical = df_clean[\"loan_amnt\"] == df_clean[\"funded_amnt\"]"
   ]
  },
  {
   "cell_type": "code",
   "execution_count": 219,
   "id": "58077dda",
   "metadata": {},
   "outputs": [
    {
     "data": {
      "text/html": [
       "<div>\n",
       "<style scoped>\n",
       "    .dataframe tbody tr th:only-of-type {\n",
       "        vertical-align: middle;\n",
       "    }\n",
       "\n",
       "    .dataframe tbody tr th {\n",
       "        vertical-align: top;\n",
       "    }\n",
       "\n",
       "    .dataframe thead th {\n",
       "        text-align: right;\n",
       "    }\n",
       "</style>\n",
       "<table border=\"1\" class=\"dataframe\">\n",
       "  <thead>\n",
       "    <tr style=\"text-align: right;\">\n",
       "      <th></th>\n",
       "      <th>id</th>\n",
       "      <th>member_id</th>\n",
       "      <th>loan_amnt</th>\n",
       "      <th>funded_amnt</th>\n",
       "      <th>funded_amnt_inv</th>\n",
       "      <th>term</th>\n",
       "      <th>int_rate</th>\n",
       "      <th>installment</th>\n",
       "      <th>grade</th>\n",
       "      <th>sub_grade</th>\n",
       "      <th>...</th>\n",
       "      <th>last_credit_pull_d</th>\n",
       "      <th>collections_12_mths_ex_med</th>\n",
       "      <th>mths_since_last_major_derog</th>\n",
       "      <th>policy_code</th>\n",
       "      <th>application_type</th>\n",
       "      <th>acc_now_delinq</th>\n",
       "      <th>tot_coll_amt</th>\n",
       "      <th>tot_cur_bal</th>\n",
       "      <th>total_rev_hi_lim</th>\n",
       "      <th>default_ind</th>\n",
       "    </tr>\n",
       "  </thead>\n",
       "  <tbody>\n",
       "    <tr>\n",
       "      <th>61</th>\n",
       "      <td>1068934</td>\n",
       "      <td>1277395</td>\n",
       "      <td>17500.0</td>\n",
       "      <td>8950.0</td>\n",
       "      <td>8925.0</td>\n",
       "      <td>60 months</td>\n",
       "      <td>17.27</td>\n",
       "      <td>223.74</td>\n",
       "      <td>D</td>\n",
       "      <td>D3</td>\n",
       "      <td>...</td>\n",
       "      <td>Jan-2016</td>\n",
       "      <td>0.0</td>\n",
       "      <td>999.0</td>\n",
       "      <td>1.0</td>\n",
       "      <td>INDIVIDUAL</td>\n",
       "      <td>0.0</td>\n",
       "      <td>NaN</td>\n",
       "      <td>NaN</td>\n",
       "      <td>NaN</td>\n",
       "      <td>0</td>\n",
       "    </tr>\n",
       "    <tr>\n",
       "      <th>66</th>\n",
       "      <td>1069093</td>\n",
       "      <td>1303740</td>\n",
       "      <td>12500.0</td>\n",
       "      <td>8925.0</td>\n",
       "      <td>8925.0</td>\n",
       "      <td>60 months</td>\n",
       "      <td>17.27</td>\n",
       "      <td>223.11</td>\n",
       "      <td>D</td>\n",
       "      <td>D3</td>\n",
       "      <td>...</td>\n",
       "      <td>Jan-2016</td>\n",
       "      <td>0.0</td>\n",
       "      <td>999.0</td>\n",
       "      <td>1.0</td>\n",
       "      <td>INDIVIDUAL</td>\n",
       "      <td>0.0</td>\n",
       "      <td>NaN</td>\n",
       "      <td>NaN</td>\n",
       "      <td>NaN</td>\n",
       "      <td>1</td>\n",
       "    </tr>\n",
       "    <tr>\n",
       "      <th>70</th>\n",
       "      <td>1069043</td>\n",
       "      <td>1303486</td>\n",
       "      <td>20975.0</td>\n",
       "      <td>13575.0</td>\n",
       "      <td>13550.0</td>\n",
       "      <td>60 months</td>\n",
       "      <td>17.58</td>\n",
       "      <td>341.63</td>\n",
       "      <td>D</td>\n",
       "      <td>D4</td>\n",
       "      <td>...</td>\n",
       "      <td>Apr-2014</td>\n",
       "      <td>0.0</td>\n",
       "      <td>999.0</td>\n",
       "      <td>1.0</td>\n",
       "      <td>INDIVIDUAL</td>\n",
       "      <td>0.0</td>\n",
       "      <td>NaN</td>\n",
       "      <td>NaN</td>\n",
       "      <td>NaN</td>\n",
       "      <td>0</td>\n",
       "    </tr>\n",
       "    <tr>\n",
       "      <th>77</th>\n",
       "      <td>1068416</td>\n",
       "      <td>1302799</td>\n",
       "      <td>7250.0</td>\n",
       "      <td>7200.0</td>\n",
       "      <td>7175.0</td>\n",
       "      <td>60 months</td>\n",
       "      <td>21.67</td>\n",
       "      <td>197.51</td>\n",
       "      <td>F</td>\n",
       "      <td>F3</td>\n",
       "      <td>...</td>\n",
       "      <td>Jan-2016</td>\n",
       "      <td>0.0</td>\n",
       "      <td>999.0</td>\n",
       "      <td>1.0</td>\n",
       "      <td>INDIVIDUAL</td>\n",
       "      <td>0.0</td>\n",
       "      <td>NaN</td>\n",
       "      <td>NaN</td>\n",
       "      <td>NaN</td>\n",
       "      <td>0</td>\n",
       "    </tr>\n",
       "    <tr>\n",
       "      <th>80</th>\n",
       "      <td>1068994</td>\n",
       "      <td>1303432</td>\n",
       "      <td>35000.0</td>\n",
       "      <td>22075.0</td>\n",
       "      <td>22050.0</td>\n",
       "      <td>60 months</td>\n",
       "      <td>17.27</td>\n",
       "      <td>551.84</td>\n",
       "      <td>D</td>\n",
       "      <td>D3</td>\n",
       "      <td>...</td>\n",
       "      <td>Feb-2014</td>\n",
       "      <td>0.0</td>\n",
       "      <td>999.0</td>\n",
       "      <td>1.0</td>\n",
       "      <td>INDIVIDUAL</td>\n",
       "      <td>0.0</td>\n",
       "      <td>NaN</td>\n",
       "      <td>NaN</td>\n",
       "      <td>NaN</td>\n",
       "      <td>0</td>\n",
       "    </tr>\n",
       "    <tr>\n",
       "      <th>...</th>\n",
       "      <td>...</td>\n",
       "      <td>...</td>\n",
       "      <td>...</td>\n",
       "      <td>...</td>\n",
       "      <td>...</td>\n",
       "      <td>...</td>\n",
       "      <td>...</td>\n",
       "      <td>...</td>\n",
       "      <td>...</td>\n",
       "      <td>...</td>\n",
       "      <td>...</td>\n",
       "      <td>...</td>\n",
       "      <td>...</td>\n",
       "      <td>...</td>\n",
       "      <td>...</td>\n",
       "      <td>...</td>\n",
       "      <td>...</td>\n",
       "      <td>...</td>\n",
       "      <td>...</td>\n",
       "      <td>...</td>\n",
       "      <td>...</td>\n",
       "    </tr>\n",
       "    <tr>\n",
       "      <th>224394</th>\n",
       "      <td>1042487</td>\n",
       "      <td>1272771</td>\n",
       "      <td>20000.0</td>\n",
       "      <td>13675.0</td>\n",
       "      <td>6675.0</td>\n",
       "      <td>60 months</td>\n",
       "      <td>19.91</td>\n",
       "      <td>361.62</td>\n",
       "      <td>E</td>\n",
       "      <td>E4</td>\n",
       "      <td>...</td>\n",
       "      <td>Aug-2014</td>\n",
       "      <td>0.0</td>\n",
       "      <td>999.0</td>\n",
       "      <td>1.0</td>\n",
       "      <td>INDIVIDUAL</td>\n",
       "      <td>0.0</td>\n",
       "      <td>NaN</td>\n",
       "      <td>NaN</td>\n",
       "      <td>NaN</td>\n",
       "      <td>0</td>\n",
       "    </tr>\n",
       "    <tr>\n",
       "      <th>224396</th>\n",
       "      <td>1063649</td>\n",
       "      <td>1296212</td>\n",
       "      <td>17500.0</td>\n",
       "      <td>16800.0</td>\n",
       "      <td>16775.0</td>\n",
       "      <td>60 months</td>\n",
       "      <td>22.74</td>\n",
       "      <td>471.10</td>\n",
       "      <td>G</td>\n",
       "      <td>G1</td>\n",
       "      <td>...</td>\n",
       "      <td>Jan-2016</td>\n",
       "      <td>0.0</td>\n",
       "      <td>999.0</td>\n",
       "      <td>1.0</td>\n",
       "      <td>INDIVIDUAL</td>\n",
       "      <td>0.0</td>\n",
       "      <td>NaN</td>\n",
       "      <td>NaN</td>\n",
       "      <td>NaN</td>\n",
       "      <td>1</td>\n",
       "    </tr>\n",
       "    <tr>\n",
       "      <th>224397</th>\n",
       "      <td>1062754</td>\n",
       "      <td>1295040</td>\n",
       "      <td>35000.0</td>\n",
       "      <td>22550.0</td>\n",
       "      <td>22550.0</td>\n",
       "      <td>60 months</td>\n",
       "      <td>14.27</td>\n",
       "      <td>527.87</td>\n",
       "      <td>C</td>\n",
       "      <td>C2</td>\n",
       "      <td>...</td>\n",
       "      <td>Jan-2016</td>\n",
       "      <td>0.0</td>\n",
       "      <td>999.0</td>\n",
       "      <td>1.0</td>\n",
       "      <td>INDIVIDUAL</td>\n",
       "      <td>0.0</td>\n",
       "      <td>NaN</td>\n",
       "      <td>NaN</td>\n",
       "      <td>NaN</td>\n",
       "      <td>1</td>\n",
       "    </tr>\n",
       "    <tr>\n",
       "      <th>224400</th>\n",
       "      <td>1062334</td>\n",
       "      <td>1294400</td>\n",
       "      <td>20000.0</td>\n",
       "      <td>12675.0</td>\n",
       "      <td>12675.0</td>\n",
       "      <td>60 months</td>\n",
       "      <td>14.27</td>\n",
       "      <td>296.71</td>\n",
       "      <td>C</td>\n",
       "      <td>C2</td>\n",
       "      <td>...</td>\n",
       "      <td>Jan-2016</td>\n",
       "      <td>0.0</td>\n",
       "      <td>999.0</td>\n",
       "      <td>1.0</td>\n",
       "      <td>INDIVIDUAL</td>\n",
       "      <td>0.0</td>\n",
       "      <td>NaN</td>\n",
       "      <td>NaN</td>\n",
       "      <td>NaN</td>\n",
       "      <td>0</td>\n",
       "    </tr>\n",
       "    <tr>\n",
       "      <th>224406</th>\n",
       "      <td>1058291</td>\n",
       "      <td>1289878</td>\n",
       "      <td>12000.0</td>\n",
       "      <td>7775.0</td>\n",
       "      <td>7775.0</td>\n",
       "      <td>60 months</td>\n",
       "      <td>15.27</td>\n",
       "      <td>186.08</td>\n",
       "      <td>C</td>\n",
       "      <td>C4</td>\n",
       "      <td>...</td>\n",
       "      <td>Jan-2016</td>\n",
       "      <td>0.0</td>\n",
       "      <td>999.0</td>\n",
       "      <td>1.0</td>\n",
       "      <td>INDIVIDUAL</td>\n",
       "      <td>0.0</td>\n",
       "      <td>NaN</td>\n",
       "      <td>NaN</td>\n",
       "      <td>NaN</td>\n",
       "      <td>0</td>\n",
       "    </tr>\n",
       "  </tbody>\n",
       "</table>\n",
       "<p>1917 rows × 55 columns</p>\n",
       "</div>"
      ],
      "text/plain": [
       "             id  member_id  loan_amnt  funded_amnt  funded_amnt_inv  \\\n",
       "61      1068934    1277395    17500.0       8950.0           8925.0   \n",
       "66      1069093    1303740    12500.0       8925.0           8925.0   \n",
       "70      1069043    1303486    20975.0      13575.0          13550.0   \n",
       "77      1068416    1302799     7250.0       7200.0           7175.0   \n",
       "80      1068994    1303432    35000.0      22075.0          22050.0   \n",
       "...         ...        ...        ...          ...              ...   \n",
       "224394  1042487    1272771    20000.0      13675.0           6675.0   \n",
       "224396  1063649    1296212    17500.0      16800.0          16775.0   \n",
       "224397  1062754    1295040    35000.0      22550.0          22550.0   \n",
       "224400  1062334    1294400    20000.0      12675.0          12675.0   \n",
       "224406  1058291    1289878    12000.0       7775.0           7775.0   \n",
       "\n",
       "              term  int_rate  installment grade sub_grade  ...  \\\n",
       "61       60 months     17.27       223.74     D        D3  ...   \n",
       "66       60 months     17.27       223.11     D        D3  ...   \n",
       "70       60 months     17.58       341.63     D        D4  ...   \n",
       "77       60 months     21.67       197.51     F        F3  ...   \n",
       "80       60 months     17.27       551.84     D        D3  ...   \n",
       "...            ...       ...          ...   ...       ...  ...   \n",
       "224394   60 months     19.91       361.62     E        E4  ...   \n",
       "224396   60 months     22.74       471.10     G        G1  ...   \n",
       "224397   60 months     14.27       527.87     C        C2  ...   \n",
       "224400   60 months     14.27       296.71     C        C2  ...   \n",
       "224406   60 months     15.27       186.08     C        C4  ...   \n",
       "\n",
       "       last_credit_pull_d collections_12_mths_ex_med  \\\n",
       "61               Jan-2016                        0.0   \n",
       "66               Jan-2016                        0.0   \n",
       "70               Apr-2014                        0.0   \n",
       "77               Jan-2016                        0.0   \n",
       "80               Feb-2014                        0.0   \n",
       "...                   ...                        ...   \n",
       "224394           Aug-2014                        0.0   \n",
       "224396           Jan-2016                        0.0   \n",
       "224397           Jan-2016                        0.0   \n",
       "224400           Jan-2016                        0.0   \n",
       "224406           Jan-2016                        0.0   \n",
       "\n",
       "       mths_since_last_major_derog  policy_code application_type  \\\n",
       "61                           999.0          1.0       INDIVIDUAL   \n",
       "66                           999.0          1.0       INDIVIDUAL   \n",
       "70                           999.0          1.0       INDIVIDUAL   \n",
       "77                           999.0          1.0       INDIVIDUAL   \n",
       "80                           999.0          1.0       INDIVIDUAL   \n",
       "...                            ...          ...              ...   \n",
       "224394                       999.0          1.0       INDIVIDUAL   \n",
       "224396                       999.0          1.0       INDIVIDUAL   \n",
       "224397                       999.0          1.0       INDIVIDUAL   \n",
       "224400                       999.0          1.0       INDIVIDUAL   \n",
       "224406                       999.0          1.0       INDIVIDUAL   \n",
       "\n",
       "       acc_now_delinq tot_coll_amt tot_cur_bal total_rev_hi_lim default_ind  \n",
       "61                0.0          NaN         NaN              NaN           0  \n",
       "66                0.0          NaN         NaN              NaN           1  \n",
       "70                0.0          NaN         NaN              NaN           0  \n",
       "77                0.0          NaN         NaN              NaN           0  \n",
       "80                0.0          NaN         NaN              NaN           0  \n",
       "...               ...          ...         ...              ...         ...  \n",
       "224394            0.0          NaN         NaN              NaN           0  \n",
       "224396            0.0          NaN         NaN              NaN           1  \n",
       "224397            0.0          NaN         NaN              NaN           1  \n",
       "224400            0.0          NaN         NaN              NaN           0  \n",
       "224406            0.0          NaN         NaN              NaN           0  \n",
       "\n",
       "[1917 rows x 55 columns]"
      ]
     },
     "execution_count": 219,
     "metadata": {},
     "output_type": "execute_result"
    }
   ],
   "source": [
    "df_clean[~identical]"
   ]
  },
  {
   "cell_type": "markdown",
   "id": "1cc939f2",
   "metadata": {},
   "source": [
    "Only 7 cases where the funded amount is equal to the loan amount, otherwise identical. Therefore dropping funded amount"
   ]
  },
  {
   "cell_type": "code",
   "execution_count": 21,
   "id": "3c7a76eb",
   "metadata": {},
   "outputs": [],
   "source": [
    "df_clean = df_clean.drop([\"funded_amnt\"], axis = 1)"
   ]
  },
  {
   "cell_type": "code",
   "execution_count": 22,
   "id": "a1d4cd8d",
   "metadata": {},
   "outputs": [],
   "source": [
    "df_clean[\"funded_amnt_inv_perc\"] = df_clean[\"funded_amnt_inv\"]/df_clean[\"loan_amnt\"]\n",
    "df_clean = df_clean.drop([\"funded_amnt_inv\"],axis = 1)"
   ]
  },
  {
   "cell_type": "code",
   "execution_count": 23,
   "id": "2949111a",
   "metadata": {},
   "outputs": [],
   "source": [
    "east = ['CT','MA','ME','NH','NJ','NY','PA','RI','VT']\n",
    "midwest = ['IA','IL','IN','KS','MI','MN','MO','ND','NE','OH','SD','WI']\n",
    "south = ['AL','AR','DC','DE','FL','GA','KY','LA','MD','MS','NC','OK','SC','TN','TX','VA','WV']\n",
    "west = ['AK','AZ','CA','CO','HI','ID','MT','NM','NV','OR','UT','WA','WY']\n",
    "df_clean[\"region\"] = df_clean[\"addr_state\"].apply(lambda x: \"East\" if x in east else\n",
    "                                       (\"Midwest\" if x in midwest else\n",
    "                                        (\"South\" if x in south else\n",
    "                                         (\"West\" if x in west else np.nan))))\n",
    "#Adding region field to avoid having 50+ features just for location after OHE "
   ]
  },
  {
   "cell_type": "code",
   "execution_count": 24,
   "id": "fdeb970a",
   "metadata": {},
   "outputs": [],
   "source": [
    "df_clean = df_clean.drop([\"emp_title\",\"title\",\"zip_code\",\"addr_state\"],axis = 1)\n",
    "#dropping text-based columns remaining\n",
    "df_clean[\"term\"] = df_clean[\"term\"].apply(lambda x:x.strip().split(\" \")[0])\n",
    "#removing the months part from term, leaving only an integer\n",
    "df_clean = df_clean.drop([\"pymnt_plan\"], axis = 1)\n",
    "#dropping pymnt_plan as only 5 values have a 'y' value, so not adding any information\n",
    "df_clean = df_clean.dropna()\n",
    "df_clean[\"emp_length\"] = df_clean[\"emp_length\"].replace({\"10+ years\":\"10\",\"< 1 year\":\"0\"}).apply(lambda x:int(x.strip().split()[0]))\n",
    "#Change emp_length to be numerical, with values 0-10\n",
    "df_clean[\"purpose\"] = df_clean[\"purpose\"].replace({\"educational\":\"other\"})\n",
    "#only one value with educational, so classifying as other to prevent extra OHE col\n",
    "df_clean = df_clean.drop([\"member_id\",\"id\"], axis = 1)\n",
    "#ids don't provide any info on the general patterns since each one is unique"
   ]
  },
  {
   "cell_type": "code",
   "execution_count": 224,
   "id": "1052ee5d",
   "metadata": {},
   "outputs": [
    {
     "data": {
      "text/plain": [
       "debt_consolidation    444107\n",
       "credit_card           177312\n",
       "home_improvement       41754\n",
       "other                  32310\n",
       "major_purchase         12642\n",
       "small_business          6728\n",
       "medical                 6520\n",
       "car                     6055\n",
       "moving                  4027\n",
       "vacation                3640\n",
       "house                   2705\n",
       "wedding                  849\n",
       "renewable_energy         386\n",
       "Name: purpose, dtype: int64"
      ]
     },
     "execution_count": 224,
     "metadata": {},
     "output_type": "execute_result"
    }
   ],
   "source": [
    "df_clean[\"purpose\"].value_counts()"
   ]
  },
  {
   "cell_type": "code",
   "execution_count": 225,
   "id": "b85c83ee",
   "metadata": {},
   "outputs": [
    {
     "data": {
      "text/plain": [
       "loan_amnt                                 27050.0\n",
       "term                                           36\n",
       "int_rate                                    10.99\n",
       "installment                                885.46\n",
       "grade                                           B\n",
       "sub_grade                                      B2\n",
       "emp_length                                     10\n",
       "home_ownership                                OWN\n",
       "annual_inc                                55000.0\n",
       "verification_status                      Verified\n",
       "issue_d                                  Dec-2013\n",
       "purpose                        debt_consolidation\n",
       "dti                                         22.87\n",
       "delinq_2yrs                                   0.0\n",
       "earliest_cr_line                         Oct-1986\n",
       "inq_last_6mths                                0.0\n",
       "mths_since_last_delinq                      999.0\n",
       "mths_since_last_record                      999.0\n",
       "open_acc                                     14.0\n",
       "pub_rec                                       0.0\n",
       "revol_bal                                 36638.0\n",
       "revol_util                                   61.2\n",
       "total_acc                                    27.0\n",
       "initial_list_status                             w\n",
       "out_prncp                                 10018.9\n",
       "out_prncp_inv                             10018.9\n",
       "total_pymnt                              21251.04\n",
       "total_pymnt_inv                          21251.04\n",
       "total_rec_prncp                           17031.1\n",
       "total_rec_int                             4219.94\n",
       "total_rec_late_fee                            0.0\n",
       "recoveries                                    0.0\n",
       "collection_recovery_fee                       0.0\n",
       "last_pymnt_d                             Jan-2016\n",
       "last_pymnt_amnt                            885.46\n",
       "next_pymnt_d                             Feb-2016\n",
       "last_credit_pull_d                       Dec-2015\n",
       "collections_12_mths_ex_med                    0.0\n",
       "mths_since_last_major_derog                 999.0\n",
       "policy_code                                   1.0\n",
       "application_type                       INDIVIDUAL\n",
       "acc_now_delinq                                0.0\n",
       "tot_coll_amt                                  0.0\n",
       "tot_cur_bal                              114834.0\n",
       "total_rev_hi_lim                          59900.0\n",
       "default_ind                                     0\n",
       "funded_amnt_inv_perc                          1.0\n",
       "region                                    Midwest\n",
       "Name: 39694, dtype: object"
      ]
     },
     "execution_count": 225,
     "metadata": {},
     "output_type": "execute_result"
    }
   ],
   "source": [
    "df_clean.iloc[0]"
   ]
  },
  {
   "cell_type": "code",
   "execution_count": 226,
   "id": "bb56118e",
   "metadata": {},
   "outputs": [
    {
     "data": {
      "text/html": [
       "<div>\n",
       "<style scoped>\n",
       "    .dataframe tbody tr th:only-of-type {\n",
       "        vertical-align: middle;\n",
       "    }\n",
       "\n",
       "    .dataframe tbody tr th {\n",
       "        vertical-align: top;\n",
       "    }\n",
       "\n",
       "    .dataframe thead th {\n",
       "        text-align: right;\n",
       "    }\n",
       "</style>\n",
       "<table border=\"1\" class=\"dataframe\">\n",
       "  <thead>\n",
       "    <tr style=\"text-align: right;\">\n",
       "      <th></th>\n",
       "      <th>loan_amnt</th>\n",
       "      <th>int_rate</th>\n",
       "      <th>installment</th>\n",
       "      <th>emp_length</th>\n",
       "      <th>annual_inc</th>\n",
       "      <th>dti</th>\n",
       "      <th>delinq_2yrs</th>\n",
       "      <th>inq_last_6mths</th>\n",
       "      <th>mths_since_last_delinq</th>\n",
       "      <th>mths_since_last_record</th>\n",
       "      <th>...</th>\n",
       "      <th>last_pymnt_amnt</th>\n",
       "      <th>collections_12_mths_ex_med</th>\n",
       "      <th>mths_since_last_major_derog</th>\n",
       "      <th>policy_code</th>\n",
       "      <th>acc_now_delinq</th>\n",
       "      <th>tot_coll_amt</th>\n",
       "      <th>tot_cur_bal</th>\n",
       "      <th>total_rev_hi_lim</th>\n",
       "      <th>default_ind</th>\n",
       "      <th>funded_amnt_inv_perc</th>\n",
       "    </tr>\n",
       "  </thead>\n",
       "  <tbody>\n",
       "    <tr>\n",
       "      <th>loan_amnt</th>\n",
       "      <td>1.000000</td>\n",
       "      <td>0.129050</td>\n",
       "      <td>0.943675</td>\n",
       "      <td>0.095892</td>\n",
       "      <td>0.328936</td>\n",
       "      <td>0.031679</td>\n",
       "      <td>-0.007889</td>\n",
       "      <td>-0.028115</td>\n",
       "      <td>0.024389</td>\n",
       "      <td>0.118609</td>\n",
       "      <td>...</td>\n",
       "      <td>0.222767</td>\n",
       "      <td>-0.020866</td>\n",
       "      <td>0.079080</td>\n",
       "      <td>NaN</td>\n",
       "      <td>0.001047</td>\n",
       "      <td>-0.004034</td>\n",
       "      <td>0.323572</td>\n",
       "      <td>0.308720</td>\n",
       "      <td>0.002965</td>\n",
       "      <td>0.000989</td>\n",
       "    </tr>\n",
       "    <tr>\n",
       "      <th>int_rate</th>\n",
       "      <td>0.129050</td>\n",
       "      <td>1.000000</td>\n",
       "      <td>0.114734</td>\n",
       "      <td>0.005745</td>\n",
       "      <td>-0.084599</td>\n",
       "      <td>0.158645</td>\n",
       "      <td>0.048920</td>\n",
       "      <td>0.243064</td>\n",
       "      <td>-0.067048</td>\n",
       "      <td>-0.062367</td>\n",
       "      <td>...</td>\n",
       "      <td>0.106714</td>\n",
       "      <td>0.012033</td>\n",
       "      <td>-0.073869</td>\n",
       "      <td>NaN</td>\n",
       "      <td>0.026791</td>\n",
       "      <td>0.001210</td>\n",
       "      <td>-0.091860</td>\n",
       "      <td>-0.161537</td>\n",
       "      <td>0.161952</td>\n",
       "      <td>-0.024836</td>\n",
       "    </tr>\n",
       "    <tr>\n",
       "      <th>installment</th>\n",
       "      <td>0.943675</td>\n",
       "      <td>0.114734</td>\n",
       "      <td>1.000000</td>\n",
       "      <td>0.080577</td>\n",
       "      <td>0.323165</td>\n",
       "      <td>0.015327</td>\n",
       "      <td>0.000344</td>\n",
       "      <td>0.005860</td>\n",
       "      <td>0.011921</td>\n",
       "      <td>0.106060</td>\n",
       "      <td>...</td>\n",
       "      <td>0.236338</td>\n",
       "      <td>-0.018111</td>\n",
       "      <td>0.064683</td>\n",
       "      <td>NaN</td>\n",
       "      <td>0.004003</td>\n",
       "      <td>-0.003326</td>\n",
       "      <td>0.292995</td>\n",
       "      <td>0.283884</td>\n",
       "      <td>0.015615</td>\n",
       "      <td>-0.000969</td>\n",
       "    </tr>\n",
       "    <tr>\n",
       "      <th>emp_length</th>\n",
       "      <td>0.095892</td>\n",
       "      <td>0.005745</td>\n",
       "      <td>0.080577</td>\n",
       "      <td>1.000000</td>\n",
       "      <td>0.058873</td>\n",
       "      <td>0.033447</td>\n",
       "      <td>0.022319</td>\n",
       "      <td>-0.003604</td>\n",
       "      <td>-0.047193</td>\n",
       "      <td>-0.034484</td>\n",
       "      <td>...</td>\n",
       "      <td>0.027998</td>\n",
       "      <td>-0.006183</td>\n",
       "      <td>-0.029921</td>\n",
       "      <td>NaN</td>\n",
       "      <td>0.007990</td>\n",
       "      <td>-0.000630</td>\n",
       "      <td>0.097218</td>\n",
       "      <td>0.075622</td>\n",
       "      <td>-0.009705</td>\n",
       "      <td>0.002035</td>\n",
       "    </tr>\n",
       "    <tr>\n",
       "      <th>annual_inc</th>\n",
       "      <td>0.328936</td>\n",
       "      <td>-0.084599</td>\n",
       "      <td>0.323165</td>\n",
       "      <td>0.058873</td>\n",
       "      <td>1.000000</td>\n",
       "      <td>-0.187205</td>\n",
       "      <td>0.045224</td>\n",
       "      <td>0.038548</td>\n",
       "      <td>-0.052562</td>\n",
       "      <td>0.027464</td>\n",
       "      <td>...</td>\n",
       "      <td>0.085897</td>\n",
       "      <td>-0.004744</td>\n",
       "      <td>-0.014510</td>\n",
       "      <td>NaN</td>\n",
       "      <td>0.014855</td>\n",
       "      <td>0.001112</td>\n",
       "      <td>0.418504</td>\n",
       "      <td>0.269619</td>\n",
       "      <td>-0.032381</td>\n",
       "      <td>0.010660</td>\n",
       "    </tr>\n",
       "    <tr>\n",
       "      <th>dti</th>\n",
       "      <td>0.031679</td>\n",
       "      <td>0.158645</td>\n",
       "      <td>0.015327</td>\n",
       "      <td>0.033447</td>\n",
       "      <td>-0.187205</td>\n",
       "      <td>1.000000</td>\n",
       "      <td>-0.015748</td>\n",
       "      <td>-0.006468</td>\n",
       "      <td>0.039144</td>\n",
       "      <td>0.064978</td>\n",
       "      <td>...</td>\n",
       "      <td>-0.056438</td>\n",
       "      <td>-0.004131</td>\n",
       "      <td>0.059611</td>\n",
       "      <td>NaN</td>\n",
       "      <td>0.004964</td>\n",
       "      <td>-0.004285</td>\n",
       "      <td>-0.010831</td>\n",
       "      <td>0.071941</td>\n",
       "      <td>0.025117</td>\n",
       "      <td>-0.022129</td>\n",
       "    </tr>\n",
       "    <tr>\n",
       "      <th>delinq_2yrs</th>\n",
       "      <td>-0.007889</td>\n",
       "      <td>0.048920</td>\n",
       "      <td>0.000344</td>\n",
       "      <td>0.022319</td>\n",
       "      <td>0.045224</td>\n",
       "      <td>-0.015748</td>\n",
       "      <td>1.000000</td>\n",
       "      <td>0.026194</td>\n",
       "      <td>-0.377629</td>\n",
       "      <td>0.020785</td>\n",
       "      <td>...</td>\n",
       "      <td>-0.018162</td>\n",
       "      <td>0.062824</td>\n",
       "      <td>-0.250208</td>\n",
       "      <td>NaN</td>\n",
       "      <td>0.131658</td>\n",
       "      <td>0.000234</td>\n",
       "      <td>0.063048</td>\n",
       "      <td>-0.041551</td>\n",
       "      <td>-0.004496</td>\n",
       "      <td>-0.000081</td>\n",
       "    </tr>\n",
       "    <tr>\n",
       "      <th>inq_last_6mths</th>\n",
       "      <td>-0.028115</td>\n",
       "      <td>0.243064</td>\n",
       "      <td>0.005860</td>\n",
       "      <td>-0.003604</td>\n",
       "      <td>0.038548</td>\n",
       "      <td>-0.006468</td>\n",
       "      <td>0.026194</td>\n",
       "      <td>1.000000</td>\n",
       "      <td>-0.037476</td>\n",
       "      <td>-0.083412</td>\n",
       "      <td>...</td>\n",
       "      <td>0.066539</td>\n",
       "      <td>0.009346</td>\n",
       "      <td>-0.081912</td>\n",
       "      <td>NaN</td>\n",
       "      <td>-0.004570</td>\n",
       "      <td>0.003006</td>\n",
       "      <td>0.035044</td>\n",
       "      <td>0.006639</td>\n",
       "      <td>0.069409</td>\n",
       "      <td>0.008125</td>\n",
       "    </tr>\n",
       "    <tr>\n",
       "      <th>mths_since_last_delinq</th>\n",
       "      <td>0.024389</td>\n",
       "      <td>-0.067048</td>\n",
       "      <td>0.011921</td>\n",
       "      <td>-0.047193</td>\n",
       "      <td>-0.052562</td>\n",
       "      <td>0.039144</td>\n",
       "      <td>-0.377629</td>\n",
       "      <td>-0.037476</td>\n",
       "      <td>1.000000</td>\n",
       "      <td>0.015551</td>\n",
       "      <td>...</td>\n",
       "      <td>0.018020</td>\n",
       "      <td>-0.051441</td>\n",
       "      <td>0.557079</td>\n",
       "      <td>NaN</td>\n",
       "      <td>-0.071132</td>\n",
       "      <td>-0.012661</td>\n",
       "      <td>-0.056421</td>\n",
       "      <td>0.088357</td>\n",
       "      <td>0.012950</td>\n",
       "      <td>0.002548</td>\n",
       "    </tr>\n",
       "    <tr>\n",
       "      <th>mths_since_last_record</th>\n",
       "      <td>0.118609</td>\n",
       "      <td>-0.062367</td>\n",
       "      <td>0.106060</td>\n",
       "      <td>-0.034484</td>\n",
       "      <td>0.027464</td>\n",
       "      <td>0.064978</td>\n",
       "      <td>0.020785</td>\n",
       "      <td>-0.083412</td>\n",
       "      <td>0.015551</td>\n",
       "      <td>1.000000</td>\n",
       "      <td>...</td>\n",
       "      <td>0.029813</td>\n",
       "      <td>-0.021370</td>\n",
       "      <td>0.091074</td>\n",
       "      <td>NaN</td>\n",
       "      <td>0.003029</td>\n",
       "      <td>-0.005983</td>\n",
       "      <td>0.092595</td>\n",
       "      <td>0.124837</td>\n",
       "      <td>0.014289</td>\n",
       "      <td>-0.017059</td>\n",
       "    </tr>\n",
       "    <tr>\n",
       "      <th>open_acc</th>\n",
       "      <td>0.184765</td>\n",
       "      <td>-0.019437</td>\n",
       "      <td>0.168885</td>\n",
       "      <td>0.028314</td>\n",
       "      <td>0.129564</td>\n",
       "      <td>0.295032</td>\n",
       "      <td>0.045904</td>\n",
       "      <td>0.124326</td>\n",
       "      <td>-0.042237</td>\n",
       "      <td>0.036595</td>\n",
       "      <td>...</td>\n",
       "      <td>0.027641</td>\n",
       "      <td>0.007262</td>\n",
       "      <td>0.013347</td>\n",
       "      <td>NaN</td>\n",
       "      <td>0.016011</td>\n",
       "      <td>0.000005</td>\n",
       "      <td>0.241195</td>\n",
       "      <td>0.317648</td>\n",
       "      <td>-0.009748</td>\n",
       "      <td>0.003154</td>\n",
       "    </tr>\n",
       "    <tr>\n",
       "      <th>pub_rec</th>\n",
       "      <td>-0.086538</td>\n",
       "      <td>0.050309</td>\n",
       "      <td>-0.074907</td>\n",
       "      <td>0.027787</td>\n",
       "      <td>-0.005243</td>\n",
       "      <td>-0.060697</td>\n",
       "      <td>-0.013982</td>\n",
       "      <td>0.066292</td>\n",
       "      <td>-0.027936</td>\n",
       "      <td>-0.787952</td>\n",
       "      <td>...</td>\n",
       "      <td>-0.029893</td>\n",
       "      <td>0.019468</td>\n",
       "      <td>-0.078335</td>\n",
       "      <td>NaN</td>\n",
       "      <td>-0.002007</td>\n",
       "      <td>0.006484</td>\n",
       "      <td>-0.071522</td>\n",
       "      <td>-0.096609</td>\n",
       "      <td>-0.014069</td>\n",
       "      <td>0.009832</td>\n",
       "    </tr>\n",
       "    <tr>\n",
       "      <th>revol_bal</th>\n",
       "      <td>0.333992</td>\n",
       "      <td>-0.044447</td>\n",
       "      <td>0.316028</td>\n",
       "      <td>0.082060</td>\n",
       "      <td>0.296129</td>\n",
       "      <td>0.134427</td>\n",
       "      <td>-0.034963</td>\n",
       "      <td>-0.016072</td>\n",
       "      <td>0.077463</td>\n",
       "      <td>0.133267</td>\n",
       "      <td>...</td>\n",
       "      <td>0.056855</td>\n",
       "      <td>-0.024074</td>\n",
       "      <td>0.111393</td>\n",
       "      <td>NaN</td>\n",
       "      <td>-0.001239</td>\n",
       "      <td>-0.005852</td>\n",
       "      <td>0.443371</td>\n",
       "      <td>0.822134</td>\n",
       "      <td>-0.017474</td>\n",
       "      <td>-0.001363</td>\n",
       "    </tr>\n",
       "    <tr>\n",
       "      <th>revol_util</th>\n",
       "      <td>0.118470</td>\n",
       "      <td>0.250561</td>\n",
       "      <td>0.127796</td>\n",
       "      <td>0.031902</td>\n",
       "      <td>0.034628</td>\n",
       "      <td>0.168032</td>\n",
       "      <td>-0.018666</td>\n",
       "      <td>-0.087210</td>\n",
       "      <td>0.024935</td>\n",
       "      <td>0.108064</td>\n",
       "      <td>...</td>\n",
       "      <td>0.000664</td>\n",
       "      <td>-0.038812</td>\n",
       "      <td>0.034327</td>\n",
       "      <td>NaN</td>\n",
       "      <td>-0.028982</td>\n",
       "      <td>-0.008960</td>\n",
       "      <td>0.078468</td>\n",
       "      <td>-0.114195</td>\n",
       "      <td>0.042127</td>\n",
       "      <td>-0.019588</td>\n",
       "    </tr>\n",
       "    <tr>\n",
       "      <th>total_acc</th>\n",
       "      <td>0.211654</td>\n",
       "      <td>-0.044124</td>\n",
       "      <td>0.189122</td>\n",
       "      <td>0.091219</td>\n",
       "      <td>0.180122</td>\n",
       "      <td>0.221609</td>\n",
       "      <td>0.119110</td>\n",
       "      <td>0.147214</td>\n",
       "      <td>-0.172109</td>\n",
       "      <td>-0.029902</td>\n",
       "      <td>...</td>\n",
       "      <td>0.084710</td>\n",
       "      <td>0.007764</td>\n",
       "      <td>-0.130888</td>\n",
       "      <td>NaN</td>\n",
       "      <td>0.026066</td>\n",
       "      <td>0.006113</td>\n",
       "      <td>0.311082</td>\n",
       "      <td>0.251213</td>\n",
       "      <td>-0.011094</td>\n",
       "      <td>0.006624</td>\n",
       "    </tr>\n",
       "    <tr>\n",
       "      <th>out_prncp</th>\n",
       "      <td>0.656979</td>\n",
       "      <td>0.023034</td>\n",
       "      <td>0.549158</td>\n",
       "      <td>0.060233</td>\n",
       "      <td>0.212735</td>\n",
       "      <td>0.091893</td>\n",
       "      <td>0.015643</td>\n",
       "      <td>-0.100087</td>\n",
       "      <td>-0.010914</td>\n",
       "      <td>0.048020</td>\n",
       "      <td>...</td>\n",
       "      <td>-0.353764</td>\n",
       "      <td>0.007741</td>\n",
       "      <td>0.021076</td>\n",
       "      <td>NaN</td>\n",
       "      <td>0.006663</td>\n",
       "      <td>-0.000778</td>\n",
       "      <td>0.202893</td>\n",
       "      <td>0.217015</td>\n",
       "      <td>-0.221736</td>\n",
       "      <td>0.012659</td>\n",
       "    </tr>\n",
       "    <tr>\n",
       "      <th>out_prncp_inv</th>\n",
       "      <td>0.656990</td>\n",
       "      <td>0.022886</td>\n",
       "      <td>0.549157</td>\n",
       "      <td>0.060243</td>\n",
       "      <td>0.212781</td>\n",
       "      <td>0.091810</td>\n",
       "      <td>0.015632</td>\n",
       "      <td>-0.100114</td>\n",
       "      <td>-0.010894</td>\n",
       "      <td>0.048007</td>\n",
       "      <td>...</td>\n",
       "      <td>-0.353767</td>\n",
       "      <td>0.007724</td>\n",
       "      <td>0.021099</td>\n",
       "      <td>NaN</td>\n",
       "      <td>0.006653</td>\n",
       "      <td>-0.000778</td>\n",
       "      <td>0.202925</td>\n",
       "      <td>0.217056</td>\n",
       "      <td>-0.221737</td>\n",
       "      <td>0.014143</td>\n",
       "    </tr>\n",
       "    <tr>\n",
       "      <th>total_pymnt</th>\n",
       "      <td>0.476412</td>\n",
       "      <td>0.176081</td>\n",
       "      <td>0.524298</td>\n",
       "      <td>0.056579</td>\n",
       "      <td>0.157816</td>\n",
       "      <td>-0.067021</td>\n",
       "      <td>-0.024414</td>\n",
       "      <td>0.082525</td>\n",
       "      <td>0.036463</td>\n",
       "      <td>0.089602</td>\n",
       "      <td>...</td>\n",
       "      <td>0.688148</td>\n",
       "      <td>-0.035469</td>\n",
       "      <td>0.070978</td>\n",
       "      <td>NaN</td>\n",
       "      <td>-0.005340</td>\n",
       "      <td>-0.003928</td>\n",
       "      <td>0.166175</td>\n",
       "      <td>0.120235</td>\n",
       "      <td>-0.033051</td>\n",
       "      <td>-0.012372</td>\n",
       "    </tr>\n",
       "    <tr>\n",
       "      <th>total_pymnt_inv</th>\n",
       "      <td>0.476458</td>\n",
       "      <td>0.176157</td>\n",
       "      <td>0.524348</td>\n",
       "      <td>0.056579</td>\n",
       "      <td>0.157844</td>\n",
       "      <td>-0.067028</td>\n",
       "      <td>-0.024404</td>\n",
       "      <td>0.082590</td>\n",
       "      <td>0.036453</td>\n",
       "      <td>0.089580</td>\n",
       "      <td>...</td>\n",
       "      <td>0.688201</td>\n",
       "      <td>-0.035469</td>\n",
       "      <td>0.070970</td>\n",
       "      <td>NaN</td>\n",
       "      <td>-0.005344</td>\n",
       "      <td>-0.003927</td>\n",
       "      <td>0.166187</td>\n",
       "      <td>0.120245</td>\n",
       "      <td>-0.033056</td>\n",
       "      <td>-0.010962</td>\n",
       "    </tr>\n",
       "    <tr>\n",
       "      <th>total_rec_prncp</th>\n",
       "      <td>0.388465</td>\n",
       "      <td>0.060651</td>\n",
       "      <td>0.454572</td>\n",
       "      <td>0.044041</td>\n",
       "      <td>0.146741</td>\n",
       "      <td>-0.088571</td>\n",
       "      <td>-0.029832</td>\n",
       "      <td>0.065491</td>\n",
       "      <td>0.041747</td>\n",
       "      <td>0.083138</td>\n",
       "      <td>...</td>\n",
       "      <td>0.770393</td>\n",
       "      <td>-0.034174</td>\n",
       "      <td>0.069803</td>\n",
       "      <td>NaN</td>\n",
       "      <td>-0.007685</td>\n",
       "      <td>-0.003523</td>\n",
       "      <td>0.154472</td>\n",
       "      <td>0.118387</td>\n",
       "      <td>-0.082148</td>\n",
       "      <td>-0.014473</td>\n",
       "    </tr>\n",
       "    <tr>\n",
       "      <th>total_rec_int</th>\n",
       "      <td>0.540230</td>\n",
       "      <td>0.453236</td>\n",
       "      <td>0.507095</td>\n",
       "      <td>0.071749</td>\n",
       "      <td>0.123641</td>\n",
       "      <td>0.030895</td>\n",
       "      <td>0.003774</td>\n",
       "      <td>0.093058</td>\n",
       "      <td>0.002770</td>\n",
       "      <td>0.068796</td>\n",
       "      <td>...</td>\n",
       "      <td>0.125458</td>\n",
       "      <td>-0.023414</td>\n",
       "      <td>0.042255</td>\n",
       "      <td>NaN</td>\n",
       "      <td>0.004269</td>\n",
       "      <td>-0.003335</td>\n",
       "      <td>0.130833</td>\n",
       "      <td>0.073723</td>\n",
       "      <td>0.045869</td>\n",
       "      <td>0.000583</td>\n",
       "    </tr>\n",
       "    <tr>\n",
       "      <th>total_rec_late_fee</th>\n",
       "      <td>0.031570</td>\n",
       "      <td>0.052497</td>\n",
       "      <td>0.041702</td>\n",
       "      <td>-0.003185</td>\n",
       "      <td>0.011941</td>\n",
       "      <td>-0.002545</td>\n",
       "      <td>0.017581</td>\n",
       "      <td>0.018074</td>\n",
       "      <td>-0.014163</td>\n",
       "      <td>0.010494</td>\n",
       "      <td>...</td>\n",
       "      <td>-0.005697</td>\n",
       "      <td>-0.002233</td>\n",
       "      <td>-0.004028</td>\n",
       "      <td>NaN</td>\n",
       "      <td>0.004208</td>\n",
       "      <td>-0.000551</td>\n",
       "      <td>0.008307</td>\n",
       "      <td>-0.005788</td>\n",
       "      <td>0.132730</td>\n",
       "      <td>-0.001077</td>\n",
       "    </tr>\n",
       "    <tr>\n",
       "      <th>recoveries</th>\n",
       "      <td>0.071813</td>\n",
       "      <td>0.113071</td>\n",
       "      <td>0.075410</td>\n",
       "      <td>0.004481</td>\n",
       "      <td>0.005381</td>\n",
       "      <td>0.008678</td>\n",
       "      <td>0.000695</td>\n",
       "      <td>0.046066</td>\n",
       "      <td>0.002771</td>\n",
       "      <td>0.013465</td>\n",
       "      <td>...</td>\n",
       "      <td>-0.036096</td>\n",
       "      <td>-0.003778</td>\n",
       "      <td>0.007566</td>\n",
       "      <td>NaN</td>\n",
       "      <td>0.001905</td>\n",
       "      <td>-0.000993</td>\n",
       "      <td>0.002995</td>\n",
       "      <td>-0.000969</td>\n",
       "      <td>0.503496</td>\n",
       "      <td>-0.003646</td>\n",
       "    </tr>\n",
       "    <tr>\n",
       "      <th>collection_recovery_fee</th>\n",
       "      <td>0.058184</td>\n",
       "      <td>0.082048</td>\n",
       "      <td>0.060917</td>\n",
       "      <td>0.004771</td>\n",
       "      <td>0.005272</td>\n",
       "      <td>0.011188</td>\n",
       "      <td>0.001826</td>\n",
       "      <td>0.032957</td>\n",
       "      <td>0.000764</td>\n",
       "      <td>0.007972</td>\n",
       "      <td>...</td>\n",
       "      <td>-0.026829</td>\n",
       "      <td>-0.002687</td>\n",
       "      <td>0.004590</td>\n",
       "      <td>NaN</td>\n",
       "      <td>0.001154</td>\n",
       "      <td>-0.000641</td>\n",
       "      <td>0.004973</td>\n",
       "      <td>0.001108</td>\n",
       "      <td>0.377404</td>\n",
       "      <td>-0.001624</td>\n",
       "    </tr>\n",
       "    <tr>\n",
       "      <th>last_pymnt_amnt</th>\n",
       "      <td>0.222767</td>\n",
       "      <td>0.106714</td>\n",
       "      <td>0.236338</td>\n",
       "      <td>0.027998</td>\n",
       "      <td>0.085897</td>\n",
       "      <td>-0.056438</td>\n",
       "      <td>-0.018162</td>\n",
       "      <td>0.066539</td>\n",
       "      <td>0.018020</td>\n",
       "      <td>0.029813</td>\n",
       "      <td>...</td>\n",
       "      <td>1.000000</td>\n",
       "      <td>-0.016978</td>\n",
       "      <td>0.026455</td>\n",
       "      <td>NaN</td>\n",
       "      <td>-0.002521</td>\n",
       "      <td>-0.002449</td>\n",
       "      <td>0.100448</td>\n",
       "      <td>0.060931</td>\n",
       "      <td>-0.077278</td>\n",
       "      <td>-0.002628</td>\n",
       "    </tr>\n",
       "    <tr>\n",
       "      <th>collections_12_mths_ex_med</th>\n",
       "      <td>-0.020866</td>\n",
       "      <td>0.012033</td>\n",
       "      <td>-0.018111</td>\n",
       "      <td>-0.006183</td>\n",
       "      <td>-0.004744</td>\n",
       "      <td>-0.004131</td>\n",
       "      <td>0.062824</td>\n",
       "      <td>0.009346</td>\n",
       "      <td>-0.051441</td>\n",
       "      <td>-0.021370</td>\n",
       "      <td>...</td>\n",
       "      <td>-0.016978</td>\n",
       "      <td>1.000000</td>\n",
       "      <td>-0.078822</td>\n",
       "      <td>NaN</td>\n",
       "      <td>0.040515</td>\n",
       "      <td>0.009115</td>\n",
       "      <td>-0.010853</td>\n",
       "      <td>-0.016718</td>\n",
       "      <td>-0.008056</td>\n",
       "      <td>-0.003186</td>\n",
       "    </tr>\n",
       "    <tr>\n",
       "      <th>mths_since_last_major_derog</th>\n",
       "      <td>0.079080</td>\n",
       "      <td>-0.073869</td>\n",
       "      <td>0.064683</td>\n",
       "      <td>-0.029921</td>\n",
       "      <td>-0.014510</td>\n",
       "      <td>0.059611</td>\n",
       "      <td>-0.250208</td>\n",
       "      <td>-0.081912</td>\n",
       "      <td>0.557079</td>\n",
       "      <td>0.091074</td>\n",
       "      <td>...</td>\n",
       "      <td>0.026455</td>\n",
       "      <td>-0.078822</td>\n",
       "      <td>1.000000</td>\n",
       "      <td>NaN</td>\n",
       "      <td>-0.033208</td>\n",
       "      <td>-0.018639</td>\n",
       "      <td>0.009699</td>\n",
       "      <td>0.122770</td>\n",
       "      <td>0.009679</td>\n",
       "      <td>0.002285</td>\n",
       "    </tr>\n",
       "    <tr>\n",
       "      <th>policy_code</th>\n",
       "      <td>NaN</td>\n",
       "      <td>NaN</td>\n",
       "      <td>NaN</td>\n",
       "      <td>NaN</td>\n",
       "      <td>NaN</td>\n",
       "      <td>NaN</td>\n",
       "      <td>NaN</td>\n",
       "      <td>NaN</td>\n",
       "      <td>NaN</td>\n",
       "      <td>NaN</td>\n",
       "      <td>...</td>\n",
       "      <td>NaN</td>\n",
       "      <td>NaN</td>\n",
       "      <td>NaN</td>\n",
       "      <td>NaN</td>\n",
       "      <td>NaN</td>\n",
       "      <td>NaN</td>\n",
       "      <td>NaN</td>\n",
       "      <td>NaN</td>\n",
       "      <td>NaN</td>\n",
       "      <td>NaN</td>\n",
       "    </tr>\n",
       "    <tr>\n",
       "      <th>acc_now_delinq</th>\n",
       "      <td>0.001047</td>\n",
       "      <td>0.026791</td>\n",
       "      <td>0.004003</td>\n",
       "      <td>0.007990</td>\n",
       "      <td>0.014855</td>\n",
       "      <td>0.004964</td>\n",
       "      <td>0.131658</td>\n",
       "      <td>-0.004570</td>\n",
       "      <td>-0.071132</td>\n",
       "      <td>0.003029</td>\n",
       "      <td>...</td>\n",
       "      <td>-0.002521</td>\n",
       "      <td>0.040515</td>\n",
       "      <td>-0.033208</td>\n",
       "      <td>NaN</td>\n",
       "      <td>1.000000</td>\n",
       "      <td>0.000282</td>\n",
       "      <td>0.023238</td>\n",
       "      <td>0.008024</td>\n",
       "      <td>-0.001408</td>\n",
       "      <td>-0.001706</td>\n",
       "    </tr>\n",
       "    <tr>\n",
       "      <th>tot_coll_amt</th>\n",
       "      <td>-0.004034</td>\n",
       "      <td>0.001210</td>\n",
       "      <td>-0.003326</td>\n",
       "      <td>-0.000630</td>\n",
       "      <td>0.001112</td>\n",
       "      <td>-0.004285</td>\n",
       "      <td>0.000234</td>\n",
       "      <td>0.003006</td>\n",
       "      <td>-0.012661</td>\n",
       "      <td>-0.005983</td>\n",
       "      <td>...</td>\n",
       "      <td>-0.002449</td>\n",
       "      <td>0.009115</td>\n",
       "      <td>-0.018639</td>\n",
       "      <td>NaN</td>\n",
       "      <td>0.000282</td>\n",
       "      <td>1.000000</td>\n",
       "      <td>-0.000328</td>\n",
       "      <td>-0.004742</td>\n",
       "      <td>-0.001855</td>\n",
       "      <td>0.000436</td>\n",
       "    </tr>\n",
       "    <tr>\n",
       "      <th>tot_cur_bal</th>\n",
       "      <td>0.323572</td>\n",
       "      <td>-0.091860</td>\n",
       "      <td>0.292995</td>\n",
       "      <td>0.097218</td>\n",
       "      <td>0.418504</td>\n",
       "      <td>-0.010831</td>\n",
       "      <td>0.063048</td>\n",
       "      <td>0.035044</td>\n",
       "      <td>-0.056421</td>\n",
       "      <td>0.092595</td>\n",
       "      <td>...</td>\n",
       "      <td>0.100448</td>\n",
       "      <td>-0.010853</td>\n",
       "      <td>0.009699</td>\n",
       "      <td>NaN</td>\n",
       "      <td>0.023238</td>\n",
       "      <td>-0.000328</td>\n",
       "      <td>1.000000</td>\n",
       "      <td>0.384949</td>\n",
       "      <td>-0.036215</td>\n",
       "      <td>0.003673</td>\n",
       "    </tr>\n",
       "    <tr>\n",
       "      <th>total_rev_hi_lim</th>\n",
       "      <td>0.308720</td>\n",
       "      <td>-0.161537</td>\n",
       "      <td>0.283884</td>\n",
       "      <td>0.075622</td>\n",
       "      <td>0.269619</td>\n",
       "      <td>0.071941</td>\n",
       "      <td>-0.041551</td>\n",
       "      <td>0.006639</td>\n",
       "      <td>0.088357</td>\n",
       "      <td>0.124837</td>\n",
       "      <td>...</td>\n",
       "      <td>0.060931</td>\n",
       "      <td>-0.016718</td>\n",
       "      <td>0.122770</td>\n",
       "      <td>NaN</td>\n",
       "      <td>0.008024</td>\n",
       "      <td>-0.004742</td>\n",
       "      <td>0.384949</td>\n",
       "      <td>1.000000</td>\n",
       "      <td>-0.032879</td>\n",
       "      <td>0.007790</td>\n",
       "    </tr>\n",
       "    <tr>\n",
       "      <th>default_ind</th>\n",
       "      <td>0.002965</td>\n",
       "      <td>0.161952</td>\n",
       "      <td>0.015615</td>\n",
       "      <td>-0.009705</td>\n",
       "      <td>-0.032381</td>\n",
       "      <td>0.025117</td>\n",
       "      <td>-0.004496</td>\n",
       "      <td>0.069409</td>\n",
       "      <td>0.012950</td>\n",
       "      <td>0.014289</td>\n",
       "      <td>...</td>\n",
       "      <td>-0.077278</td>\n",
       "      <td>-0.008056</td>\n",
       "      <td>0.009679</td>\n",
       "      <td>NaN</td>\n",
       "      <td>-0.001408</td>\n",
       "      <td>-0.001855</td>\n",
       "      <td>-0.036215</td>\n",
       "      <td>-0.032879</td>\n",
       "      <td>1.000000</td>\n",
       "      <td>0.000431</td>\n",
       "    </tr>\n",
       "    <tr>\n",
       "      <th>funded_amnt_inv_perc</th>\n",
       "      <td>0.000989</td>\n",
       "      <td>-0.024836</td>\n",
       "      <td>-0.000969</td>\n",
       "      <td>0.002035</td>\n",
       "      <td>0.010660</td>\n",
       "      <td>-0.022129</td>\n",
       "      <td>-0.000081</td>\n",
       "      <td>0.008125</td>\n",
       "      <td>0.002548</td>\n",
       "      <td>-0.017059</td>\n",
       "      <td>...</td>\n",
       "      <td>-0.002628</td>\n",
       "      <td>-0.003186</td>\n",
       "      <td>0.002285</td>\n",
       "      <td>NaN</td>\n",
       "      <td>-0.001706</td>\n",
       "      <td>0.000436</td>\n",
       "      <td>0.003673</td>\n",
       "      <td>0.007790</td>\n",
       "      <td>0.000431</td>\n",
       "      <td>1.000000</td>\n",
       "    </tr>\n",
       "  </tbody>\n",
       "</table>\n",
       "<p>34 rows × 34 columns</p>\n",
       "</div>"
      ],
      "text/plain": [
       "                             loan_amnt  int_rate  installment  emp_length  \\\n",
       "loan_amnt                     1.000000  0.129050     0.943675    0.095892   \n",
       "int_rate                      0.129050  1.000000     0.114734    0.005745   \n",
       "installment                   0.943675  0.114734     1.000000    0.080577   \n",
       "emp_length                    0.095892  0.005745     0.080577    1.000000   \n",
       "annual_inc                    0.328936 -0.084599     0.323165    0.058873   \n",
       "dti                           0.031679  0.158645     0.015327    0.033447   \n",
       "delinq_2yrs                  -0.007889  0.048920     0.000344    0.022319   \n",
       "inq_last_6mths               -0.028115  0.243064     0.005860   -0.003604   \n",
       "mths_since_last_delinq        0.024389 -0.067048     0.011921   -0.047193   \n",
       "mths_since_last_record        0.118609 -0.062367     0.106060   -0.034484   \n",
       "open_acc                      0.184765 -0.019437     0.168885    0.028314   \n",
       "pub_rec                      -0.086538  0.050309    -0.074907    0.027787   \n",
       "revol_bal                     0.333992 -0.044447     0.316028    0.082060   \n",
       "revol_util                    0.118470  0.250561     0.127796    0.031902   \n",
       "total_acc                     0.211654 -0.044124     0.189122    0.091219   \n",
       "out_prncp                     0.656979  0.023034     0.549158    0.060233   \n",
       "out_prncp_inv                 0.656990  0.022886     0.549157    0.060243   \n",
       "total_pymnt                   0.476412  0.176081     0.524298    0.056579   \n",
       "total_pymnt_inv               0.476458  0.176157     0.524348    0.056579   \n",
       "total_rec_prncp               0.388465  0.060651     0.454572    0.044041   \n",
       "total_rec_int                 0.540230  0.453236     0.507095    0.071749   \n",
       "total_rec_late_fee            0.031570  0.052497     0.041702   -0.003185   \n",
       "recoveries                    0.071813  0.113071     0.075410    0.004481   \n",
       "collection_recovery_fee       0.058184  0.082048     0.060917    0.004771   \n",
       "last_pymnt_amnt               0.222767  0.106714     0.236338    0.027998   \n",
       "collections_12_mths_ex_med   -0.020866  0.012033    -0.018111   -0.006183   \n",
       "mths_since_last_major_derog   0.079080 -0.073869     0.064683   -0.029921   \n",
       "policy_code                        NaN       NaN          NaN         NaN   \n",
       "acc_now_delinq                0.001047  0.026791     0.004003    0.007990   \n",
       "tot_coll_amt                 -0.004034  0.001210    -0.003326   -0.000630   \n",
       "tot_cur_bal                   0.323572 -0.091860     0.292995    0.097218   \n",
       "total_rev_hi_lim              0.308720 -0.161537     0.283884    0.075622   \n",
       "default_ind                   0.002965  0.161952     0.015615   -0.009705   \n",
       "funded_amnt_inv_perc          0.000989 -0.024836    -0.000969    0.002035   \n",
       "\n",
       "                             annual_inc       dti  delinq_2yrs  \\\n",
       "loan_amnt                      0.328936  0.031679    -0.007889   \n",
       "int_rate                      -0.084599  0.158645     0.048920   \n",
       "installment                    0.323165  0.015327     0.000344   \n",
       "emp_length                     0.058873  0.033447     0.022319   \n",
       "annual_inc                     1.000000 -0.187205     0.045224   \n",
       "dti                           -0.187205  1.000000    -0.015748   \n",
       "delinq_2yrs                    0.045224 -0.015748     1.000000   \n",
       "inq_last_6mths                 0.038548 -0.006468     0.026194   \n",
       "mths_since_last_delinq        -0.052562  0.039144    -0.377629   \n",
       "mths_since_last_record         0.027464  0.064978     0.020785   \n",
       "open_acc                       0.129564  0.295032     0.045904   \n",
       "pub_rec                       -0.005243 -0.060697    -0.013982   \n",
       "revol_bal                      0.296129  0.134427    -0.034963   \n",
       "revol_util                     0.034628  0.168032    -0.018666   \n",
       "total_acc                      0.180122  0.221609     0.119110   \n",
       "out_prncp                      0.212735  0.091893     0.015643   \n",
       "out_prncp_inv                  0.212781  0.091810     0.015632   \n",
       "total_pymnt                    0.157816 -0.067021    -0.024414   \n",
       "total_pymnt_inv                0.157844 -0.067028    -0.024404   \n",
       "total_rec_prncp                0.146741 -0.088571    -0.029832   \n",
       "total_rec_int                  0.123641  0.030895     0.003774   \n",
       "total_rec_late_fee             0.011941 -0.002545     0.017581   \n",
       "recoveries                     0.005381  0.008678     0.000695   \n",
       "collection_recovery_fee        0.005272  0.011188     0.001826   \n",
       "last_pymnt_amnt                0.085897 -0.056438    -0.018162   \n",
       "collections_12_mths_ex_med    -0.004744 -0.004131     0.062824   \n",
       "mths_since_last_major_derog   -0.014510  0.059611    -0.250208   \n",
       "policy_code                         NaN       NaN          NaN   \n",
       "acc_now_delinq                 0.014855  0.004964     0.131658   \n",
       "tot_coll_amt                   0.001112 -0.004285     0.000234   \n",
       "tot_cur_bal                    0.418504 -0.010831     0.063048   \n",
       "total_rev_hi_lim               0.269619  0.071941    -0.041551   \n",
       "default_ind                   -0.032381  0.025117    -0.004496   \n",
       "funded_amnt_inv_perc           0.010660 -0.022129    -0.000081   \n",
       "\n",
       "                             inq_last_6mths  mths_since_last_delinq  \\\n",
       "loan_amnt                         -0.028115                0.024389   \n",
       "int_rate                           0.243064               -0.067048   \n",
       "installment                        0.005860                0.011921   \n",
       "emp_length                        -0.003604               -0.047193   \n",
       "annual_inc                         0.038548               -0.052562   \n",
       "dti                               -0.006468                0.039144   \n",
       "delinq_2yrs                        0.026194               -0.377629   \n",
       "inq_last_6mths                     1.000000               -0.037476   \n",
       "mths_since_last_delinq            -0.037476                1.000000   \n",
       "mths_since_last_record            -0.083412                0.015551   \n",
       "open_acc                           0.124326               -0.042237   \n",
       "pub_rec                            0.066292               -0.027936   \n",
       "revol_bal                         -0.016072                0.077463   \n",
       "revol_util                        -0.087210                0.024935   \n",
       "total_acc                          0.147214               -0.172109   \n",
       "out_prncp                         -0.100087               -0.010914   \n",
       "out_prncp_inv                     -0.100114               -0.010894   \n",
       "total_pymnt                        0.082525                0.036463   \n",
       "total_pymnt_inv                    0.082590                0.036453   \n",
       "total_rec_prncp                    0.065491                0.041747   \n",
       "total_rec_int                      0.093058                0.002770   \n",
       "total_rec_late_fee                 0.018074               -0.014163   \n",
       "recoveries                         0.046066                0.002771   \n",
       "collection_recovery_fee            0.032957                0.000764   \n",
       "last_pymnt_amnt                    0.066539                0.018020   \n",
       "collections_12_mths_ex_med         0.009346               -0.051441   \n",
       "mths_since_last_major_derog       -0.081912                0.557079   \n",
       "policy_code                             NaN                     NaN   \n",
       "acc_now_delinq                    -0.004570               -0.071132   \n",
       "tot_coll_amt                       0.003006               -0.012661   \n",
       "tot_cur_bal                        0.035044               -0.056421   \n",
       "total_rev_hi_lim                   0.006639                0.088357   \n",
       "default_ind                        0.069409                0.012950   \n",
       "funded_amnt_inv_perc               0.008125                0.002548   \n",
       "\n",
       "                             mths_since_last_record  ...  last_pymnt_amnt  \\\n",
       "loan_amnt                                  0.118609  ...         0.222767   \n",
       "int_rate                                  -0.062367  ...         0.106714   \n",
       "installment                                0.106060  ...         0.236338   \n",
       "emp_length                                -0.034484  ...         0.027998   \n",
       "annual_inc                                 0.027464  ...         0.085897   \n",
       "dti                                        0.064978  ...        -0.056438   \n",
       "delinq_2yrs                                0.020785  ...        -0.018162   \n",
       "inq_last_6mths                            -0.083412  ...         0.066539   \n",
       "mths_since_last_delinq                     0.015551  ...         0.018020   \n",
       "mths_since_last_record                     1.000000  ...         0.029813   \n",
       "open_acc                                   0.036595  ...         0.027641   \n",
       "pub_rec                                   -0.787952  ...        -0.029893   \n",
       "revol_bal                                  0.133267  ...         0.056855   \n",
       "revol_util                                 0.108064  ...         0.000664   \n",
       "total_acc                                 -0.029902  ...         0.084710   \n",
       "out_prncp                                  0.048020  ...        -0.353764   \n",
       "out_prncp_inv                              0.048007  ...        -0.353767   \n",
       "total_pymnt                                0.089602  ...         0.688148   \n",
       "total_pymnt_inv                            0.089580  ...         0.688201   \n",
       "total_rec_prncp                            0.083138  ...         0.770393   \n",
       "total_rec_int                              0.068796  ...         0.125458   \n",
       "total_rec_late_fee                         0.010494  ...        -0.005697   \n",
       "recoveries                                 0.013465  ...        -0.036096   \n",
       "collection_recovery_fee                    0.007972  ...        -0.026829   \n",
       "last_pymnt_amnt                            0.029813  ...         1.000000   \n",
       "collections_12_mths_ex_med                -0.021370  ...        -0.016978   \n",
       "mths_since_last_major_derog                0.091074  ...         0.026455   \n",
       "policy_code                                     NaN  ...              NaN   \n",
       "acc_now_delinq                             0.003029  ...        -0.002521   \n",
       "tot_coll_amt                              -0.005983  ...        -0.002449   \n",
       "tot_cur_bal                                0.092595  ...         0.100448   \n",
       "total_rev_hi_lim                           0.124837  ...         0.060931   \n",
       "default_ind                                0.014289  ...        -0.077278   \n",
       "funded_amnt_inv_perc                      -0.017059  ...        -0.002628   \n",
       "\n",
       "                             collections_12_mths_ex_med  \\\n",
       "loan_amnt                                     -0.020866   \n",
       "int_rate                                       0.012033   \n",
       "installment                                   -0.018111   \n",
       "emp_length                                    -0.006183   \n",
       "annual_inc                                    -0.004744   \n",
       "dti                                           -0.004131   \n",
       "delinq_2yrs                                    0.062824   \n",
       "inq_last_6mths                                 0.009346   \n",
       "mths_since_last_delinq                        -0.051441   \n",
       "mths_since_last_record                        -0.021370   \n",
       "open_acc                                       0.007262   \n",
       "pub_rec                                        0.019468   \n",
       "revol_bal                                     -0.024074   \n",
       "revol_util                                    -0.038812   \n",
       "total_acc                                      0.007764   \n",
       "out_prncp                                      0.007741   \n",
       "out_prncp_inv                                  0.007724   \n",
       "total_pymnt                                   -0.035469   \n",
       "total_pymnt_inv                               -0.035469   \n",
       "total_rec_prncp                               -0.034174   \n",
       "total_rec_int                                 -0.023414   \n",
       "total_rec_late_fee                            -0.002233   \n",
       "recoveries                                    -0.003778   \n",
       "collection_recovery_fee                       -0.002687   \n",
       "last_pymnt_amnt                               -0.016978   \n",
       "collections_12_mths_ex_med                     1.000000   \n",
       "mths_since_last_major_derog                   -0.078822   \n",
       "policy_code                                         NaN   \n",
       "acc_now_delinq                                 0.040515   \n",
       "tot_coll_amt                                   0.009115   \n",
       "tot_cur_bal                                   -0.010853   \n",
       "total_rev_hi_lim                              -0.016718   \n",
       "default_ind                                   -0.008056   \n",
       "funded_amnt_inv_perc                          -0.003186   \n",
       "\n",
       "                             mths_since_last_major_derog  policy_code  \\\n",
       "loan_amnt                                       0.079080          NaN   \n",
       "int_rate                                       -0.073869          NaN   \n",
       "installment                                     0.064683          NaN   \n",
       "emp_length                                     -0.029921          NaN   \n",
       "annual_inc                                     -0.014510          NaN   \n",
       "dti                                             0.059611          NaN   \n",
       "delinq_2yrs                                    -0.250208          NaN   \n",
       "inq_last_6mths                                 -0.081912          NaN   \n",
       "mths_since_last_delinq                          0.557079          NaN   \n",
       "mths_since_last_record                          0.091074          NaN   \n",
       "open_acc                                        0.013347          NaN   \n",
       "pub_rec                                        -0.078335          NaN   \n",
       "revol_bal                                       0.111393          NaN   \n",
       "revol_util                                      0.034327          NaN   \n",
       "total_acc                                      -0.130888          NaN   \n",
       "out_prncp                                       0.021076          NaN   \n",
       "out_prncp_inv                                   0.021099          NaN   \n",
       "total_pymnt                                     0.070978          NaN   \n",
       "total_pymnt_inv                                 0.070970          NaN   \n",
       "total_rec_prncp                                 0.069803          NaN   \n",
       "total_rec_int                                   0.042255          NaN   \n",
       "total_rec_late_fee                             -0.004028          NaN   \n",
       "recoveries                                      0.007566          NaN   \n",
       "collection_recovery_fee                         0.004590          NaN   \n",
       "last_pymnt_amnt                                 0.026455          NaN   \n",
       "collections_12_mths_ex_med                     -0.078822          NaN   \n",
       "mths_since_last_major_derog                     1.000000          NaN   \n",
       "policy_code                                          NaN          NaN   \n",
       "acc_now_delinq                                 -0.033208          NaN   \n",
       "tot_coll_amt                                   -0.018639          NaN   \n",
       "tot_cur_bal                                     0.009699          NaN   \n",
       "total_rev_hi_lim                                0.122770          NaN   \n",
       "default_ind                                     0.009679          NaN   \n",
       "funded_amnt_inv_perc                            0.002285          NaN   \n",
       "\n",
       "                             acc_now_delinq  tot_coll_amt  tot_cur_bal  \\\n",
       "loan_amnt                          0.001047     -0.004034     0.323572   \n",
       "int_rate                           0.026791      0.001210    -0.091860   \n",
       "installment                        0.004003     -0.003326     0.292995   \n",
       "emp_length                         0.007990     -0.000630     0.097218   \n",
       "annual_inc                         0.014855      0.001112     0.418504   \n",
       "dti                                0.004964     -0.004285    -0.010831   \n",
       "delinq_2yrs                        0.131658      0.000234     0.063048   \n",
       "inq_last_6mths                    -0.004570      0.003006     0.035044   \n",
       "mths_since_last_delinq            -0.071132     -0.012661    -0.056421   \n",
       "mths_since_last_record             0.003029     -0.005983     0.092595   \n",
       "open_acc                           0.016011      0.000005     0.241195   \n",
       "pub_rec                           -0.002007      0.006484    -0.071522   \n",
       "revol_bal                         -0.001239     -0.005852     0.443371   \n",
       "revol_util                        -0.028982     -0.008960     0.078468   \n",
       "total_acc                          0.026066      0.006113     0.311082   \n",
       "out_prncp                          0.006663     -0.000778     0.202893   \n",
       "out_prncp_inv                      0.006653     -0.000778     0.202925   \n",
       "total_pymnt                       -0.005340     -0.003928     0.166175   \n",
       "total_pymnt_inv                   -0.005344     -0.003927     0.166187   \n",
       "total_rec_prncp                   -0.007685     -0.003523     0.154472   \n",
       "total_rec_int                      0.004269     -0.003335     0.130833   \n",
       "total_rec_late_fee                 0.004208     -0.000551     0.008307   \n",
       "recoveries                         0.001905     -0.000993     0.002995   \n",
       "collection_recovery_fee            0.001154     -0.000641     0.004973   \n",
       "last_pymnt_amnt                   -0.002521     -0.002449     0.100448   \n",
       "collections_12_mths_ex_med         0.040515      0.009115    -0.010853   \n",
       "mths_since_last_major_derog       -0.033208     -0.018639     0.009699   \n",
       "policy_code                             NaN           NaN          NaN   \n",
       "acc_now_delinq                     1.000000      0.000282     0.023238   \n",
       "tot_coll_amt                       0.000282      1.000000    -0.000328   \n",
       "tot_cur_bal                        0.023238     -0.000328     1.000000   \n",
       "total_rev_hi_lim                   0.008024     -0.004742     0.384949   \n",
       "default_ind                       -0.001408     -0.001855    -0.036215   \n",
       "funded_amnt_inv_perc              -0.001706      0.000436     0.003673   \n",
       "\n",
       "                             total_rev_hi_lim  default_ind  \\\n",
       "loan_amnt                            0.308720     0.002965   \n",
       "int_rate                            -0.161537     0.161952   \n",
       "installment                          0.283884     0.015615   \n",
       "emp_length                           0.075622    -0.009705   \n",
       "annual_inc                           0.269619    -0.032381   \n",
       "dti                                  0.071941     0.025117   \n",
       "delinq_2yrs                         -0.041551    -0.004496   \n",
       "inq_last_6mths                       0.006639     0.069409   \n",
       "mths_since_last_delinq               0.088357     0.012950   \n",
       "mths_since_last_record               0.124837     0.014289   \n",
       "open_acc                             0.317648    -0.009748   \n",
       "pub_rec                             -0.096609    -0.014069   \n",
       "revol_bal                            0.822134    -0.017474   \n",
       "revol_util                          -0.114195     0.042127   \n",
       "total_acc                            0.251213    -0.011094   \n",
       "out_prncp                            0.217015    -0.221736   \n",
       "out_prncp_inv                        0.217056    -0.221737   \n",
       "total_pymnt                          0.120235    -0.033051   \n",
       "total_pymnt_inv                      0.120245    -0.033056   \n",
       "total_rec_prncp                      0.118387    -0.082148   \n",
       "total_rec_int                        0.073723     0.045869   \n",
       "total_rec_late_fee                  -0.005788     0.132730   \n",
       "recoveries                          -0.000969     0.503496   \n",
       "collection_recovery_fee              0.001108     0.377404   \n",
       "last_pymnt_amnt                      0.060931    -0.077278   \n",
       "collections_12_mths_ex_med          -0.016718    -0.008056   \n",
       "mths_since_last_major_derog          0.122770     0.009679   \n",
       "policy_code                               NaN          NaN   \n",
       "acc_now_delinq                       0.008024    -0.001408   \n",
       "tot_coll_amt                        -0.004742    -0.001855   \n",
       "tot_cur_bal                          0.384949    -0.036215   \n",
       "total_rev_hi_lim                     1.000000    -0.032879   \n",
       "default_ind                         -0.032879     1.000000   \n",
       "funded_amnt_inv_perc                 0.007790     0.000431   \n",
       "\n",
       "                             funded_amnt_inv_perc  \n",
       "loan_amnt                                0.000989  \n",
       "int_rate                                -0.024836  \n",
       "installment                             -0.000969  \n",
       "emp_length                               0.002035  \n",
       "annual_inc                               0.010660  \n",
       "dti                                     -0.022129  \n",
       "delinq_2yrs                             -0.000081  \n",
       "inq_last_6mths                           0.008125  \n",
       "mths_since_last_delinq                   0.002548  \n",
       "mths_since_last_record                  -0.017059  \n",
       "open_acc                                 0.003154  \n",
       "pub_rec                                  0.009832  \n",
       "revol_bal                               -0.001363  \n",
       "revol_util                              -0.019588  \n",
       "total_acc                                0.006624  \n",
       "out_prncp                                0.012659  \n",
       "out_prncp_inv                            0.014143  \n",
       "total_pymnt                             -0.012372  \n",
       "total_pymnt_inv                         -0.010962  \n",
       "total_rec_prncp                         -0.014473  \n",
       "total_rec_int                            0.000583  \n",
       "total_rec_late_fee                      -0.001077  \n",
       "recoveries                              -0.003646  \n",
       "collection_recovery_fee                 -0.001624  \n",
       "last_pymnt_amnt                         -0.002628  \n",
       "collections_12_mths_ex_med              -0.003186  \n",
       "mths_since_last_major_derog              0.002285  \n",
       "policy_code                                   NaN  \n",
       "acc_now_delinq                          -0.001706  \n",
       "tot_coll_amt                             0.000436  \n",
       "tot_cur_bal                              0.003673  \n",
       "total_rev_hi_lim                         0.007790  \n",
       "default_ind                              0.000431  \n",
       "funded_amnt_inv_perc                     1.000000  \n",
       "\n",
       "[34 rows x 34 columns]"
      ]
     },
     "execution_count": 226,
     "metadata": {},
     "output_type": "execute_result"
    }
   ],
   "source": [
    "df_clean.corr()"
   ]
  },
  {
   "cell_type": "code",
   "execution_count": 230,
   "id": "960a0aea",
   "metadata": {},
   "outputs": [
    {
     "data": {
      "text/plain": [
       "'Feb-2016'"
      ]
     },
     "execution_count": 230,
     "metadata": {},
     "output_type": "execute_result"
    }
   ],
   "source": [
    "df_test = df_clean.copy()\n",
    "df_test[\"next_pymnt_d\"].iloc[39698]"
   ]
  },
  {
   "cell_type": "code",
   "execution_count": 25,
   "id": "5f28c57b",
   "metadata": {},
   "outputs": [
    {
     "name": "stderr",
     "output_type": "stream",
     "text": [
      "C:\\Users\\JSKZ\\.conda\\envs\\test\\lib\\site-packages\\pandas\\core\\arraylike.py:52: UserWarning: Parsing '31-05-2015' in DD/MM/YYYY format. Provide format or specify infer_datetime_format=True for consistent parsing.\n",
      "  return self._cmp_method(other, operator.le)\n",
      "C:\\Users\\JSKZ\\.conda\\envs\\test\\lib\\site-packages\\pandas\\core\\arraylike.py:56: UserWarning: Parsing '31-05-2015' in DD/MM/YYYY format. Provide format or specify infer_datetime_format=True for consistent parsing.\n",
      "  return self._cmp_method(other, operator.gt)\n",
      "C:\\Users\\JSKZ\\.conda\\envs\\test\\lib\\site-packages\\pandas\\core\\arraylike.py:52: UserWarning: Parsing '31-05-2015' in DD/MM/YYYY format. Provide format or specify infer_datetime_format=True for consistent parsing.\n",
      "  return self._cmp_method(other, operator.le)\n",
      "C:\\Users\\JSKZ\\.conda\\envs\\test\\lib\\site-packages\\pandas\\core\\arraylike.py:56: UserWarning: Parsing '31-05-2015' in DD/MM/YYYY format. Provide format or specify infer_datetime_format=True for consistent parsing.\n",
      "  return self._cmp_method(other, operator.gt)\n"
     ]
    }
   ],
   "source": [
    "df_clean.astype({'term': 'int64'}).dtypes\n",
    "df_clean[[\"issue_d\",\"earliest_cr_line\",\"last_pymnt_d\",\"last_credit_pull_d\"]] = pd.to_datetime(df[[\"issue_d\",\"earliest_cr_line\",\"last_pymnt_d\",\"last_credit_pull_d\"]].stack()).unstack()\n",
    "\n",
    "\n",
    "df_clean[\"next_pymnt_d\"] = pd.to_datetime(df_clean[\"next_pymnt_d\"])\n",
    "\n",
    "X_train = df_clean[df_clean[\"issue_d\"] <= \"31-05-2015\"].drop(['issue_d',\"default_ind\"], axis = 1)\n",
    "X_test = df_clean[df_clean[\"issue_d\"] > \"31-05-2015\"].drop(['issue_d',\"default_ind\"], axis = 1)\n",
    "\n",
    "X_train[[\"earliest_cr_line\",\"last_pymnt_d\",\"next_pymnt_d\",\"last_credit_pull_d\"]]= X_train[[\"earliest_cr_line\",\"last_pymnt_d\",\"next_pymnt_d\",\"last_credit_pull_d\"]].stack().dt.to_period('M').astype(np.int64).unstack()\n",
    "X_test[[\"earliest_cr_line\",\"last_pymnt_d\",\"next_pymnt_d\",\"last_credit_pull_d\"]]=X_test[[\"earliest_cr_line\",\"last_pymnt_d\",\"next_pymnt_d\",\"last_credit_pull_d\"]].stack().dt.to_period('M').astype(np.int64).unstack()\n",
    "y_train = df_clean[df_clean[\"issue_d\"] <= \"31-05-2015\"][\"default_ind\"]\n",
    "y_test = df_clean[df_clean[\"issue_d\"] > \"31-05-2015\"][\"default_ind\"]"
   ]
  },
  {
   "cell_type": "code",
   "execution_count": 30,
   "id": "a5cb8389",
   "metadata": {},
   "outputs": [],
   "source": [
    "categorical_encoder = OneHotEncoder(handle_unknown = \"ignore\")\n",
    "categorical_features = [\"home_ownership\",\"grade\",\"verification_status\",\"purpose\",\"initial_list_status\",\"application_type\",\"region\"]\n",
    "numerical_features = df_clean.select_dtypes(exclude=['object']).columns.tolist()\n",
    "numerical_features.remove(\"default_ind\")\n",
    "numerical_features.remove(\"issue_d\")\n",
    "scaler = StandardScaler()\n",
    "\n",
    "preprocessor = ColumnTransformer(\n",
    "    transformers = [\n",
    "        (\"cat\", categorical_encoder,categorical_features),\n",
    "        (\"num\",scaler,numerical_features)\n",
    "    ], sparse_threshold = 0)\n"
   ]
  },
  {
   "cell_type": "code",
   "execution_count": 31,
   "id": "6013468a",
   "metadata": {},
   "outputs": [
    {
     "data": {
      "text/html": [
       "<style>#sk-container-id-2 {color: black;background-color: white;}#sk-container-id-2 pre{padding: 0;}#sk-container-id-2 div.sk-toggleable {background-color: white;}#sk-container-id-2 label.sk-toggleable__label {cursor: pointer;display: block;width: 100%;margin-bottom: 0;padding: 0.3em;box-sizing: border-box;text-align: center;}#sk-container-id-2 label.sk-toggleable__label-arrow:before {content: \"▸\";float: left;margin-right: 0.25em;color: #696969;}#sk-container-id-2 label.sk-toggleable__label-arrow:hover:before {color: black;}#sk-container-id-2 div.sk-estimator:hover label.sk-toggleable__label-arrow:before {color: black;}#sk-container-id-2 div.sk-toggleable__content {max-height: 0;max-width: 0;overflow: hidden;text-align: left;background-color: #f0f8ff;}#sk-container-id-2 div.sk-toggleable__content pre {margin: 0.2em;color: black;border-radius: 0.25em;background-color: #f0f8ff;}#sk-container-id-2 input.sk-toggleable__control:checked~div.sk-toggleable__content {max-height: 200px;max-width: 100%;overflow: auto;}#sk-container-id-2 input.sk-toggleable__control:checked~label.sk-toggleable__label-arrow:before {content: \"▾\";}#sk-container-id-2 div.sk-estimator input.sk-toggleable__control:checked~label.sk-toggleable__label {background-color: #d4ebff;}#sk-container-id-2 div.sk-label input.sk-toggleable__control:checked~label.sk-toggleable__label {background-color: #d4ebff;}#sk-container-id-2 input.sk-hidden--visually {border: 0;clip: rect(1px 1px 1px 1px);clip: rect(1px, 1px, 1px, 1px);height: 1px;margin: -1px;overflow: hidden;padding: 0;position: absolute;width: 1px;}#sk-container-id-2 div.sk-estimator {font-family: monospace;background-color: #f0f8ff;border: 1px dotted black;border-radius: 0.25em;box-sizing: border-box;margin-bottom: 0.5em;}#sk-container-id-2 div.sk-estimator:hover {background-color: #d4ebff;}#sk-container-id-2 div.sk-parallel-item::after {content: \"\";width: 100%;border-bottom: 1px solid gray;flex-grow: 1;}#sk-container-id-2 div.sk-label:hover label.sk-toggleable__label {background-color: #d4ebff;}#sk-container-id-2 div.sk-serial::before {content: \"\";position: absolute;border-left: 1px solid gray;box-sizing: border-box;top: 0;bottom: 0;left: 50%;z-index: 0;}#sk-container-id-2 div.sk-serial {display: flex;flex-direction: column;align-items: center;background-color: white;padding-right: 0.2em;padding-left: 0.2em;position: relative;}#sk-container-id-2 div.sk-item {position: relative;z-index: 1;}#sk-container-id-2 div.sk-parallel {display: flex;align-items: stretch;justify-content: center;background-color: white;position: relative;}#sk-container-id-2 div.sk-item::before, #sk-container-id-2 div.sk-parallel-item::before {content: \"\";position: absolute;border-left: 1px solid gray;box-sizing: border-box;top: 0;bottom: 0;left: 50%;z-index: -1;}#sk-container-id-2 div.sk-parallel-item {display: flex;flex-direction: column;z-index: 1;position: relative;background-color: white;}#sk-container-id-2 div.sk-parallel-item:first-child::after {align-self: flex-end;width: 50%;}#sk-container-id-2 div.sk-parallel-item:last-child::after {align-self: flex-start;width: 50%;}#sk-container-id-2 div.sk-parallel-item:only-child::after {width: 0;}#sk-container-id-2 div.sk-dashed-wrapped {border: 1px dashed gray;margin: 0 0.4em 0.5em 0.4em;box-sizing: border-box;padding-bottom: 0.4em;background-color: white;}#sk-container-id-2 div.sk-label label {font-family: monospace;font-weight: bold;display: inline-block;line-height: 1.2em;}#sk-container-id-2 div.sk-label-container {text-align: center;}#sk-container-id-2 div.sk-container {/* jupyter's `normalize.less` sets `[hidden] { display: none; }` but bootstrap.min.css set `[hidden] { display: none !important; }` so we also need the `!important` here to be able to override the default hidden behavior on the sphinx rendered scikit-learn.org. See: https://github.com/scikit-learn/scikit-learn/issues/21755 */display: inline-block !important;position: relative;}#sk-container-id-2 div.sk-text-repr-fallback {display: none;}</style><div id=\"sk-container-id-2\" class=\"sk-top-container\"><div class=\"sk-text-repr-fallback\"><pre>ColumnTransformer(sparse_threshold=0,\n",
       "                  transformers=[(&#x27;cat&#x27;, OneHotEncoder(handle_unknown=&#x27;ignore&#x27;),\n",
       "                                 [&#x27;home_ownership&#x27;, &#x27;grade&#x27;,\n",
       "                                  &#x27;verification_status&#x27;, &#x27;purpose&#x27;,\n",
       "                                  &#x27;initial_list_status&#x27;, &#x27;application_type&#x27;,\n",
       "                                  &#x27;region&#x27;]),\n",
       "                                (&#x27;num&#x27;, StandardScaler(),\n",
       "                                 [&#x27;loan_amnt&#x27;, &#x27;int_rate&#x27;, &#x27;installment&#x27;,\n",
       "                                  &#x27;emp_length&#x27;, &#x27;annual_inc&#x27;, &#x27;dti&#x27;,\n",
       "                                  &#x27;delinq_2yrs&#x27;, &#x27;earliest_cr_line&#x27;,\n",
       "                                  &#x27;inq_last_6mths&#x27;...delinq&#x27;,\n",
       "                                  &#x27;mths_since_last_record&#x27;, &#x27;open_acc&#x27;,\n",
       "                                  &#x27;pub_rec&#x27;, &#x27;revol_bal&#x27;, &#x27;revol_util&#x27;,\n",
       "                                  &#x27;total_acc&#x27;, &#x27;out_prncp&#x27;, &#x27;out_prncp_inv&#x27;,\n",
       "                                  &#x27;total_pymnt&#x27;, &#x27;total_pymnt_inv&#x27;,\n",
       "                                  &#x27;total_rec_prncp&#x27;, &#x27;total_rec_int&#x27;,\n",
       "                                  &#x27;total_rec_late_fee&#x27;, &#x27;recoveries&#x27;,\n",
       "                                  &#x27;collection_recovery_fee&#x27;, &#x27;last_pymnt_d&#x27;,\n",
       "                                  &#x27;last_pymnt_amnt&#x27;, &#x27;next_pymnt_d&#x27;,\n",
       "                                  &#x27;last_credit_pull_d&#x27;,\n",
       "                                  &#x27;collections_12_mths_ex_med&#x27;, ...])])</pre><b>In a Jupyter environment, please rerun this cell to show the HTML representation or trust the notebook. <br />On GitHub, the HTML representation is unable to render, please try loading this page with nbviewer.org.</b></div><div class=\"sk-container\" hidden><div class=\"sk-item sk-dashed-wrapped\"><div class=\"sk-label-container\"><div class=\"sk-label sk-toggleable\"><input class=\"sk-toggleable__control sk-hidden--visually\" id=\"sk-estimator-id-6\" type=\"checkbox\" ><label for=\"sk-estimator-id-6\" class=\"sk-toggleable__label sk-toggleable__label-arrow\">ColumnTransformer</label><div class=\"sk-toggleable__content\"><pre>ColumnTransformer(sparse_threshold=0,\n",
       "                  transformers=[(&#x27;cat&#x27;, OneHotEncoder(handle_unknown=&#x27;ignore&#x27;),\n",
       "                                 [&#x27;home_ownership&#x27;, &#x27;grade&#x27;,\n",
       "                                  &#x27;verification_status&#x27;, &#x27;purpose&#x27;,\n",
       "                                  &#x27;initial_list_status&#x27;, &#x27;application_type&#x27;,\n",
       "                                  &#x27;region&#x27;]),\n",
       "                                (&#x27;num&#x27;, StandardScaler(),\n",
       "                                 [&#x27;loan_amnt&#x27;, &#x27;int_rate&#x27;, &#x27;installment&#x27;,\n",
       "                                  &#x27;emp_length&#x27;, &#x27;annual_inc&#x27;, &#x27;dti&#x27;,\n",
       "                                  &#x27;delinq_2yrs&#x27;, &#x27;earliest_cr_line&#x27;,\n",
       "                                  &#x27;inq_last_6mths&#x27;...delinq&#x27;,\n",
       "                                  &#x27;mths_since_last_record&#x27;, &#x27;open_acc&#x27;,\n",
       "                                  &#x27;pub_rec&#x27;, &#x27;revol_bal&#x27;, &#x27;revol_util&#x27;,\n",
       "                                  &#x27;total_acc&#x27;, &#x27;out_prncp&#x27;, &#x27;out_prncp_inv&#x27;,\n",
       "                                  &#x27;total_pymnt&#x27;, &#x27;total_pymnt_inv&#x27;,\n",
       "                                  &#x27;total_rec_prncp&#x27;, &#x27;total_rec_int&#x27;,\n",
       "                                  &#x27;total_rec_late_fee&#x27;, &#x27;recoveries&#x27;,\n",
       "                                  &#x27;collection_recovery_fee&#x27;, &#x27;last_pymnt_d&#x27;,\n",
       "                                  &#x27;last_pymnt_amnt&#x27;, &#x27;next_pymnt_d&#x27;,\n",
       "                                  &#x27;last_credit_pull_d&#x27;,\n",
       "                                  &#x27;collections_12_mths_ex_med&#x27;, ...])])</pre></div></div></div><div class=\"sk-parallel\"><div class=\"sk-parallel-item\"><div class=\"sk-item\"><div class=\"sk-label-container\"><div class=\"sk-label sk-toggleable\"><input class=\"sk-toggleable__control sk-hidden--visually\" id=\"sk-estimator-id-7\" type=\"checkbox\" ><label for=\"sk-estimator-id-7\" class=\"sk-toggleable__label sk-toggleable__label-arrow\">cat</label><div class=\"sk-toggleable__content\"><pre>[&#x27;home_ownership&#x27;, &#x27;grade&#x27;, &#x27;verification_status&#x27;, &#x27;purpose&#x27;, &#x27;initial_list_status&#x27;, &#x27;application_type&#x27;, &#x27;region&#x27;]</pre></div></div></div><div class=\"sk-serial\"><div class=\"sk-item\"><div class=\"sk-estimator sk-toggleable\"><input class=\"sk-toggleable__control sk-hidden--visually\" id=\"sk-estimator-id-8\" type=\"checkbox\" ><label for=\"sk-estimator-id-8\" class=\"sk-toggleable__label sk-toggleable__label-arrow\">OneHotEncoder</label><div class=\"sk-toggleable__content\"><pre>OneHotEncoder(handle_unknown=&#x27;ignore&#x27;)</pre></div></div></div></div></div></div><div class=\"sk-parallel-item\"><div class=\"sk-item\"><div class=\"sk-label-container\"><div class=\"sk-label sk-toggleable\"><input class=\"sk-toggleable__control sk-hidden--visually\" id=\"sk-estimator-id-9\" type=\"checkbox\" ><label for=\"sk-estimator-id-9\" class=\"sk-toggleable__label sk-toggleable__label-arrow\">num</label><div class=\"sk-toggleable__content\"><pre>[&#x27;loan_amnt&#x27;, &#x27;int_rate&#x27;, &#x27;installment&#x27;, &#x27;emp_length&#x27;, &#x27;annual_inc&#x27;, &#x27;dti&#x27;, &#x27;delinq_2yrs&#x27;, &#x27;earliest_cr_line&#x27;, &#x27;inq_last_6mths&#x27;, &#x27;mths_since_last_delinq&#x27;, &#x27;mths_since_last_record&#x27;, &#x27;open_acc&#x27;, &#x27;pub_rec&#x27;, &#x27;revol_bal&#x27;, &#x27;revol_util&#x27;, &#x27;total_acc&#x27;, &#x27;out_prncp&#x27;, &#x27;out_prncp_inv&#x27;, &#x27;total_pymnt&#x27;, &#x27;total_pymnt_inv&#x27;, &#x27;total_rec_prncp&#x27;, &#x27;total_rec_int&#x27;, &#x27;total_rec_late_fee&#x27;, &#x27;recoveries&#x27;, &#x27;collection_recovery_fee&#x27;, &#x27;last_pymnt_d&#x27;, &#x27;last_pymnt_amnt&#x27;, &#x27;next_pymnt_d&#x27;, &#x27;last_credit_pull_d&#x27;, &#x27;collections_12_mths_ex_med&#x27;, &#x27;mths_since_last_major_derog&#x27;, &#x27;policy_code&#x27;, &#x27;acc_now_delinq&#x27;, &#x27;tot_coll_amt&#x27;, &#x27;tot_cur_bal&#x27;, &#x27;total_rev_hi_lim&#x27;, &#x27;funded_amnt_inv_perc&#x27;]</pre></div></div></div><div class=\"sk-serial\"><div class=\"sk-item\"><div class=\"sk-estimator sk-toggleable\"><input class=\"sk-toggleable__control sk-hidden--visually\" id=\"sk-estimator-id-10\" type=\"checkbox\" ><label for=\"sk-estimator-id-10\" class=\"sk-toggleable__label sk-toggleable__label-arrow\">StandardScaler</label><div class=\"sk-toggleable__content\"><pre>StandardScaler()</pre></div></div></div></div></div></div></div></div></div></div>"
      ],
      "text/plain": [
       "ColumnTransformer(sparse_threshold=0,\n",
       "                  transformers=[('cat', OneHotEncoder(handle_unknown='ignore'),\n",
       "                                 ['home_ownership', 'grade',\n",
       "                                  'verification_status', 'purpose',\n",
       "                                  'initial_list_status', 'application_type',\n",
       "                                  'region']),\n",
       "                                ('num', StandardScaler(),\n",
       "                                 ['loan_amnt', 'int_rate', 'installment',\n",
       "                                  'emp_length', 'annual_inc', 'dti',\n",
       "                                  'delinq_2yrs', 'earliest_cr_line',\n",
       "                                  'inq_last_6mths'...delinq',\n",
       "                                  'mths_since_last_record', 'open_acc',\n",
       "                                  'pub_rec', 'revol_bal', 'revol_util',\n",
       "                                  'total_acc', 'out_prncp', 'out_prncp_inv',\n",
       "                                  'total_pymnt', 'total_pymnt_inv',\n",
       "                                  'total_rec_prncp', 'total_rec_int',\n",
       "                                  'total_rec_late_fee', 'recoveries',\n",
       "                                  'collection_recovery_fee', 'last_pymnt_d',\n",
       "                                  'last_pymnt_amnt', 'next_pymnt_d',\n",
       "                                  'last_credit_pull_d',\n",
       "                                  'collections_12_mths_ex_med', ...])])"
      ]
     },
     "execution_count": 31,
     "metadata": {},
     "output_type": "execute_result"
    }
   ],
   "source": [
    "preprocessor"
   ]
  },
  {
   "cell_type": "code",
   "execution_count": 32,
   "id": "f743db32",
   "metadata": {},
   "outputs": [],
   "source": [
    "X_train2 = X_train.copy()\n",
    "X_train = preprocessor.fit_transform(X_train)\n",
    "X_test = preprocessor.transform(X_test)\n",
    "y_train = y_train.to_numpy()\n",
    "y_test = y_test.to_numpy()"
   ]
  },
  {
   "cell_type": "code",
   "execution_count": 239,
   "id": "4eda1472",
   "metadata": {},
   "outputs": [
    {
     "data": {
      "text/plain": [
       "array(['cat__home_ownership_ANY', 'cat__home_ownership_MORTGAGE',\n",
       "       'cat__home_ownership_NONE', 'cat__home_ownership_OTHER',\n",
       "       'cat__home_ownership_OWN', 'cat__home_ownership_RENT',\n",
       "       'cat__grade_A', 'cat__grade_B', 'cat__grade_C', 'cat__grade_D',\n",
       "       'cat__grade_E', 'cat__grade_F', 'cat__grade_G',\n",
       "       'cat__verification_status_Not Verified',\n",
       "       'cat__verification_status_Source Verified',\n",
       "       'cat__verification_status_Verified', 'cat__purpose_car',\n",
       "       'cat__purpose_credit_card', 'cat__purpose_debt_consolidation',\n",
       "       'cat__purpose_home_improvement', 'cat__purpose_house',\n",
       "       'cat__purpose_major_purchase', 'cat__purpose_medical',\n",
       "       'cat__purpose_moving', 'cat__purpose_other',\n",
       "       'cat__purpose_renewable_energy', 'cat__purpose_small_business',\n",
       "       'cat__purpose_vacation', 'cat__purpose_wedding',\n",
       "       'cat__initial_list_status_f', 'cat__initial_list_status_w',\n",
       "       'cat__application_type_INDIVIDUAL', 'cat__region_East',\n",
       "       'cat__region_Midwest', 'cat__region_South', 'cat__region_West',\n",
       "       'num__loan_amnt', 'num__int_rate', 'num__installment',\n",
       "       'num__emp_length', 'num__annual_inc', 'num__dti',\n",
       "       'num__delinq_2yrs', 'num__earliest_cr_line', 'num__inq_last_6mths',\n",
       "       'num__mths_since_last_delinq', 'num__mths_since_last_record',\n",
       "       'num__open_acc', 'num__pub_rec', 'num__revol_bal',\n",
       "       'num__revol_util', 'num__total_acc', 'num__out_prncp',\n",
       "       'num__out_prncp_inv', 'num__total_pymnt', 'num__total_pymnt_inv',\n",
       "       'num__total_rec_prncp', 'num__total_rec_int',\n",
       "       'num__total_rec_late_fee', 'num__recoveries',\n",
       "       'num__collection_recovery_fee', 'num__last_pymnt_d',\n",
       "       'num__last_pymnt_amnt', 'num__next_pymnt_d',\n",
       "       'num__last_credit_pull_d', 'num__collections_12_mths_ex_med',\n",
       "       'num__mths_since_last_major_derog', 'num__policy_code',\n",
       "       'num__acc_now_delinq', 'num__tot_coll_amt', 'num__tot_cur_bal',\n",
       "       'num__total_rev_hi_lim', 'num__funded_amnt_inv_perc'], dtype=object)"
      ]
     },
     "execution_count": 239,
     "metadata": {},
     "output_type": "execute_result"
    }
   ],
   "source": [
    "preprocessor.get_feature_names_out()"
   ]
  },
  {
   "cell_type": "code",
   "execution_count": null,
   "id": "860cb9ad",
   "metadata": {},
   "outputs": [],
   "source": [
    "import sigopt\n",
    "from sigopt import Connection\n",
    " \n",
    "# put your token here\n",
    "api_token = \"RNSRLRHXYIOZZCZEFQAZQKZBMXWQVSEBLBWZTPOCMLFJMFIU\"\n",
    " \n",
    "conn = Connection(client_token=api_token)"
   ]
  },
  {
   "cell_type": "code",
   "execution_count": 260,
   "id": "000282b4",
   "metadata": {},
   "outputs": [
    {
     "data": {
      "text/plain": [
       "0.9849365806978045"
      ]
     },
     "execution_count": 260,
     "metadata": {},
     "output_type": "execute_result"
    }
   ],
   "source": [
    "from sklearn.ensemble import RandomForestClassifier\n",
    "clf = RandomForestClassifier()\n",
    "clf.fit(X_train, y_train)\n",
    "accuracy_score(y_test,clf.predict(X_test))\n"
   ]
  },
  {
   "cell_type": "code",
   "execution_count": 261,
   "id": "f6fc489c",
   "metadata": {},
   "outputs": [
    {
     "name": "stdout",
     "output_type": "stream",
     "text": [
      "0.057738572574178026\n",
      "0.9953917050691244\n",
      "0.10914603335017685\n"
     ]
    }
   ],
   "source": [
    "from sklearn.metrics import accuracy_score, precision_score, recall_score, f1_score\n",
    "print(precision_score(y_test,clf.predict(X_test)))\n",
    "print(recall_score(y_test,clf.predict(X_test)))\n",
    "print(f1_score(y_test,clf.predict(X_test)))\n"
   ]
  },
  {
   "cell_type": "code",
   "execution_count": 52,
   "id": "e6ab4f6b",
   "metadata": {},
   "outputs": [
    {
     "data": {
      "text/plain": [
       "0.9999957279015025"
      ]
     },
     "execution_count": 52,
     "metadata": {},
     "output_type": "execute_result"
    }
   ],
   "source": [
    "import xgboost as xgb\n",
    "dtrain = xgb.DMatrix(data = X_train, label = y_train, feature_names =preprocessor.get_feature_names_out())\n",
    "dtest = xgb.DMatrix(data = X_test, label = y_test, feature_names = preprocessor.get_feature_names_out())\n",
    "xclf = xgb.XGBClassifier()\n",
    "X_train = pd.DataFrame(X_train, columns = preprocessor.get_feature_names_out())\n",
    "xclf.fit(X_train, y_train)\n",
    "accuracy_score(y_test,xclf.predict(X_test))"
   ]
  },
  {
   "cell_type": "code",
   "execution_count": 35,
   "id": "2483f844",
   "metadata": {},
   "outputs": [
    {
     "name": "stdout",
     "output_type": "stream",
     "text": [
      "1.0\n",
      "0.9953917050691244\n",
      "0.997690531177829\n"
     ]
    }
   ],
   "source": [
    "from sklearn.metrics import accuracy_score, precision_score, recall_score, f1_score\n",
    "print(precision_score(y_test,xclf.predict(X_test)))\n",
    "print(recall_score(y_test,xclf.predict(X_test)))\n",
    "print(f1_score(y_test,xclf.predict(X_test)))\n"
   ]
  },
  {
   "cell_type": "code",
   "execution_count": 40,
   "id": "7baca699",
   "metadata": {},
   "outputs": [
    {
     "name": "stdout",
     "output_type": "stream",
     "text": [
      "              precision    recall  f1-score   support\n",
      "\n",
      "           0       1.00      1.00      1.00    233860\n",
      "           1       1.00      1.00      1.00       217\n",
      "\n",
      "    accuracy                           1.00    234077\n",
      "   macro avg       1.00      1.00      1.00    234077\n",
      "weighted avg       1.00      1.00      1.00    234077\n",
      "\n"
     ]
    }
   ],
   "source": [
    "from sklearn.metrics import classification_report\n",
    "print(classification_report(y_test,xclf.predict(X_test)))"
   ]
  },
  {
   "cell_type": "code",
   "execution_count": 61,
   "id": "9b0004f6",
   "metadata": {},
   "outputs": [
    {
     "data": {
      "text/plain": [
       "<AxesSubplot:title={'center':'Feature importance'}, xlabel='F score', ylabel='Features'>"
      ]
     },
     "execution_count": 61,
     "metadata": {},
     "output_type": "execute_result"
    },
    {
     "data": {
      "image/png": "[encoded data removed]",
      "text/plain": [
       "<Figure size 720x360 with 1 Axes>"
      ]
     },
     "metadata": {
      "needs_background": "light"
     },
     "output_type": "display_data"
    }
   ],
   "source": [
    "def my_plot_importance(booster, figsize, **kwargs): \n",
    "    from matplotlib import pyplot as plt\n",
    "    from xgboost import plot_importance\n",
    "    fig, ax = plt.subplots(1,1,figsize=figsize)\n",
    "    return plot_importance(booster=booster, ax=ax, **kwargs, max_num_features=10)\n",
    "my_plot_importance(xclf, (10,5))"
   ]
  },
  {
   "cell_type": "code",
   "execution_count": 73,
   "id": "fe0e801e",
   "metadata": {},
   "outputs": [
    {
     "data": {
      "application/vnd.plotly.v1+json": {
       "config": {
        "plotlyServerURL": "https://plot.ly"
       },
       "data": [
        {
         "alignmentgroup": "True",
         "hovertemplate": "variable=score<br>value=%{x}<br>index=%{y}<extra></extra>",
         "legendgroup": "score",
         "marker": {
          "color": "#636efa",
          "pattern": {
           "shape": ""
          }
         },
         "name": "score",
         "offsetgroup": "score",
         "orientation": "h",
         "showlegend": true,
         "textposition": "auto",
         "type": "bar",
         "x": [
          453,
          251,
          225,
          175,
          142,
          109,
          106,
          104,
          62,
          60
         ],
         "xaxis": "x",
         "y": [
          "num__total_rec_prncp",
          "num__loan_amnt",
          "num__last_pymnt_amnt",
          "num__installment",
          "num__last_pymnt_d",
          "num__total_rec_late_fee",
          "num__total_rec_int",
          "num__out_prncp",
          "num__revol_bal",
          "num__earliest_cr_line"
         ],
         "yaxis": "y"
        }
       ],
       "layout": {
        "barmode": "relative",
        "legend": {
         "title": {
          "text": "variable"
         },
         "tracegroupgap": 0
        },
        "margin": {
         "t": 60
        },
        "showlegend": false,
        "template": {
         "data": {
          "bar": [
           {
            "error_x": {
             "color": "#2a3f5f"
            },
            "error_y": {
             "color": "#2a3f5f"
            },
            "marker": {
             "line": {
              "color": "white",
              "width": 0.5
             },
             "pattern": {
              "fillmode": "overlay",
              "size": 10,
              "solidity": 0.2
             }
            },
            "type": "bar"
           }
          ],
          "barpolar": [
           {
            "marker": {
             "line": {
              "color": "white",
              "width": 0.5
             },
             "pattern": {
              "fillmode": "overlay",
              "size": 10,
              "solidity": 0.2
             }
            },
            "type": "barpolar"
           }
          ],
          "carpet": [
           {
            "aaxis": {
             "endlinecolor": "#2a3f5f",
             "gridcolor": "#C8D4E3",
             "linecolor": "#C8D4E3",
             "minorgridcolor": "#C8D4E3",
             "startlinecolor": "#2a3f5f"
            },
            "baxis": {
             "endlinecolor": "#2a3f5f",
             "gridcolor": "#C8D4E3",
             "linecolor": "#C8D4E3",
             "minorgridcolor": "#C8D4E3",
             "startlinecolor": "#2a3f5f"
            },
            "type": "carpet"
           }
          ],
          "choropleth": [
           {
            "colorbar": {
             "outlinewidth": 0,
             "ticks": ""
            },
            "type": "choropleth"
           }
          ],
          "contour": [
           {
            "colorbar": {
             "outlinewidth": 0,
             "ticks": ""
            },
            "colorscale": [
             [
              0,
              "#0d0887"
             ],
             [
              0.1111111111111111,
              "#46039f"
             ],
             [
              0.2222222222222222,
              "#7201a8"
             ],
             [
              0.3333333333333333,
              "#9c179e"
             ],
             [
              0.4444444444444444,
              "#bd3786"
             ],
             [
              0.5555555555555556,
              "#d8576b"
             ],
             [
              0.6666666666666666,
              "#ed7953"
             ],
             [
              0.7777777777777778,
              "#fb9f3a"
             ],
             [
              0.8888888888888888,
              "#fdca26"
             ],
             [
              1,
              "#f0f921"
             ]
            ],
            "type": "contour"
           }
          ],
          "contourcarpet": [
           {
            "colorbar": {
             "outlinewidth": 0,
             "ticks": ""
            },
            "type": "contourcarpet"
           }
          ],
          "heatmap": [
           {
            "colorbar": {
             "outlinewidth": 0,
             "ticks": ""
            },
            "colorscale": [
             [
              0,
              "#0d0887"
             ],
             [
              0.1111111111111111,
              "#46039f"
             ],
             [
              0.2222222222222222,
              "#7201a8"
             ],
             [
              0.3333333333333333,
              "#9c179e"
             ],
             [
              0.4444444444444444,
              "#bd3786"
             ],
             [
              0.5555555555555556,
              "#d8576b"
             ],
             [
              0.6666666666666666,
              "#ed7953"
             ],
             [
              0.7777777777777778,
              "#fb9f3a"
             ],
             [
              0.8888888888888888,
              "#fdca26"
             ],
             [
              1,
              "#f0f921"
             ]
            ],
            "type": "heatmap"
           }
          ],
          "heatmapgl": [
           {
            "colorbar": {
             "outlinewidth": 0,
             "ticks": ""
            },
            "colorscale": [
             [
              0,
              "#0d0887"
             ],
             [
              0.1111111111111111,
              "#46039f"
             ],
             [
              0.2222222222222222,
              "#7201a8"
             ],
             [
              0.3333333333333333,
              "#9c179e"
             ],
             [
              0.4444444444444444,
              "#bd3786"
             ],
             [
              0.5555555555555556,
              "#d8576b"
             ],
             [
              0.6666666666666666,
              "#ed7953"
             ],
             [
              0.7777777777777778,
              "#fb9f3a"
             ],
             [
              0.8888888888888888,
              "#fdca26"
             ],
             [
              1,
              "#f0f921"
             ]
            ],
            "type": "heatmapgl"
           }
          ],
          "histogram": [
           {
            "marker": {
             "pattern": {
              "fillmode": "overlay",
              "size": 10,
              "solidity": 0.2
             }
            },
            "type": "histogram"
           }
          ],
          "histogram2d": [
           {
            "colorbar": {
             "outlinewidth": 0,
             "ticks": ""
            },
            "colorscale": [
             [
              0,
              "#0d0887"
             ],
             [
              0.1111111111111111,
              "#46039f"
             ],
             [
              0.2222222222222222,
              "#7201a8"
             ],
             [
              0.3333333333333333,
              "#9c179e"
             ],
             [
              0.4444444444444444,
              "#bd3786"
             ],
             [
              0.5555555555555556,
              "#d8576b"
             ],
             [
              0.6666666666666666,
              "#ed7953"
             ],
             [
              0.7777777777777778,
              "#fb9f3a"
             ],
             [
              0.8888888888888888,
              "#fdca26"
             ],
             [
              1,
              "#f0f921"
             ]
            ],
            "type": "histogram2d"
           }
          ],
          "histogram2dcontour": [
           {
            "colorbar": {
             "outlinewidth": 0,
             "ticks": ""
            },
            "colorscale": [
             [
              0,
              "#0d0887"
             ],
             [
              0.1111111111111111,
              "#46039f"
             ],
             [
              0.2222222222222222,
              "#7201a8"
             ],
             [
              0.3333333333333333,
              "#9c179e"
             ],
             [
              0.4444444444444444,
              "#bd3786"
             ],
             [
              0.5555555555555556,
              "#d8576b"
             ],
             [
              0.6666666666666666,
              "#ed7953"
             ],
             [
              0.7777777777777778,
              "#fb9f3a"
             ],
             [
              0.8888888888888888,
              "#fdca26"
             ],
             [
              1,
              "#f0f921"
             ]
            ],
            "type": "histogram2dcontour"
           }
          ],
          "mesh3d": [
           {
            "colorbar": {
             "outlinewidth": 0,
             "ticks": ""
            },
            "type": "mesh3d"
           }
          ],
          "parcoords": [
           {
            "line": {
             "colorbar": {
              "outlinewidth": 0,
              "ticks": ""
             }
            },
            "type": "parcoords"
           }
          ],
          "pie": [
           {
            "automargin": true,
            "type": "pie"
           }
          ],
          "scatter": [
           {
            "marker": {
             "colorbar": {
              "outlinewidth": 0,
              "ticks": ""
             }
            },
            "type": "scatter"
           }
          ],
          "scatter3d": [
           {
            "line": {
             "colorbar": {
              "outlinewidth": 0,
              "ticks": ""
             }
            },
            "marker": {
             "colorbar": {
              "outlinewidth": 0,
              "ticks": ""
             }
            },
            "type": "scatter3d"
           }
          ],
          "scattercarpet": [
           {
            "marker": {
             "colorbar": {
              "outlinewidth": 0,
              "ticks": ""
             }
            },
            "type": "scattercarpet"
           }
          ],
          "scattergeo": [
           {
            "marker": {
             "colorbar": {
              "outlinewidth": 0,
              "ticks": ""
             }
            },
            "type": "scattergeo"
           }
          ],
          "scattergl": [
           {
            "marker": {
             "colorbar": {
              "outlinewidth": 0,
              "ticks": ""
             }
            },
            "type": "scattergl"
           }
          ],
          "scattermapbox": [
           {
            "marker": {
             "colorbar": {
              "outlinewidth": 0,
              "ticks": ""
             }
            },
            "type": "scattermapbox"
           }
          ],
          "scatterpolar": [
           {
            "marker": {
             "colorbar": {
              "outlinewidth": 0,
              "ticks": ""
             }
            },
            "type": "scatterpolar"
           }
          ],
          "scatterpolargl": [
           {
            "marker": {
             "colorbar": {
              "outlinewidth": 0,
              "ticks": ""
             }
            },
            "type": "scatterpolargl"
           }
          ],
          "scatterternary": [
           {
            "marker": {
             "colorbar": {
              "outlinewidth": 0,
              "ticks": ""
             }
            },
            "type": "scatterternary"
           }
          ],
          "surface": [
           {
            "colorbar": {
             "outlinewidth": 0,
             "ticks": ""
            },
            "colorscale": [
             [
              0,
              "#0d0887"
             ],
             [
              0.1111111111111111,
              "#46039f"
             ],
             [
              0.2222222222222222,
              "#7201a8"
             ],
             [
              0.3333333333333333,
              "#9c179e"
             ],
             [
              0.4444444444444444,
              "#bd3786"
             ],
             [
              0.5555555555555556,
              "#d8576b"
             ],
             [
              0.6666666666666666,
              "#ed7953"
             ],
             [
              0.7777777777777778,
              "#fb9f3a"
             ],
             [
              0.8888888888888888,
              "#fdca26"
             ],
             [
              1,
              "#f0f921"
             ]
            ],
            "type": "surface"
           }
          ],
          "table": [
           {
            "cells": {
             "fill": {
              "color": "#EBF0F8"
             },
             "line": {
              "color": "white"
             }
            },
            "header": {
             "fill": {
              "color": "#C8D4E3"
             },
             "line": {
              "color": "white"
             }
            },
            "type": "table"
           }
          ]
         },
         "layout": {
          "annotationdefaults": {
           "arrowcolor": "#2a3f5f",
           "arrowhead": 0,
           "arrowwidth": 1
          },
          "autotypenumbers": "strict",
          "coloraxis": {
           "colorbar": {
            "outlinewidth": 0,
            "ticks": ""
           }
          },
          "colorscale": {
           "diverging": [
            [
             0,
             "#8e0152"
            ],
            [
             0.1,
             "#c51b7d"
            ],
            [
             0.2,
             "#de77ae"
            ],
            [
             0.3,
             "#f1b6da"
            ],
            [
             0.4,
             "#fde0ef"
            ],
            [
             0.5,
             "#f7f7f7"
            ],
            [
             0.6,
             "#e6f5d0"
            ],
            [
             0.7,
             "#b8e186"
            ],
            [
             0.8,
             "#7fbc41"
            ],
            [
             0.9,
             "#4d9221"
            ],
            [
             1,
             "#276419"
            ]
           ],
           "sequential": [
            [
             0,
             "#0d0887"
            ],
            [
             0.1111111111111111,
             "#46039f"
            ],
            [
             0.2222222222222222,
             "#7201a8"
            ],
            [
             0.3333333333333333,
             "#9c179e"
            ],
            [
             0.4444444444444444,
             "#bd3786"
            ],
            [
             0.5555555555555556,
             "#d8576b"
            ],
            [
             0.6666666666666666,
             "#ed7953"
            ],
            [
             0.7777777777777778,
             "#fb9f3a"
            ],
            [
             0.8888888888888888,
             "#fdca26"
            ],
            [
             1,
             "#f0f921"
            ]
           ],
           "sequentialminus": [
            [
             0,
             "#0d0887"
            ],
            [
             0.1111111111111111,
             "#46039f"
            ],
            [
             0.2222222222222222,
             "#7201a8"
            ],
            [
             0.3333333333333333,
             "#9c179e"
            ],
            [
             0.4444444444444444,
             "#bd3786"
            ],
            [
             0.5555555555555556,
             "#d8576b"
            ],
            [
             0.6666666666666666,
             "#ed7953"
            ],
            [
             0.7777777777777778,
             "#fb9f3a"
            ],
            [
             0.8888888888888888,
             "#fdca26"
            ],
            [
             1,
             "#f0f921"
            ]
           ]
          },
          "colorway": [
           "#636efa",
           "#EF553B",
           "#00cc96",
           "#ab63fa",
           "#FFA15A",
           "#19d3f3",
           "#FF6692",
           "#B6E880",
           "#FF97FF",
           "#FECB52"
          ],
          "font": {
           "color": "#2a3f5f"
          },
          "geo": {
           "bgcolor": "white",
           "lakecolor": "white",
           "landcolor": "white",
           "showlakes": true,
           "showland": true,
           "subunitcolor": "#C8D4E3"
          },
          "hoverlabel": {
           "align": "left"
          },
          "hovermode": "closest",
          "mapbox": {
           "style": "light"
          },
          "paper_bgcolor": "white",
          "plot_bgcolor": "white",
          "polar": {
           "angularaxis": {
            "gridcolor": "#EBF0F8",
            "linecolor": "#EBF0F8",
            "ticks": ""
           },
           "bgcolor": "white",
           "radialaxis": {
            "gridcolor": "#EBF0F8",
            "linecolor": "#EBF0F8",
            "ticks": ""
           }
          },
          "scene": {
           "xaxis": {
            "backgroundcolor": "white",
            "gridcolor": "#DFE8F3",
            "gridwidth": 2,
            "linecolor": "#EBF0F8",
            "showbackground": true,
            "ticks": "",
            "zerolinecolor": "#EBF0F8"
           },
           "yaxis": {
            "backgroundcolor": "white",
            "gridcolor": "#DFE8F3",
            "gridwidth": 2,
            "linecolor": "#EBF0F8",
            "showbackground": true,
            "ticks": "",
            "zerolinecolor": "#EBF0F8"
           },
           "zaxis": {
            "backgroundcolor": "white",
            "gridcolor": "#DFE8F3",
            "gridwidth": 2,
            "linecolor": "#EBF0F8",
            "showbackground": true,
            "ticks": "",
            "zerolinecolor": "#EBF0F8"
           }
          },
          "shapedefaults": {
           "line": {
            "color": "#2a3f5f"
           }
          },
          "ternary": {
           "aaxis": {
            "gridcolor": "#DFE8F3",
            "linecolor": "#A2B1C6",
            "ticks": ""
           },
           "baxis": {
            "gridcolor": "#DFE8F3",
            "linecolor": "#A2B1C6",
            "ticks": ""
           },
           "bgcolor": "white",
           "caxis": {
            "gridcolor": "#DFE8F3",
            "linecolor": "#A2B1C6",
            "ticks": ""
           }
          },
          "title": {
           "x": 0.05
          },
          "xaxis": {
           "automargin": true,
           "gridcolor": "#EBF0F8",
           "linecolor": "#EBF0F8",
           "ticks": "",
           "title": {
            "standoff": 15
           },
           "zerolinecolor": "#EBF0F8",
           "zerolinewidth": 2
          },
          "yaxis": {
           "automargin": true,
           "gridcolor": "#EBF0F8",
           "linecolor": "#EBF0F8",
           "ticks": "",
           "title": {
            "standoff": 15
           },
           "zerolinecolor": "#EBF0F8",
           "zerolinewidth": 2
          }
         }
        },
        "title": {
         "text": "Top 10 Features by Weight"
        },
        "xaxis": {
         "anchor": "y",
         "domain": [
          0,
          1
         ],
         "title": {
          "text": "F Score"
         }
        },
        "yaxis": {
         "anchor": "x",
         "domain": [
          0,
          1
         ],
         "title": {
          "text": "Features"
         }
        }
       }
      },
      "text/html": [
       "<div>                            <div id=\"e82cf2a1-3da2-4eda-8b61-3b91dd401fd1\" class=\"plotly-graph-div\" style=\"height:525px; width:100%;\"></div>            <script type=\"text/javascript\">                require([\"plotly\"], function(Plotly) {                    window.PLOTLYENV=window.PLOTLYENV || {};                                    if (document.getElementById(\"e82cf2a1-3da2-4eda-8b61-3b91dd401fd1\")) {                    Plotly.newPlot(                        \"e82cf2a1-3da2-4eda-8b61-3b91dd401fd1\",                        [{\"alignmentgroup\":\"True\",\"hovertemplate\":\"variable=score<br>value=%{x}<br>index=%{y}<extra></extra>\",\"legendgroup\":\"score\",\"marker\":{\"color\":\"#636efa\",\"pattern\":{\"shape\":\"\"}},\"name\":\"score\",\"offsetgroup\":\"score\",\"orientation\":\"h\",\"showlegend\":true,\"textposition\":\"auto\",\"x\":[453.0,251.0,225.0,175.0,142.0,109.0,106.0,104.0,62.0,60.0],\"xaxis\":\"x\",\"y\":[\"num__total_rec_prncp\",\"num__loan_amnt\",\"num__last_pymnt_amnt\",\"num__installment\",\"num__last_pymnt_d\",\"num__total_rec_late_fee\",\"num__total_rec_int\",\"num__out_prncp\",\"num__revol_bal\",\"num__earliest_cr_line\"],\"yaxis\":\"y\",\"type\":\"bar\"}],                        {\"template\":{\"data\":{\"barpolar\":[{\"marker\":{\"line\":{\"color\":\"white\",\"width\":0.5},\"pattern\":{\"fillmode\":\"overlay\",\"size\":10,\"solidity\":0.2}},\"type\":\"barpolar\"}],\"bar\":[{\"error_x\":{\"color\":\"#2a3f5f\"},\"error_y\":{\"color\":\"#2a3f5f\"},\"marker\":{\"line\":{\"color\":\"white\",\"width\":0.5},\"pattern\":{\"fillmode\":\"overlay\",\"size\":10,\"solidity\":0.2}},\"type\":\"bar\"}],\"carpet\":[{\"aaxis\":{\"endlinecolor\":\"#2a3f5f\",\"gridcolor\":\"#C8D4E3\",\"linecolor\":\"#C8D4E3\",\"minorgridcolor\":\"#C8D4E3\",\"startlinecolor\":\"#2a3f5f\"},\"baxis\":{\"endlinecolor\":\"#2a3f5f\",\"gridcolor\":\"#C8D4E3\",\"linecolor\":\"#C8D4E3\",\"minorgridcolor\":\"#C8D4E3\",\"startlinecolor\":\"#2a3f5f\"},\"type\":\"carpet\"}],\"choropleth\":[{\"colorbar\":{\"outlinewidth\":0,\"ticks\":\"\"},\"type\":\"choropleth\"}],\"contourcarpet\":[{\"colorbar\":{\"outlinewidth\":0,\"ticks\":\"\"},\"type\":\"contourcarpet\"}],\"contour\":[{\"colorbar\":{\"outlinewidth\":0,\"ticks\":\"\"},\"colorscale\":[[0.0,\"#0d0887\"],[0.1111111111111111,\"#46039f\"],[0.2222222222222222,\"#7201a8\"],[0.3333333333333333,\"#9c179e\"],[0.4444444444444444,\"#bd3786\"],[0.5555555555555556,\"#d8576b\"],[0.6666666666666666,\"#ed7953\"],[0.7777777777777778,\"#fb9f3a\"],[0.8888888888888888,\"#fdca26\"],[1.0,\"#f0f921\"]],\"type\":\"contour\"}],\"heatmapgl\":[{\"colorbar\":{\"outlinewidth\":0,\"ticks\":\"\"},\"colorscale\":[[0.0,\"#0d0887\"],[0.1111111111111111,\"#46039f\"],[0.2222222222222222,\"#7201a8\"],[0.3333333333333333,\"#9c179e\"],[0.4444444444444444,\"#bd3786\"],[0.5555555555555556,\"#d8576b\"],[0.6666666666666666,\"#ed7953\"],[0.7777777777777778,\"#fb9f3a\"],[0.8888888888888888,\"#fdca26\"],[1.0,\"#f0f921\"]],\"type\":\"heatmapgl\"}],\"heatmap\":[{\"colorbar\":{\"outlinewidth\":0,\"ticks\":\"\"},\"colorscale\":[[0.0,\"#0d0887\"],[0.1111111111111111,\"#46039f\"],[0.2222222222222222,\"#7201a8\"],[0.3333333333333333,\"#9c179e\"],[0.4444444444444444,\"#bd3786\"],[0.5555555555555556,\"#d8576b\"],[0.6666666666666666,\"#ed7953\"],[0.7777777777777778,\"#fb9f3a\"],[0.8888888888888888,\"#fdca26\"],[1.0,\"#f0f921\"]],\"type\":\"heatmap\"}],\"histogram2dcontour\":[{\"colorbar\":{\"outlinewidth\":0,\"ticks\":\"\"},\"colorscale\":[[0.0,\"#0d0887\"],[0.1111111111111111,\"#46039f\"],[0.2222222222222222,\"#7201a8\"],[0.3333333333333333,\"#9c179e\"],[0.4444444444444444,\"#bd3786\"],[0.5555555555555556,\"#d8576b\"],[0.6666666666666666,\"#ed7953\"],[0.7777777777777778,\"#fb9f3a\"],[0.8888888888888888,\"#fdca26\"],[1.0,\"#f0f921\"]],\"type\":\"histogram2dcontour\"}],\"histogram2d\":[{\"colorbar\":{\"outlinewidth\":0,\"ticks\":\"\"},\"colorscale\":[[0.0,\"#0d0887\"],[0.1111111111111111,\"#46039f\"],[0.2222222222222222,\"#7201a8\"],[0.3333333333333333,\"#9c179e\"],[0.4444444444444444,\"#bd3786\"],[0.5555555555555556,\"#d8576b\"],[0.6666666666666666,\"#ed7953\"],[0.7777777777777778,\"#fb9f3a\"],[0.8888888888888888,\"#fdca26\"],[1.0,\"#f0f921\"]],\"type\":\"histogram2d\"}],\"histogram\":[{\"marker\":{\"pattern\":{\"fillmode\":\"overlay\",\"size\":10,\"solidity\":0.2}},\"type\":\"histogram\"}],\"mesh3d\":[{\"colorbar\":{\"outlinewidth\":0,\"ticks\":\"\"},\"type\":\"mesh3d\"}],\"parcoords\":[{\"line\":{\"colorbar\":{\"outlinewidth\":0,\"ticks\":\"\"}},\"type\":\"parcoords\"}],\"pie\":[{\"automargin\":true,\"type\":\"pie\"}],\"scatter3d\":[{\"line\":{\"colorbar\":{\"outlinewidth\":0,\"ticks\":\"\"}},\"marker\":{\"colorbar\":{\"outlinewidth\":0,\"ticks\":\"\"}},\"type\":\"scatter3d\"}],\"scattercarpet\":[{\"marker\":{\"colorbar\":{\"outlinewidth\":0,\"ticks\":\"\"}},\"type\":\"scattercarpet\"}],\"scattergeo\":[{\"marker\":{\"colorbar\":{\"outlinewidth\":0,\"ticks\":\"\"}},\"type\":\"scattergeo\"}],\"scattergl\":[{\"marker\":{\"colorbar\":{\"outlinewidth\":0,\"ticks\":\"\"}},\"type\":\"scattergl\"}],\"scattermapbox\":[{\"marker\":{\"colorbar\":{\"outlinewidth\":0,\"ticks\":\"\"}},\"type\":\"scattermapbox\"}],\"scatterpolargl\":[{\"marker\":{\"colorbar\":{\"outlinewidth\":0,\"ticks\":\"\"}},\"type\":\"scatterpolargl\"}],\"scatterpolar\":[{\"marker\":{\"colorbar\":{\"outlinewidth\":0,\"ticks\":\"\"}},\"type\":\"scatterpolar\"}],\"scatter\":[{\"marker\":{\"colorbar\":{\"outlinewidth\":0,\"ticks\":\"\"}},\"type\":\"scatter\"}],\"scatterternary\":[{\"marker\":{\"colorbar\":{\"outlinewidth\":0,\"ticks\":\"\"}},\"type\":\"scatterternary\"}],\"surface\":[{\"colorbar\":{\"outlinewidth\":0,\"ticks\":\"\"},\"colorscale\":[[0.0,\"#0d0887\"],[0.1111111111111111,\"#46039f\"],[0.2222222222222222,\"#7201a8\"],[0.3333333333333333,\"#9c179e\"],[0.4444444444444444,\"#bd3786\"],[0.5555555555555556,\"#d8576b\"],[0.6666666666666666,\"#ed7953\"],[0.7777777777777778,\"#fb9f3a\"],[0.8888888888888888,\"#fdca26\"],[1.0,\"#f0f921\"]],\"type\":\"surface\"}],\"table\":[{\"cells\":{\"fill\":{\"color\":\"#EBF0F8\"},\"line\":{\"color\":\"white\"}},\"header\":{\"fill\":{\"color\":\"#C8D4E3\"},\"line\":{\"color\":\"white\"}},\"type\":\"table\"}]},\"layout\":{\"annotationdefaults\":{\"arrowcolor\":\"#2a3f5f\",\"arrowhead\":0,\"arrowwidth\":1},\"autotypenumbers\":\"strict\",\"coloraxis\":{\"colorbar\":{\"outlinewidth\":0,\"ticks\":\"\"}},\"colorscale\":{\"diverging\":[[0,\"#8e0152\"],[0.1,\"#c51b7d\"],[0.2,\"#de77ae\"],[0.3,\"#f1b6da\"],[0.4,\"#fde0ef\"],[0.5,\"#f7f7f7\"],[0.6,\"#e6f5d0\"],[0.7,\"#b8e186\"],[0.8,\"#7fbc41\"],[0.9,\"#4d9221\"],[1,\"#276419\"]],\"sequential\":[[0.0,\"#0d0887\"],[0.1111111111111111,\"#46039f\"],[0.2222222222222222,\"#7201a8\"],[0.3333333333333333,\"#9c179e\"],[0.4444444444444444,\"#bd3786\"],[0.5555555555555556,\"#d8576b\"],[0.6666666666666666,\"#ed7953\"],[0.7777777777777778,\"#fb9f3a\"],[0.8888888888888888,\"#fdca26\"],[1.0,\"#f0f921\"]],\"sequentialminus\":[[0.0,\"#0d0887\"],[0.1111111111111111,\"#46039f\"],[0.2222222222222222,\"#7201a8\"],[0.3333333333333333,\"#9c179e\"],[0.4444444444444444,\"#bd3786\"],[0.5555555555555556,\"#d8576b\"],[0.6666666666666666,\"#ed7953\"],[0.7777777777777778,\"#fb9f3a\"],[0.8888888888888888,\"#fdca26\"],[1.0,\"#f0f921\"]]},\"colorway\":[\"#636efa\",\"#EF553B\",\"#00cc96\",\"#ab63fa\",\"#FFA15A\",\"#19d3f3\",\"#FF6692\",\"#B6E880\",\"#FF97FF\",\"#FECB52\"],\"font\":{\"color\":\"#2a3f5f\"},\"geo\":{\"bgcolor\":\"white\",\"lakecolor\":\"white\",\"landcolor\":\"white\",\"showlakes\":true,\"showland\":true,\"subunitcolor\":\"#C8D4E3\"},\"hoverlabel\":{\"align\":\"left\"},\"hovermode\":\"closest\",\"mapbox\":{\"style\":\"light\"},\"paper_bgcolor\":\"white\",\"plot_bgcolor\":\"white\",\"polar\":{\"angularaxis\":{\"gridcolor\":\"#EBF0F8\",\"linecolor\":\"#EBF0F8\",\"ticks\":\"\"},\"bgcolor\":\"white\",\"radialaxis\":{\"gridcolor\":\"#EBF0F8\",\"linecolor\":\"#EBF0F8\",\"ticks\":\"\"}},\"scene\":{\"xaxis\":{\"backgroundcolor\":\"white\",\"gridcolor\":\"#DFE8F3\",\"gridwidth\":2,\"linecolor\":\"#EBF0F8\",\"showbackground\":true,\"ticks\":\"\",\"zerolinecolor\":\"#EBF0F8\"},\"yaxis\":{\"backgroundcolor\":\"white\",\"gridcolor\":\"#DFE8F3\",\"gridwidth\":2,\"linecolor\":\"#EBF0F8\",\"showbackground\":true,\"ticks\":\"\",\"zerolinecolor\":\"#EBF0F8\"},\"zaxis\":{\"backgroundcolor\":\"white\",\"gridcolor\":\"#DFE8F3\",\"gridwidth\":2,\"linecolor\":\"#EBF0F8\",\"showbackground\":true,\"ticks\":\"\",\"zerolinecolor\":\"#EBF0F8\"}},\"shapedefaults\":{\"line\":{\"color\":\"#2a3f5f\"}},\"ternary\":{\"aaxis\":{\"gridcolor\":\"#DFE8F3\",\"linecolor\":\"#A2B1C6\",\"ticks\":\"\"},\"baxis\":{\"gridcolor\":\"#DFE8F3\",\"linecolor\":\"#A2B1C6\",\"ticks\":\"\"},\"bgcolor\":\"white\",\"caxis\":{\"gridcolor\":\"#DFE8F3\",\"linecolor\":\"#A2B1C6\",\"ticks\":\"\"}},\"title\":{\"x\":0.05},\"xaxis\":{\"automargin\":true,\"gridcolor\":\"#EBF0F8\",\"linecolor\":\"#EBF0F8\",\"ticks\":\"\",\"title\":{\"standoff\":15},\"zerolinecolor\":\"#EBF0F8\",\"zerolinewidth\":2},\"yaxis\":{\"automargin\":true,\"gridcolor\":\"#EBF0F8\",\"linecolor\":\"#EBF0F8\",\"ticks\":\"\",\"title\":{\"standoff\":15},\"zerolinecolor\":\"#EBF0F8\",\"zerolinewidth\":2}}},\"xaxis\":{\"anchor\":\"y\",\"domain\":[0.0,1.0],\"title\":{\"text\":\"F Score\"}},\"yaxis\":{\"anchor\":\"x\",\"domain\":[0.0,1.0],\"title\":{\"text\":\"Features\"}},\"legend\":{\"title\":{\"text\":\"variable\"},\"tracegroupgap\":0},\"margin\":{\"t\":60},\"barmode\":\"relative\",\"title\":{\"text\":\"Top 10 Features by Weight\"},\"showlegend\":false},                        {\"responsive\": true}                    ).then(function(){\n",
       "                            \n",
       "var gd = document.getElementById('e82cf2a1-3da2-4eda-8b61-3b91dd401fd1');\n",
       "var x = new MutationObserver(function (mutations, observer) {{\n",
       "        var display = window.getComputedStyle(gd).display;\n",
       "        if (!display || display === 'none') {{\n",
       "            console.log([gd, 'removed!']);\n",
       "            Plotly.purge(gd);\n",
       "            observer.disconnect();\n",
       "        }}\n",
       "}});\n",
       "\n",
       "// Listen for the removal of the full notebook cells\n",
       "var notebookContainer = gd.closest('#notebook-container');\n",
       "if (notebookContainer) {{\n",
       "    x.observe(notebookContainer, {childList: true});\n",
       "}}\n",
       "\n",
       "// Listen for the clearing of the current output cell\n",
       "var outputEl = gd.closest('.output');\n",
       "if (outputEl) {{\n",
       "    x.observe(outputEl, {childList: true});\n",
       "}}\n",
       "\n",
       "                        })                };                });            </script>        </div>"
      ]
     },
     "metadata": {},
     "output_type": "display_data"
    }
   ],
   "source": [
    "feature_important = xclf.get_booster().get_score(importance_type='weight')\n",
    "keys = list(feature_important.keys())\n",
    "values = list(feature_important.values())\n",
    "\n",
    "data = pd.DataFrame(data=values, index=keys, columns=[\"score\"]).sort_values(by = \"score\", ascending=False)\n",
    "top_10 = data.nlargest(10, columns=\"score\")\n",
    "\n",
    "fig = px.bar(top_10, orientation = \"h\", template = \"plotly_white\")\n",
    "fig.update_layout(title = \"Top 10 Features by Weight\",\n",
    "                 xaxis_title = \"F Score\",\n",
    "                 yaxis_title = \"Features\",\n",
    "                 showlegend = False)\n",
    "fig.show()\n",
    "fig.write_image(\"xgbc_feature_importance.png\")"
   ]
  },
  {
   "cell_type": "code",
   "execution_count": 76,
   "id": "eba8f2ba",
   "metadata": {},
   "outputs": [
    {
     "data": {
      "text/plain": [
       "{'objective': 'binary:logistic',\n",
       " 'base_score': 0.5,\n",
       " 'booster': 'gbtree',\n",
       " 'colsample_bylevel': 1,\n",
       " 'colsample_bynode': 1,\n",
       " 'colsample_bytree': 1,\n",
       " 'eval_metric': None,\n",
       " 'gamma': 0,\n",
       " 'gpu_id': -1,\n",
       " 'grow_policy': 'depthwise',\n",
       " 'interaction_constraints': '',\n",
       " 'learning_rate': 0.300000012,\n",
       " 'max_bin': 256,\n",
       " 'max_cat_threshold': 64,\n",
       " 'max_cat_to_onehot': 4,\n",
       " 'max_delta_step': 0,\n",
       " 'max_depth': 6,\n",
       " 'max_leaves': 0,\n",
       " 'min_child_weight': 1,\n",
       " 'monotone_constraints': '()',\n",
       " 'n_jobs': 0,\n",
       " 'num_parallel_tree': 1,\n",
       " 'predictor': 'auto',\n",
       " 'random_state': 0,\n",
       " 'reg_alpha': 0,\n",
       " 'reg_lambda': 1,\n",
       " 'sampling_method': 'uniform',\n",
       " 'scale_pos_weight': 1,\n",
       " 'subsample': 1,\n",
       " 'tree_method': 'exact',\n",
       " 'validate_parameters': 1,\n",
       " 'verbosity': None}"
      ]
     },
     "execution_count": 76,
     "metadata": {},
     "output_type": "execute_result"
    }
   ],
   "source": [
    "xclf.get_xgb_params()"
   ]
  },
  {
   "cell_type": "code",
   "execution_count": 77,
   "id": "4f69dd90",
   "metadata": {},
   "outputs": [
    {
     "data": {
      "application/vnd.plotly.v1+json": {
       "config": {
        "plotlyServerURL": "https://plot.ly"
       },
       "data": [
        {
         "hovertemplate": "Recall=%{x}<br>Precision=%{y}<extra></extra>",
         "legendgroup": "",
         "line": {
          "color": "#636efa"
         },
         "marker": {
          "symbol": "circle"
         },
         "mode": "lines",
         "name": "",
         "orientation": "v",
         "showlegend": false,
         "stackgroup": "1",
         "type": "scatter",
         "x": [
          1,
          0.9953917050691244,
          0
         ],
         "xaxis": "x",
         "y": [
          0.0009270453739581419,
          1,
          1
         ],
         "yaxis": "y"
        }
       ],
       "layout": {
        "height": 500,
        "legend": {
         "tracegroupgap": 0
        },
        "shapes": [
         {
          "line": {
           "dash": "dash"
          },
          "type": "line",
          "x0": 0,
          "x1": 1,
          "y0": 1,
          "y1": 0
         }
        ],
        "template": {
         "data": {
          "bar": [
           {
            "error_x": {
             "color": "#2a3f5f"
            },
            "error_y": {
             "color": "#2a3f5f"
            },
            "marker": {
             "line": {
              "color": "#E5ECF6",
              "width": 0.5
             },
             "pattern": {
              "fillmode": "overlay",
              "size": 10,
              "solidity": 0.2
             }
            },
            "type": "bar"
           }
          ],
          "barpolar": [
           {
            "marker": {
             "line": {
              "color": "#E5ECF6",
              "width": 0.5
             },
             "pattern": {
              "fillmode": "overlay",
              "size": 10,
              "solidity": 0.2
             }
            },
            "type": "barpolar"
           }
          ],
          "carpet": [
           {
            "aaxis": {
             "endlinecolor": "#2a3f5f",
             "gridcolor": "white",
             "linecolor": "white",
             "minorgridcolor": "white",
             "startlinecolor": "#2a3f5f"
            },
            "baxis": {
             "endlinecolor": "#2a3f5f",
             "gridcolor": "white",
             "linecolor": "white",
             "minorgridcolor": "white",
             "startlinecolor": "#2a3f5f"
            },
            "type": "carpet"
           }
          ],
          "choropleth": [
           {
            "colorbar": {
             "outlinewidth": 0,
             "ticks": ""
            },
            "type": "choropleth"
           }
          ],
          "contour": [
           {
            "colorbar": {
             "outlinewidth": 0,
             "ticks": ""
            },
            "colorscale": [
             [
              0,
              "#0d0887"
             ],
             [
              0.1111111111111111,
              "#46039f"
             ],
             [
              0.2222222222222222,
              "#7201a8"
             ],
             [
              0.3333333333333333,
              "#9c179e"
             ],
             [
              0.4444444444444444,
              "#bd3786"
             ],
             [
              0.5555555555555556,
              "#d8576b"
             ],
             [
              0.6666666666666666,
              "#ed7953"
             ],
             [
              0.7777777777777778,
              "#fb9f3a"
             ],
             [
              0.8888888888888888,
              "#fdca26"
             ],
             [
              1,
              "#f0f921"
             ]
            ],
            "type": "contour"
           }
          ],
          "contourcarpet": [
           {
            "colorbar": {
             "outlinewidth": 0,
             "ticks": ""
            },
            "type": "contourcarpet"
           }
          ],
          "heatmap": [
           {
            "colorbar": {
             "outlinewidth": 0,
             "ticks": ""
            },
            "colorscale": [
             [
              0,
              "#0d0887"
             ],
             [
              0.1111111111111111,
              "#46039f"
             ],
             [
              0.2222222222222222,
              "#7201a8"
             ],
             [
              0.3333333333333333,
              "#9c179e"
             ],
             [
              0.4444444444444444,
              "#bd3786"
             ],
             [
              0.5555555555555556,
              "#d8576b"
             ],
             [
              0.6666666666666666,
              "#ed7953"
             ],
             [
              0.7777777777777778,
              "#fb9f3a"
             ],
             [
              0.8888888888888888,
              "#fdca26"
             ],
             [
              1,
              "#f0f921"
             ]
            ],
            "type": "heatmap"
           }
          ],
          "heatmapgl": [
           {
            "colorbar": {
             "outlinewidth": 0,
             "ticks": ""
            },
            "colorscale": [
             [
              0,
              "#0d0887"
             ],
             [
              0.1111111111111111,
              "#46039f"
             ],
             [
              0.2222222222222222,
              "#7201a8"
             ],
             [
              0.3333333333333333,
              "#9c179e"
             ],
             [
              0.4444444444444444,
              "#bd3786"
             ],
             [
              0.5555555555555556,
              "#d8576b"
             ],
             [
              0.6666666666666666,
              "#ed7953"
             ],
             [
              0.7777777777777778,
              "#fb9f3a"
             ],
             [
              0.8888888888888888,
              "#fdca26"
             ],
             [
              1,
              "#f0f921"
             ]
            ],
            "type": "heatmapgl"
           }
          ],
          "histogram": [
           {
            "marker": {
             "pattern": {
              "fillmode": "overlay",
              "size": 10,
              "solidity": 0.2
             }
            },
            "type": "histogram"
           }
          ],
          "histogram2d": [
           {
            "colorbar": {
             "outlinewidth": 0,
             "ticks": ""
            },
            "colorscale": [
             [
              0,
              "#0d0887"
             ],
             [
              0.1111111111111111,
              "#46039f"
             ],
             [
              0.2222222222222222,
              "#7201a8"
             ],
             [
              0.3333333333333333,
              "#9c179e"
             ],
             [
              0.4444444444444444,
              "#bd3786"
             ],
             [
              0.5555555555555556,
              "#d8576b"
             ],
             [
              0.6666666666666666,
              "#ed7953"
             ],
             [
              0.7777777777777778,
              "#fb9f3a"
             ],
             [
              0.8888888888888888,
              "#fdca26"
             ],
             [
              1,
              "#f0f921"
             ]
            ],
            "type": "histogram2d"
           }
          ],
          "histogram2dcontour": [
           {
            "colorbar": {
             "outlinewidth": 0,
             "ticks": ""
            },
            "colorscale": [
             [
              0,
              "#0d0887"
             ],
             [
              0.1111111111111111,
              "#46039f"
             ],
             [
              0.2222222222222222,
              "#7201a8"
             ],
             [
              0.3333333333333333,
              "#9c179e"
             ],
             [
              0.4444444444444444,
              "#bd3786"
             ],
             [
              0.5555555555555556,
              "#d8576b"
             ],
             [
              0.6666666666666666,
              "#ed7953"
             ],
             [
              0.7777777777777778,
              "#fb9f3a"
             ],
             [
              0.8888888888888888,
              "#fdca26"
             ],
             [
              1,
              "#f0f921"
             ]
            ],
            "type": "histogram2dcontour"
           }
          ],
          "mesh3d": [
           {
            "colorbar": {
             "outlinewidth": 0,
             "ticks": ""
            },
            "type": "mesh3d"
           }
          ],
          "parcoords": [
           {
            "line": {
             "colorbar": {
              "outlinewidth": 0,
              "ticks": ""
             }
            },
            "type": "parcoords"
           }
          ],
          "pie": [
           {
            "automargin": true,
            "type": "pie"
           }
          ],
          "scatter": [
           {
            "marker": {
             "colorbar": {
              "outlinewidth": 0,
              "ticks": ""
             }
            },
            "type": "scatter"
           }
          ],
          "scatter3d": [
           {
            "line": {
             "colorbar": {
              "outlinewidth": 0,
              "ticks": ""
             }
            },
            "marker": {
             "colorbar": {
              "outlinewidth": 0,
              "ticks": ""
             }
            },
            "type": "scatter3d"
           }
          ],
          "scattercarpet": [
           {
            "marker": {
             "colorbar": {
              "outlinewidth": 0,
              "ticks": ""
             }
            },
            "type": "scattercarpet"
           }
          ],
          "scattergeo": [
           {
            "marker": {
             "colorbar": {
              "outlinewidth": 0,
              "ticks": ""
             }
            },
            "type": "scattergeo"
           }
          ],
          "scattergl": [
           {
            "marker": {
             "colorbar": {
              "outlinewidth": 0,
              "ticks": ""
             }
            },
            "type": "scattergl"
           }
          ],
          "scattermapbox": [
           {
            "marker": {
             "colorbar": {
              "outlinewidth": 0,
              "ticks": ""
             }
            },
            "type": "scattermapbox"
           }
          ],
          "scatterpolar": [
           {
            "marker": {
             "colorbar": {
              "outlinewidth": 0,
              "ticks": ""
             }
            },
            "type": "scatterpolar"
           }
          ],
          "scatterpolargl": [
           {
            "marker": {
             "colorbar": {
              "outlinewidth": 0,
              "ticks": ""
             }
            },
            "type": "scatterpolargl"
           }
          ],
          "scatterternary": [
           {
            "marker": {
             "colorbar": {
              "outlinewidth": 0,
              "ticks": ""
             }
            },
            "type": "scatterternary"
           }
          ],
          "surface": [
           {
            "colorbar": {
             "outlinewidth": 0,
             "ticks": ""
            },
            "colorscale": [
             [
              0,
              "#0d0887"
             ],
             [
              0.1111111111111111,
              "#46039f"
             ],
             [
              0.2222222222222222,
              "#7201a8"
             ],
             [
              0.3333333333333333,
              "#9c179e"
             ],
             [
              0.4444444444444444,
              "#bd3786"
             ],
             [
              0.5555555555555556,
              "#d8576b"
             ],
             [
              0.6666666666666666,
              "#ed7953"
             ],
             [
              0.7777777777777778,
              "#fb9f3a"
             ],
             [
              0.8888888888888888,
              "#fdca26"
             ],
             [
              1,
              "#f0f921"
             ]
            ],
            "type": "surface"
           }
          ],
          "table": [
           {
            "cells": {
             "fill": {
              "color": "#EBF0F8"
             },
             "line": {
              "color": "white"
             }
            },
            "header": {
             "fill": {
              "color": "#C8D4E3"
             },
             "line": {
              "color": "white"
             }
            },
            "type": "table"
           }
          ]
         },
         "layout": {
          "annotationdefaults": {
           "arrowcolor": "#2a3f5f",
           "arrowhead": 0,
           "arrowwidth": 1
          },
          "autotypenumbers": "strict",
          "coloraxis": {
           "colorbar": {
            "outlinewidth": 0,
            "ticks": ""
           }
          },
          "colorscale": {
           "diverging": [
            [
             0,
             "#8e0152"
            ],
            [
             0.1,
             "#c51b7d"
            ],
            [
             0.2,
             "#de77ae"
            ],
            [
             0.3,
             "#f1b6da"
            ],
            [
             0.4,
             "#fde0ef"
            ],
            [
             0.5,
             "#f7f7f7"
            ],
            [
             0.6,
             "#e6f5d0"
            ],
            [
             0.7,
             "#b8e186"
            ],
            [
             0.8,
             "#7fbc41"
            ],
            [
             0.9,
             "#4d9221"
            ],
            [
             1,
             "#276419"
            ]
           ],
           "sequential": [
            [
             0,
             "#0d0887"
            ],
            [
             0.1111111111111111,
             "#46039f"
            ],
            [
             0.2222222222222222,
             "#7201a8"
            ],
            [
             0.3333333333333333,
             "#9c179e"
            ],
            [
             0.4444444444444444,
             "#bd3786"
            ],
            [
             0.5555555555555556,
             "#d8576b"
            ],
            [
             0.6666666666666666,
             "#ed7953"
            ],
            [
             0.7777777777777778,
             "#fb9f3a"
            ],
            [
             0.8888888888888888,
             "#fdca26"
            ],
            [
             1,
             "#f0f921"
            ]
           ],
           "sequentialminus": [
            [
             0,
             "#0d0887"
            ],
            [
             0.1111111111111111,
             "#46039f"
            ],
            [
             0.2222222222222222,
             "#7201a8"
            ],
            [
             0.3333333333333333,
             "#9c179e"
            ],
            [
             0.4444444444444444,
             "#bd3786"
            ],
            [
             0.5555555555555556,
             "#d8576b"
            ],
            [
             0.6666666666666666,
             "#ed7953"
            ],
            [
             0.7777777777777778,
             "#fb9f3a"
            ],
            [
             0.8888888888888888,
             "#fdca26"
            ],
            [
             1,
             "#f0f921"
            ]
           ]
          },
          "colorway": [
           "#636efa",
           "#EF553B",
           "#00cc96",
           "#ab63fa",
           "#FFA15A",
           "#19d3f3",
           "#FF6692",
           "#B6E880",
           "#FF97FF",
           "#FECB52"
          ],
          "font": {
           "color": "#2a3f5f"
          },
          "geo": {
           "bgcolor": "white",
           "lakecolor": "white",
           "landcolor": "#E5ECF6",
           "showlakes": true,
           "showland": true,
           "subunitcolor": "white"
          },
          "hoverlabel": {
           "align": "left"
          },
          "hovermode": "closest",
          "mapbox": {
           "style": "light"
          },
          "paper_bgcolor": "white",
          "plot_bgcolor": "#E5ECF6",
          "polar": {
           "angularaxis": {
            "gridcolor": "white",
            "linecolor": "white",
            "ticks": ""
           },
           "bgcolor": "#E5ECF6",
           "radialaxis": {
            "gridcolor": "white",
            "linecolor": "white",
            "ticks": ""
           }
          },
          "scene": {
           "xaxis": {
            "backgroundcolor": "#E5ECF6",
            "gridcolor": "white",
            "gridwidth": 2,
            "linecolor": "white",
            "showbackground": true,
            "ticks": "",
            "zerolinecolor": "white"
           },
           "yaxis": {
            "backgroundcolor": "#E5ECF6",
            "gridcolor": "white",
            "gridwidth": 2,
            "linecolor": "white",
            "showbackground": true,
            "ticks": "",
            "zerolinecolor": "white"
           },
           "zaxis": {
            "backgroundcolor": "#E5ECF6",
            "gridcolor": "white",
            "gridwidth": 2,
            "linecolor": "white",
            "showbackground": true,
            "ticks": "",
            "zerolinecolor": "white"
           }
          },
          "shapedefaults": {
           "line": {
            "color": "#2a3f5f"
           }
          },
          "ternary": {
           "aaxis": {
            "gridcolor": "white",
            "linecolor": "white",
            "ticks": ""
           },
           "baxis": {
            "gridcolor": "white",
            "linecolor": "white",
            "ticks": ""
           },
           "bgcolor": "#E5ECF6",
           "caxis": {
            "gridcolor": "white",
            "linecolor": "white",
            "ticks": ""
           }
          },
          "title": {
           "x": 0.05
          },
          "xaxis": {
           "automargin": true,
           "gridcolor": "white",
           "linecolor": "white",
           "ticks": "",
           "title": {
            "standoff": 15
           },
           "zerolinecolor": "white",
           "zerolinewidth": 2
          },
          "yaxis": {
           "automargin": true,
           "gridcolor": "white",
           "linecolor": "white",
           "ticks": "",
           "title": {
            "standoff": 15
           },
           "zerolinecolor": "white",
           "zerolinewidth": 2
          }
         }
        },
        "title": {
         "text": "Precision-Recall Curve (AUC=0.9977)"
        },
        "width": 700,
        "xaxis": {
         "anchor": "y",
         "constrain": "domain",
         "domain": [
          0,
          1
         ],
         "title": {
          "text": "Recall"
         }
        },
        "yaxis": {
         "anchor": "x",
         "domain": [
          0,
          1
         ],
         "scaleanchor": "x",
         "scaleratio": 1,
         "title": {
          "text": "Precision"
         }
        }
       }
      },
      "text/html": [
       "<div>                            <div id=\"a39293ac-99dc-4e79-a542-1b3b3a0a3ca2\" class=\"plotly-graph-div\" style=\"height:500px; width:700px;\"></div>            <script type=\"text/javascript\">                require([\"plotly\"], function(Plotly) {                    window.PLOTLYENV=window.PLOTLYENV || {};                                    if (document.getElementById(\"a39293ac-99dc-4e79-a542-1b3b3a0a3ca2\")) {                    Plotly.newPlot(                        \"a39293ac-99dc-4e79-a542-1b3b3a0a3ca2\",                        [{\"hovertemplate\":\"Recall=%{x}<br>Precision=%{y}<extra></extra>\",\"legendgroup\":\"\",\"line\":{\"color\":\"#636efa\"},\"marker\":{\"symbol\":\"circle\"},\"mode\":\"lines\",\"name\":\"\",\"orientation\":\"v\",\"showlegend\":false,\"stackgroup\":\"1\",\"x\":[1.0,0.9953917050691244,0.0],\"xaxis\":\"x\",\"y\":[0.0009270453739581419,1.0,1.0],\"yaxis\":\"y\",\"type\":\"scatter\"}],                        {\"template\":{\"data\":{\"bar\":[{\"error_x\":{\"color\":\"#2a3f5f\"},\"error_y\":{\"color\":\"#2a3f5f\"},\"marker\":{\"line\":{\"color\":\"#E5ECF6\",\"width\":0.5},\"pattern\":{\"fillmode\":\"overlay\",\"size\":10,\"solidity\":0.2}},\"type\":\"bar\"}],\"barpolar\":[{\"marker\":{\"line\":{\"color\":\"#E5ECF6\",\"width\":0.5},\"pattern\":{\"fillmode\":\"overlay\",\"size\":10,\"solidity\":0.2}},\"type\":\"barpolar\"}],\"carpet\":[{\"aaxis\":{\"endlinecolor\":\"#2a3f5f\",\"gridcolor\":\"white\",\"linecolor\":\"white\",\"minorgridcolor\":\"white\",\"startlinecolor\":\"#2a3f5f\"},\"baxis\":{\"endlinecolor\":\"#2a3f5f\",\"gridcolor\":\"white\",\"linecolor\":\"white\",\"minorgridcolor\":\"white\",\"startlinecolor\":\"#2a3f5f\"},\"type\":\"carpet\"}],\"choropleth\":[{\"colorbar\":{\"outlinewidth\":0,\"ticks\":\"\"},\"type\":\"choropleth\"}],\"contour\":[{\"colorbar\":{\"outlinewidth\":0,\"ticks\":\"\"},\"colorscale\":[[0.0,\"#0d0887\"],[0.1111111111111111,\"#46039f\"],[0.2222222222222222,\"#7201a8\"],[0.3333333333333333,\"#9c179e\"],[0.4444444444444444,\"#bd3786\"],[0.5555555555555556,\"#d8576b\"],[0.6666666666666666,\"#ed7953\"],[0.7777777777777778,\"#fb9f3a\"],[0.8888888888888888,\"#fdca26\"],[1.0,\"#f0f921\"]],\"type\":\"contour\"}],\"contourcarpet\":[{\"colorbar\":{\"outlinewidth\":0,\"ticks\":\"\"},\"type\":\"contourcarpet\"}],\"heatmap\":[{\"colorbar\":{\"outlinewidth\":0,\"ticks\":\"\"},\"colorscale\":[[0.0,\"#0d0887\"],[0.1111111111111111,\"#46039f\"],[0.2222222222222222,\"#7201a8\"],[0.3333333333333333,\"#9c179e\"],[0.4444444444444444,\"#bd3786\"],[0.5555555555555556,\"#d8576b\"],[0.6666666666666666,\"#ed7953\"],[0.7777777777777778,\"#fb9f3a\"],[0.8888888888888888,\"#fdca26\"],[1.0,\"#f0f921\"]],\"type\":\"heatmap\"}],\"heatmapgl\":[{\"colorbar\":{\"outlinewidth\":0,\"ticks\":\"\"},\"colorscale\":[[0.0,\"#0d0887\"],[0.1111111111111111,\"#46039f\"],[0.2222222222222222,\"#7201a8\"],[0.3333333333333333,\"#9c179e\"],[0.4444444444444444,\"#bd3786\"],[0.5555555555555556,\"#d8576b\"],[0.6666666666666666,\"#ed7953\"],[0.7777777777777778,\"#fb9f3a\"],[0.8888888888888888,\"#fdca26\"],[1.0,\"#f0f921\"]],\"type\":\"heatmapgl\"}],\"histogram\":[{\"marker\":{\"pattern\":{\"fillmode\":\"overlay\",\"size\":10,\"solidity\":0.2}},\"type\":\"histogram\"}],\"histogram2d\":[{\"colorbar\":{\"outlinewidth\":0,\"ticks\":\"\"},\"colorscale\":[[0.0,\"#0d0887\"],[0.1111111111111111,\"#46039f\"],[0.2222222222222222,\"#7201a8\"],[0.3333333333333333,\"#9c179e\"],[0.4444444444444444,\"#bd3786\"],[0.5555555555555556,\"#d8576b\"],[0.6666666666666666,\"#ed7953\"],[0.7777777777777778,\"#fb9f3a\"],[0.8888888888888888,\"#fdca26\"],[1.0,\"#f0f921\"]],\"type\":\"histogram2d\"}],\"histogram2dcontour\":[{\"colorbar\":{\"outlinewidth\":0,\"ticks\":\"\"},\"colorscale\":[[0.0,\"#0d0887\"],[0.1111111111111111,\"#46039f\"],[0.2222222222222222,\"#7201a8\"],[0.3333333333333333,\"#9c179e\"],[0.4444444444444444,\"#bd3786\"],[0.5555555555555556,\"#d8576b\"],[0.6666666666666666,\"#ed7953\"],[0.7777777777777778,\"#fb9f3a\"],[0.8888888888888888,\"#fdca26\"],[1.0,\"#f0f921\"]],\"type\":\"histogram2dcontour\"}],\"mesh3d\":[{\"colorbar\":{\"outlinewidth\":0,\"ticks\":\"\"},\"type\":\"mesh3d\"}],\"parcoords\":[{\"line\":{\"colorbar\":{\"outlinewidth\":0,\"ticks\":\"\"}},\"type\":\"parcoords\"}],\"pie\":[{\"automargin\":true,\"type\":\"pie\"}],\"scatter\":[{\"marker\":{\"colorbar\":{\"outlinewidth\":0,\"ticks\":\"\"}},\"type\":\"scatter\"}],\"scatter3d\":[{\"line\":{\"colorbar\":{\"outlinewidth\":0,\"ticks\":\"\"}},\"marker\":{\"colorbar\":{\"outlinewidth\":0,\"ticks\":\"\"}},\"type\":\"scatter3d\"}],\"scattercarpet\":[{\"marker\":{\"colorbar\":{\"outlinewidth\":0,\"ticks\":\"\"}},\"type\":\"scattercarpet\"}],\"scattergeo\":[{\"marker\":{\"colorbar\":{\"outlinewidth\":0,\"ticks\":\"\"}},\"type\":\"scattergeo\"}],\"scattergl\":[{\"marker\":{\"colorbar\":{\"outlinewidth\":0,\"ticks\":\"\"}},\"type\":\"scattergl\"}],\"scattermapbox\":[{\"marker\":{\"colorbar\":{\"outlinewidth\":0,\"ticks\":\"\"}},\"type\":\"scattermapbox\"}],\"scatterpolar\":[{\"marker\":{\"colorbar\":{\"outlinewidth\":0,\"ticks\":\"\"}},\"type\":\"scatterpolar\"}],\"scatterpolargl\":[{\"marker\":{\"colorbar\":{\"outlinewidth\":0,\"ticks\":\"\"}},\"type\":\"scatterpolargl\"}],\"scatterternary\":[{\"marker\":{\"colorbar\":{\"outlinewidth\":0,\"ticks\":\"\"}},\"type\":\"scatterternary\"}],\"surface\":[{\"colorbar\":{\"outlinewidth\":0,\"ticks\":\"\"},\"colorscale\":[[0.0,\"#0d0887\"],[0.1111111111111111,\"#46039f\"],[0.2222222222222222,\"#7201a8\"],[0.3333333333333333,\"#9c179e\"],[0.4444444444444444,\"#bd3786\"],[0.5555555555555556,\"#d8576b\"],[0.6666666666666666,\"#ed7953\"],[0.7777777777777778,\"#fb9f3a\"],[0.8888888888888888,\"#fdca26\"],[1.0,\"#f0f921\"]],\"type\":\"surface\"}],\"table\":[{\"cells\":{\"fill\":{\"color\":\"#EBF0F8\"},\"line\":{\"color\":\"white\"}},\"header\":{\"fill\":{\"color\":\"#C8D4E3\"},\"line\":{\"color\":\"white\"}},\"type\":\"table\"}]},\"layout\":{\"annotationdefaults\":{\"arrowcolor\":\"#2a3f5f\",\"arrowhead\":0,\"arrowwidth\":1},\"autotypenumbers\":\"strict\",\"coloraxis\":{\"colorbar\":{\"outlinewidth\":0,\"ticks\":\"\"}},\"colorscale\":{\"diverging\":[[0,\"#8e0152\"],[0.1,\"#c51b7d\"],[0.2,\"#de77ae\"],[0.3,\"#f1b6da\"],[0.4,\"#fde0ef\"],[0.5,\"#f7f7f7\"],[0.6,\"#e6f5d0\"],[0.7,\"#b8e186\"],[0.8,\"#7fbc41\"],[0.9,\"#4d9221\"],[1,\"#276419\"]],\"sequential\":[[0.0,\"#0d0887\"],[0.1111111111111111,\"#46039f\"],[0.2222222222222222,\"#7201a8\"],[0.3333333333333333,\"#9c179e\"],[0.4444444444444444,\"#bd3786\"],[0.5555555555555556,\"#d8576b\"],[0.6666666666666666,\"#ed7953\"],[0.7777777777777778,\"#fb9f3a\"],[0.8888888888888888,\"#fdca26\"],[1.0,\"#f0f921\"]],\"sequentialminus\":[[0.0,\"#0d0887\"],[0.1111111111111111,\"#46039f\"],[0.2222222222222222,\"#7201a8\"],[0.3333333333333333,\"#9c179e\"],[0.4444444444444444,\"#bd3786\"],[0.5555555555555556,\"#d8576b\"],[0.6666666666666666,\"#ed7953\"],[0.7777777777777778,\"#fb9f3a\"],[0.8888888888888888,\"#fdca26\"],[1.0,\"#f0f921\"]]},\"colorway\":[\"#636efa\",\"#EF553B\",\"#00cc96\",\"#ab63fa\",\"#FFA15A\",\"#19d3f3\",\"#FF6692\",\"#B6E880\",\"#FF97FF\",\"#FECB52\"],\"font\":{\"color\":\"#2a3f5f\"},\"geo\":{\"bgcolor\":\"white\",\"lakecolor\":\"white\",\"landcolor\":\"#E5ECF6\",\"showlakes\":true,\"showland\":true,\"subunitcolor\":\"white\"},\"hoverlabel\":{\"align\":\"left\"},\"hovermode\":\"closest\",\"mapbox\":{\"style\":\"light\"},\"paper_bgcolor\":\"white\",\"plot_bgcolor\":\"#E5ECF6\",\"polar\":{\"angularaxis\":{\"gridcolor\":\"white\",\"linecolor\":\"white\",\"ticks\":\"\"},\"bgcolor\":\"#E5ECF6\",\"radialaxis\":{\"gridcolor\":\"white\",\"linecolor\":\"white\",\"ticks\":\"\"}},\"scene\":{\"xaxis\":{\"backgroundcolor\":\"#E5ECF6\",\"gridcolor\":\"white\",\"gridwidth\":2,\"linecolor\":\"white\",\"showbackground\":true,\"ticks\":\"\",\"zerolinecolor\":\"white\"},\"yaxis\":{\"backgroundcolor\":\"#E5ECF6\",\"gridcolor\":\"white\",\"gridwidth\":2,\"linecolor\":\"white\",\"showbackground\":true,\"ticks\":\"\",\"zerolinecolor\":\"white\"},\"zaxis\":{\"backgroundcolor\":\"#E5ECF6\",\"gridcolor\":\"white\",\"gridwidth\":2,\"linecolor\":\"white\",\"showbackground\":true,\"ticks\":\"\",\"zerolinecolor\":\"white\"}},\"shapedefaults\":{\"line\":{\"color\":\"#2a3f5f\"}},\"ternary\":{\"aaxis\":{\"gridcolor\":\"white\",\"linecolor\":\"white\",\"ticks\":\"\"},\"baxis\":{\"gridcolor\":\"white\",\"linecolor\":\"white\",\"ticks\":\"\"},\"bgcolor\":\"#E5ECF6\",\"caxis\":{\"gridcolor\":\"white\",\"linecolor\":\"white\",\"ticks\":\"\"}},\"title\":{\"x\":0.05},\"xaxis\":{\"automargin\":true,\"gridcolor\":\"white\",\"linecolor\":\"white\",\"ticks\":\"\",\"title\":{\"standoff\":15},\"zerolinecolor\":\"white\",\"zerolinewidth\":2},\"yaxis\":{\"automargin\":true,\"gridcolor\":\"white\",\"linecolor\":\"white\",\"ticks\":\"\",\"title\":{\"standoff\":15},\"zerolinecolor\":\"white\",\"zerolinewidth\":2}}},\"xaxis\":{\"anchor\":\"y\",\"domain\":[0.0,1.0],\"title\":{\"text\":\"Recall\"},\"constrain\":\"domain\"},\"yaxis\":{\"anchor\":\"x\",\"domain\":[0.0,1.0],\"title\":{\"text\":\"Precision\"},\"scaleanchor\":\"x\",\"scaleratio\":1},\"legend\":{\"tracegroupgap\":0},\"title\":{\"text\":\"Precision-Recall Curve (AUC=0.9977)\"},\"height\":500,\"width\":700,\"shapes\":[{\"line\":{\"dash\":\"dash\"},\"type\":\"line\",\"x0\":0,\"x1\":1,\"y0\":1,\"y1\":0}]},                        {\"responsive\": true}                    ).then(function(){\n",
       "                            \n",
       "var gd = document.getElementById('a39293ac-99dc-4e79-a542-1b3b3a0a3ca2');\n",
       "var x = new MutationObserver(function (mutations, observer) {{\n",
       "        var display = window.getComputedStyle(gd).display;\n",
       "        if (!display || display === 'none') {{\n",
       "            console.log([gd, 'removed!']);\n",
       "            Plotly.purge(gd);\n",
       "            observer.disconnect();\n",
       "        }}\n",
       "}});\n",
       "\n",
       "// Listen for the removal of the full notebook cells\n",
       "var notebookContainer = gd.closest('#notebook-container');\n",
       "if (notebookContainer) {{\n",
       "    x.observe(notebookContainer, {childList: true});\n",
       "}}\n",
       "\n",
       "// Listen for the clearing of the current output cell\n",
       "var outputEl = gd.closest('.output');\n",
       "if (outputEl) {{\n",
       "    x.observe(outputEl, {childList: true});\n",
       "}}\n",
       "\n",
       "                        })                };                });            </script>        </div>"
      ]
     },
     "metadata": {},
     "output_type": "display_data"
    }
   ],
   "source": [
    "from sklearn.metrics import precision_recall_curve, auc, roc_curve\n",
    "precision, recall, thresholds = precision_recall_curve(y_test, xclf.predict(X_test))\n",
    "fpr, tpr, thresholds = roc_curve(y_test, xclf.predict(X_test))\n",
    "fig = px.area(\n",
    "    x=recall, y=precision,\n",
    "    title=f'Precision-Recall Curve (AUC={auc(fpr, tpr):.4f})',\n",
    "    labels=dict(x='Recall', y='Precision'),\n",
    "    width=700, height=500\n",
    ")\n",
    "fig.add_shape(\n",
    "    type='line', line=dict(dash='dash'),\n",
    "    x0=0, x1=1, y0=1, y1=0\n",
    ")\n",
    "fig.update_yaxes(scaleanchor=\"x\", scaleratio=1)\n",
    "fig.update_xaxes(constrain='domain')\n",
    "\n",
    "fig.show()\n",
    "fig.write_image(\"xclf_precision_recall.png\")"
   ]
  },
  {
   "cell_type": "code",
   "execution_count": 37,
   "id": "a0bb077b",
   "metadata": {},
   "outputs": [
    {
     "data": {
      "application/vnd.plotly.v1+json": {
       "config": {
        "plotlyServerURL": "https://plot.ly"
       },
       "data": [
        {
         "hovertemplate": "False Positive Rate=%{x}<br>True Positive Rate=%{y}<extra></extra>",
         "legendgroup": "",
         "line": {
          "color": "#636efa"
         },
         "marker": {
          "symbol": "circle"
         },
         "mode": "lines",
         "name": "",
         "orientation": "v",
         "showlegend": false,
         "stackgroup": "1",
         "type": "scatter",
         "x": [
          0,
          0,
          1
         ],
         "xaxis": "x",
         "y": [
          0,
          0.9953917050691244,
          1
         ],
         "yaxis": "y"
        }
       ],
       "layout": {
        "height": 500,
        "legend": {
         "tracegroupgap": 0
        },
        "shapes": [
         {
          "line": {
           "dash": "dash"
          },
          "type": "line",
          "x0": 0,
          "x1": 1,
          "y0": 0,
          "y1": 1
         }
        ],
        "template": {
         "data": {
          "bar": [
           {
            "error_x": {
             "color": "#2a3f5f"
            },
            "error_y": {
             "color": "#2a3f5f"
            },
            "marker": {
             "line": {
              "color": "#E5ECF6",
              "width": 0.5
             },
             "pattern": {
              "fillmode": "overlay",
              "size": 10,
              "solidity": 0.2
             }
            },
            "type": "bar"
           }
          ],
          "barpolar": [
           {
            "marker": {
             "line": {
              "color": "#E5ECF6",
              "width": 0.5
             },
             "pattern": {
              "fillmode": "overlay",
              "size": 10,
              "solidity": 0.2
             }
            },
            "type": "barpolar"
           }
          ],
          "carpet": [
           {
            "aaxis": {
             "endlinecolor": "#2a3f5f",
             "gridcolor": "white",
             "linecolor": "white",
             "minorgridcolor": "white",
             "startlinecolor": "#2a3f5f"
            },
            "baxis": {
             "endlinecolor": "#2a3f5f",
             "gridcolor": "white",
             "linecolor": "white",
             "minorgridcolor": "white",
             "startlinecolor": "#2a3f5f"
            },
            "type": "carpet"
           }
          ],
          "choropleth": [
           {
            "colorbar": {
             "outlinewidth": 0,
             "ticks": ""
            },
            "type": "choropleth"
           }
          ],
          "contour": [
           {
            "colorbar": {
             "outlinewidth": 0,
             "ticks": ""
            },
            "colorscale": [
             [
              0,
              "#0d0887"
             ],
             [
              0.1111111111111111,
              "#46039f"
             ],
             [
              0.2222222222222222,
              "#7201a8"
             ],
             [
              0.3333333333333333,
              "#9c179e"
             ],
             [
              0.4444444444444444,
              "#bd3786"
             ],
             [
              0.5555555555555556,
              "#d8576b"
             ],
             [
              0.6666666666666666,
              "#ed7953"
             ],
             [
              0.7777777777777778,
              "#fb9f3a"
             ],
             [
              0.8888888888888888,
              "#fdca26"
             ],
             [
              1,
              "#f0f921"
             ]
            ],
            "type": "contour"
           }
          ],
          "contourcarpet": [
           {
            "colorbar": {
             "outlinewidth": 0,
             "ticks": ""
            },
            "type": "contourcarpet"
           }
          ],
          "heatmap": [
           {
            "colorbar": {
             "outlinewidth": 0,
             "ticks": ""
            },
            "colorscale": [
             [
              0,
              "#0d0887"
             ],
             [
              0.1111111111111111,
              "#46039f"
             ],
             [
              0.2222222222222222,
              "#7201a8"
             ],
             [
              0.3333333333333333,
              "#9c179e"
             ],
             [
              0.4444444444444444,
              "#bd3786"
             ],
             [
              0.5555555555555556,
              "#d8576b"
             ],
             [
              0.6666666666666666,
              "#ed7953"
             ],
             [
              0.7777777777777778,
              "#fb9f3a"
             ],
             [
              0.8888888888888888,
              "#fdca26"
             ],
             [
              1,
              "#f0f921"
             ]
            ],
            "type": "heatmap"
           }
          ],
          "heatmapgl": [
           {
            "colorbar": {
             "outlinewidth": 0,
             "ticks": ""
            },
            "colorscale": [
             [
              0,
              "#0d0887"
             ],
             [
              0.1111111111111111,
              "#46039f"
             ],
             [
              0.2222222222222222,
              "#7201a8"
             ],
             [
              0.3333333333333333,
              "#9c179e"
             ],
             [
              0.4444444444444444,
              "#bd3786"
             ],
             [
              0.5555555555555556,
              "#d8576b"
             ],
             [
              0.6666666666666666,
              "#ed7953"
             ],
             [
              0.7777777777777778,
              "#fb9f3a"
             ],
             [
              0.8888888888888888,
              "#fdca26"
             ],
             [
              1,
              "#f0f921"
             ]
            ],
            "type": "heatmapgl"
           }
          ],
          "histogram": [
           {
            "marker": {
             "pattern": {
              "fillmode": "overlay",
              "size": 10,
              "solidity": 0.2
             }
            },
            "type": "histogram"
           }
          ],
          "histogram2d": [
           {
            "colorbar": {
             "outlinewidth": 0,
             "ticks": ""
            },
            "colorscale": [
             [
              0,
              "#0d0887"
             ],
             [
              0.1111111111111111,
              "#46039f"
             ],
             [
              0.2222222222222222,
              "#7201a8"
             ],
             [
              0.3333333333333333,
              "#9c179e"
             ],
             [
              0.4444444444444444,
              "#bd3786"
             ],
             [
              0.5555555555555556,
              "#d8576b"
             ],
             [
              0.6666666666666666,
              "#ed7953"
             ],
             [
              0.7777777777777778,
              "#fb9f3a"
             ],
             [
              0.8888888888888888,
              "#fdca26"
             ],
             [
              1,
              "#f0f921"
             ]
            ],
            "type": "histogram2d"
           }
          ],
          "histogram2dcontour": [
           {
            "colorbar": {
             "outlinewidth": 0,
             "ticks": ""
            },
            "colorscale": [
             [
              0,
              "#0d0887"
             ],
             [
              0.1111111111111111,
              "#46039f"
             ],
             [
              0.2222222222222222,
              "#7201a8"
             ],
             [
              0.3333333333333333,
              "#9c179e"
             ],
             [
              0.4444444444444444,
              "#bd3786"
             ],
             [
              0.5555555555555556,
              "#d8576b"
             ],
             [
              0.6666666666666666,
              "#ed7953"
             ],
             [
              0.7777777777777778,
              "#fb9f3a"
             ],
             [
              0.8888888888888888,
              "#fdca26"
             ],
             [
              1,
              "#f0f921"
             ]
            ],
            "type": "histogram2dcontour"
           }
          ],
          "mesh3d": [
           {
            "colorbar": {
             "outlinewidth": 0,
             "ticks": ""
            },
            "type": "mesh3d"
           }
          ],
          "parcoords": [
           {
            "line": {
             "colorbar": {
              "outlinewidth": 0,
              "ticks": ""
             }
            },
            "type": "parcoords"
           }
          ],
          "pie": [
           {
            "automargin": true,
            "type": "pie"
           }
          ],
          "scatter": [
           {
            "marker": {
             "colorbar": {
              "outlinewidth": 0,
              "ticks": ""
             }
            },
            "type": "scatter"
           }
          ],
          "scatter3d": [
           {
            "line": {
             "colorbar": {
              "outlinewidth": 0,
              "ticks": ""
             }
            },
            "marker": {
             "colorbar": {
              "outlinewidth": 0,
              "ticks": ""
             }
            },
            "type": "scatter3d"
           }
          ],
          "scattercarpet": [
           {
            "marker": {
             "colorbar": {
              "outlinewidth": 0,
              "ticks": ""
             }
            },
            "type": "scattercarpet"
           }
          ],
          "scattergeo": [
           {
            "marker": {
             "colorbar": {
              "outlinewidth": 0,
              "ticks": ""
             }
            },
            "type": "scattergeo"
           }
          ],
          "scattergl": [
           {
            "marker": {
             "colorbar": {
              "outlinewidth": 0,
              "ticks": ""
             }
            },
            "type": "scattergl"
           }
          ],
          "scattermapbox": [
           {
            "marker": {
             "colorbar": {
              "outlinewidth": 0,
              "ticks": ""
             }
            },
            "type": "scattermapbox"
           }
          ],
          "scatterpolar": [
           {
            "marker": {
             "colorbar": {
              "outlinewidth": 0,
              "ticks": ""
             }
            },
            "type": "scatterpolar"
           }
          ],
          "scatterpolargl": [
           {
            "marker": {
             "colorbar": {
              "outlinewidth": 0,
              "ticks": ""
             }
            },
            "type": "scatterpolargl"
           }
          ],
          "scatterternary": [
           {
            "marker": {
             "colorbar": {
              "outlinewidth": 0,
              "ticks": ""
             }
            },
            "type": "scatterternary"
           }
          ],
          "surface": [
           {
            "colorbar": {
             "outlinewidth": 0,
             "ticks": ""
            },
            "colorscale": [
             [
              0,
              "#0d0887"
             ],
             [
              0.1111111111111111,
              "#46039f"
             ],
             [
              0.2222222222222222,
              "#7201a8"
             ],
             [
              0.3333333333333333,
              "#9c179e"
             ],
             [
              0.4444444444444444,
              "#bd3786"
             ],
             [
              0.5555555555555556,
              "#d8576b"
             ],
             [
              0.6666666666666666,
              "#ed7953"
             ],
             [
              0.7777777777777778,
              "#fb9f3a"
             ],
             [
              0.8888888888888888,
              "#fdca26"
             ],
             [
              1,
              "#f0f921"
             ]
            ],
            "type": "surface"
           }
          ],
          "table": [
           {
            "cells": {
             "fill": {
              "color": "#EBF0F8"
             },
             "line": {
              "color": "white"
             }
            },
            "header": {
             "fill": {
              "color": "#C8D4E3"
             },
             "line": {
              "color": "white"
             }
            },
            "type": "table"
           }
          ]
         },
         "layout": {
          "annotationdefaults": {
           "arrowcolor": "#2a3f5f",
           "arrowhead": 0,
           "arrowwidth": 1
          },
          "autotypenumbers": "strict",
          "coloraxis": {
           "colorbar": {
            "outlinewidth": 0,
            "ticks": ""
           }
          },
          "colorscale": {
           "diverging": [
            [
             0,
             "#8e0152"
            ],
            [
             0.1,
             "#c51b7d"
            ],
            [
             0.2,
             "#de77ae"
            ],
            [
             0.3,
             "#f1b6da"
            ],
            [
             0.4,
             "#fde0ef"
            ],
            [
             0.5,
             "#f7f7f7"
            ],
            [
             0.6,
             "#e6f5d0"
            ],
            [
             0.7,
             "#b8e186"
            ],
            [
             0.8,
             "#7fbc41"
            ],
            [
             0.9,
             "#4d9221"
            ],
            [
             1,
             "#276419"
            ]
           ],
           "sequential": [
            [
             0,
             "#0d0887"
            ],
            [
             0.1111111111111111,
             "#46039f"
            ],
            [
             0.2222222222222222,
             "#7201a8"
            ],
            [
             0.3333333333333333,
             "#9c179e"
            ],
            [
             0.4444444444444444,
             "#bd3786"
            ],
            [
             0.5555555555555556,
             "#d8576b"
            ],
            [
             0.6666666666666666,
             "#ed7953"
            ],
            [
             0.7777777777777778,
             "#fb9f3a"
            ],
            [
             0.8888888888888888,
             "#fdca26"
            ],
            [
             1,
             "#f0f921"
            ]
           ],
           "sequentialminus": [
            [
             0,
             "#0d0887"
            ],
            [
             0.1111111111111111,
             "#46039f"
            ],
            [
             0.2222222222222222,
             "#7201a8"
            ],
            [
             0.3333333333333333,
             "#9c179e"
            ],
            [
             0.4444444444444444,
             "#bd3786"
            ],
            [
             0.5555555555555556,
             "#d8576b"
            ],
            [
             0.6666666666666666,
             "#ed7953"
            ],
            [
             0.7777777777777778,
             "#fb9f3a"
            ],
            [
             0.8888888888888888,
             "#fdca26"
            ],
            [
             1,
             "#f0f921"
            ]
           ]
          },
          "colorway": [
           "#636efa",
           "#EF553B",
           "#00cc96",
           "#ab63fa",
           "#FFA15A",
           "#19d3f3",
           "#FF6692",
           "#B6E880",
           "#FF97FF",
           "#FECB52"
          ],
          "font": {
           "color": "#2a3f5f"
          },
          "geo": {
           "bgcolor": "white",
           "lakecolor": "white",
           "landcolor": "#E5ECF6",
           "showlakes": true,
           "showland": true,
           "subunitcolor": "white"
          },
          "hoverlabel": {
           "align": "left"
          },
          "hovermode": "closest",
          "mapbox": {
           "style": "light"
          },
          "paper_bgcolor": "white",
          "plot_bgcolor": "#E5ECF6",
          "polar": {
           "angularaxis": {
            "gridcolor": "white",
            "linecolor": "white",
            "ticks": ""
           },
           "bgcolor": "#E5ECF6",
           "radialaxis": {
            "gridcolor": "white",
            "linecolor": "white",
            "ticks": ""
           }
          },
          "scene": {
           "xaxis": {
            "backgroundcolor": "#E5ECF6",
            "gridcolor": "white",
            "gridwidth": 2,
            "linecolor": "white",
            "showbackground": true,
            "ticks": "",
            "zerolinecolor": "white"
           },
           "yaxis": {
            "backgroundcolor": "#E5ECF6",
            "gridcolor": "white",
            "gridwidth": 2,
            "linecolor": "white",
            "showbackground": true,
            "ticks": "",
            "zerolinecolor": "white"
           },
           "zaxis": {
            "backgroundcolor": "#E5ECF6",
            "gridcolor": "white",
            "gridwidth": 2,
            "linecolor": "white",
            "showbackground": true,
            "ticks": "",
            "zerolinecolor": "white"
           }
          },
          "shapedefaults": {
           "line": {
            "color": "#2a3f5f"
           }
          },
          "ternary": {
           "aaxis": {
            "gridcolor": "white",
            "linecolor": "white",
            "ticks": ""
           },
           "baxis": {
            "gridcolor": "white",
            "linecolor": "white",
            "ticks": ""
           },
           "bgcolor": "#E5ECF6",
           "caxis": {
            "gridcolor": "white",
            "linecolor": "white",
            "ticks": ""
           }
          },
          "title": {
           "x": 0.05
          },
          "xaxis": {
           "automargin": true,
           "gridcolor": "white",
           "linecolor": "white",
           "ticks": "",
           "title": {
            "standoff": 15
           },
           "zerolinecolor": "white",
           "zerolinewidth": 2
          },
          "yaxis": {
           "automargin": true,
           "gridcolor": "white",
           "linecolor": "white",
           "ticks": "",
           "title": {
            "standoff": 15
           },
           "zerolinecolor": "white",
           "zerolinewidth": 2
          }
         }
        },
        "title": {
         "text": "ROC Curve (AUC=0.9977)"
        },
        "width": 700,
        "xaxis": {
         "anchor": "y",
         "constrain": "domain",
         "domain": [
          0,
          1
         ],
         "title": {
          "text": "False Positive Rate"
         }
        },
        "yaxis": {
         "anchor": "x",
         "domain": [
          0,
          1
         ],
         "scaleanchor": "x",
         "scaleratio": 1,
         "title": {
          "text": "True Positive Rate"
         }
        }
       }
      },
      "text/html": [
       "<div>                            <div id=\"61779679-4520-41be-9731-e5b59722c534\" class=\"plotly-graph-div\" style=\"height:500px; width:700px;\"></div>            <script type=\"text/javascript\">                require([\"plotly\"], function(Plotly) {                    window.PLOTLYENV=window.PLOTLYENV || {};                                    if (document.getElementById(\"61779679-4520-41be-9731-e5b59722c534\")) {                    Plotly.newPlot(                        \"61779679-4520-41be-9731-e5b59722c534\",                        [{\"hovertemplate\":\"False Positive Rate=%{x}<br>True Positive Rate=%{y}<extra></extra>\",\"legendgroup\":\"\",\"line\":{\"color\":\"#636efa\"},\"marker\":{\"symbol\":\"circle\"},\"mode\":\"lines\",\"name\":\"\",\"orientation\":\"v\",\"showlegend\":false,\"stackgroup\":\"1\",\"x\":[0.0,0.0,1.0],\"xaxis\":\"x\",\"y\":[0.0,0.9953917050691244,1.0],\"yaxis\":\"y\",\"type\":\"scatter\"}],                        {\"template\":{\"data\":{\"bar\":[{\"error_x\":{\"color\":\"#2a3f5f\"},\"error_y\":{\"color\":\"#2a3f5f\"},\"marker\":{\"line\":{\"color\":\"#E5ECF6\",\"width\":0.5},\"pattern\":{\"fillmode\":\"overlay\",\"size\":10,\"solidity\":0.2}},\"type\":\"bar\"}],\"barpolar\":[{\"marker\":{\"line\":{\"color\":\"#E5ECF6\",\"width\":0.5},\"pattern\":{\"fillmode\":\"overlay\",\"size\":10,\"solidity\":0.2}},\"type\":\"barpolar\"}],\"carpet\":[{\"aaxis\":{\"endlinecolor\":\"#2a3f5f\",\"gridcolor\":\"white\",\"linecolor\":\"white\",\"minorgridcolor\":\"white\",\"startlinecolor\":\"#2a3f5f\"},\"baxis\":{\"endlinecolor\":\"#2a3f5f\",\"gridcolor\":\"white\",\"linecolor\":\"white\",\"minorgridcolor\":\"white\",\"startlinecolor\":\"#2a3f5f\"},\"type\":\"carpet\"}],\"choropleth\":[{\"colorbar\":{\"outlinewidth\":0,\"ticks\":\"\"},\"type\":\"choropleth\"}],\"contour\":[{\"colorbar\":{\"outlinewidth\":0,\"ticks\":\"\"},\"colorscale\":[[0.0,\"#0d0887\"],[0.1111111111111111,\"#46039f\"],[0.2222222222222222,\"#7201a8\"],[0.3333333333333333,\"#9c179e\"],[0.4444444444444444,\"#bd3786\"],[0.5555555555555556,\"#d8576b\"],[0.6666666666666666,\"#ed7953\"],[0.7777777777777778,\"#fb9f3a\"],[0.8888888888888888,\"#fdca26\"],[1.0,\"#f0f921\"]],\"type\":\"contour\"}],\"contourcarpet\":[{\"colorbar\":{\"outlinewidth\":0,\"ticks\":\"\"},\"type\":\"contourcarpet\"}],\"heatmap\":[{\"colorbar\":{\"outlinewidth\":0,\"ticks\":\"\"},\"colorscale\":[[0.0,\"#0d0887\"],[0.1111111111111111,\"#46039f\"],[0.2222222222222222,\"#7201a8\"],[0.3333333333333333,\"#9c179e\"],[0.4444444444444444,\"#bd3786\"],[0.5555555555555556,\"#d8576b\"],[0.6666666666666666,\"#ed7953\"],[0.7777777777777778,\"#fb9f3a\"],[0.8888888888888888,\"#fdca26\"],[1.0,\"#f0f921\"]],\"type\":\"heatmap\"}],\"heatmapgl\":[{\"colorbar\":{\"outlinewidth\":0,\"ticks\":\"\"},\"colorscale\":[[0.0,\"#0d0887\"],[0.1111111111111111,\"#46039f\"],[0.2222222222222222,\"#7201a8\"],[0.3333333333333333,\"#9c179e\"],[0.4444444444444444,\"#bd3786\"],[0.5555555555555556,\"#d8576b\"],[0.6666666666666666,\"#ed7953\"],[0.7777777777777778,\"#fb9f3a\"],[0.8888888888888888,\"#fdca26\"],[1.0,\"#f0f921\"]],\"type\":\"heatmapgl\"}],\"histogram\":[{\"marker\":{\"pattern\":{\"fillmode\":\"overlay\",\"size\":10,\"solidity\":0.2}},\"type\":\"histogram\"}],\"histogram2d\":[{\"colorbar\":{\"outlinewidth\":0,\"ticks\":\"\"},\"colorscale\":[[0.0,\"#0d0887\"],[0.1111111111111111,\"#46039f\"],[0.2222222222222222,\"#7201a8\"],[0.3333333333333333,\"#9c179e\"],[0.4444444444444444,\"#bd3786\"],[0.5555555555555556,\"#d8576b\"],[0.6666666666666666,\"#ed7953\"],[0.7777777777777778,\"#fb9f3a\"],[0.8888888888888888,\"#fdca26\"],[1.0,\"#f0f921\"]],\"type\":\"histogram2d\"}],\"histogram2dcontour\":[{\"colorbar\":{\"outlinewidth\":0,\"ticks\":\"\"},\"colorscale\":[[0.0,\"#0d0887\"],[0.1111111111111111,\"#46039f\"],[0.2222222222222222,\"#7201a8\"],[0.3333333333333333,\"#9c179e\"],[0.4444444444444444,\"#bd3786\"],[0.5555555555555556,\"#d8576b\"],[0.6666666666666666,\"#ed7953\"],[0.7777777777777778,\"#fb9f3a\"],[0.8888888888888888,\"#fdca26\"],[1.0,\"#f0f921\"]],\"type\":\"histogram2dcontour\"}],\"mesh3d\":[{\"colorbar\":{\"outlinewidth\":0,\"ticks\":\"\"},\"type\":\"mesh3d\"}],\"parcoords\":[{\"line\":{\"colorbar\":{\"outlinewidth\":0,\"ticks\":\"\"}},\"type\":\"parcoords\"}],\"pie\":[{\"automargin\":true,\"type\":\"pie\"}],\"scatter\":[{\"marker\":{\"colorbar\":{\"outlinewidth\":0,\"ticks\":\"\"}},\"type\":\"scatter\"}],\"scatter3d\":[{\"line\":{\"colorbar\":{\"outlinewidth\":0,\"ticks\":\"\"}},\"marker\":{\"colorbar\":{\"outlinewidth\":0,\"ticks\":\"\"}},\"type\":\"scatter3d\"}],\"scattercarpet\":[{\"marker\":{\"colorbar\":{\"outlinewidth\":0,\"ticks\":\"\"}},\"type\":\"scattercarpet\"}],\"scattergeo\":[{\"marker\":{\"colorbar\":{\"outlinewidth\":0,\"ticks\":\"\"}},\"type\":\"scattergeo\"}],\"scattergl\":[{\"marker\":{\"colorbar\":{\"outlinewidth\":0,\"ticks\":\"\"}},\"type\":\"scattergl\"}],\"scattermapbox\":[{\"marker\":{\"colorbar\":{\"outlinewidth\":0,\"ticks\":\"\"}},\"type\":\"scattermapbox\"}],\"scatterpolar\":[{\"marker\":{\"colorbar\":{\"outlinewidth\":0,\"ticks\":\"\"}},\"type\":\"scatterpolar\"}],\"scatterpolargl\":[{\"marker\":{\"colorbar\":{\"outlinewidth\":0,\"ticks\":\"\"}},\"type\":\"scatterpolargl\"}],\"scatterternary\":[{\"marker\":{\"colorbar\":{\"outlinewidth\":0,\"ticks\":\"\"}},\"type\":\"scatterternary\"}],\"surface\":[{\"colorbar\":{\"outlinewidth\":0,\"ticks\":\"\"},\"colorscale\":[[0.0,\"#0d0887\"],[0.1111111111111111,\"#46039f\"],[0.2222222222222222,\"#7201a8\"],[0.3333333333333333,\"#9c179e\"],[0.4444444444444444,\"#bd3786\"],[0.5555555555555556,\"#d8576b\"],[0.6666666666666666,\"#ed7953\"],[0.7777777777777778,\"#fb9f3a\"],[0.8888888888888888,\"#fdca26\"],[1.0,\"#f0f921\"]],\"type\":\"surface\"}],\"table\":[{\"cells\":{\"fill\":{\"color\":\"#EBF0F8\"},\"line\":{\"color\":\"white\"}},\"header\":{\"fill\":{\"color\":\"#C8D4E3\"},\"line\":{\"color\":\"white\"}},\"type\":\"table\"}]},\"layout\":{\"annotationdefaults\":{\"arrowcolor\":\"#2a3f5f\",\"arrowhead\":0,\"arrowwidth\":1},\"autotypenumbers\":\"strict\",\"coloraxis\":{\"colorbar\":{\"outlinewidth\":0,\"ticks\":\"\"}},\"colorscale\":{\"diverging\":[[0,\"#8e0152\"],[0.1,\"#c51b7d\"],[0.2,\"#de77ae\"],[0.3,\"#f1b6da\"],[0.4,\"#fde0ef\"],[0.5,\"#f7f7f7\"],[0.6,\"#e6f5d0\"],[0.7,\"#b8e186\"],[0.8,\"#7fbc41\"],[0.9,\"#4d9221\"],[1,\"#276419\"]],\"sequential\":[[0.0,\"#0d0887\"],[0.1111111111111111,\"#46039f\"],[0.2222222222222222,\"#7201a8\"],[0.3333333333333333,\"#9c179e\"],[0.4444444444444444,\"#bd3786\"],[0.5555555555555556,\"#d8576b\"],[0.6666666666666666,\"#ed7953\"],[0.7777777777777778,\"#fb9f3a\"],[0.8888888888888888,\"#fdca26\"],[1.0,\"#f0f921\"]],\"sequentialminus\":[[0.0,\"#0d0887\"],[0.1111111111111111,\"#46039f\"],[0.2222222222222222,\"#7201a8\"],[0.3333333333333333,\"#9c179e\"],[0.4444444444444444,\"#bd3786\"],[0.5555555555555556,\"#d8576b\"],[0.6666666666666666,\"#ed7953\"],[0.7777777777777778,\"#fb9f3a\"],[0.8888888888888888,\"#fdca26\"],[1.0,\"#f0f921\"]]},\"colorway\":[\"#636efa\",\"#EF553B\",\"#00cc96\",\"#ab63fa\",\"#FFA15A\",\"#19d3f3\",\"#FF6692\",\"#B6E880\",\"#FF97FF\",\"#FECB52\"],\"font\":{\"color\":\"#2a3f5f\"},\"geo\":{\"bgcolor\":\"white\",\"lakecolor\":\"white\",\"landcolor\":\"#E5ECF6\",\"showlakes\":true,\"showland\":true,\"subunitcolor\":\"white\"},\"hoverlabel\":{\"align\":\"left\"},\"hovermode\":\"closest\",\"mapbox\":{\"style\":\"light\"},\"paper_bgcolor\":\"white\",\"plot_bgcolor\":\"#E5ECF6\",\"polar\":{\"angularaxis\":{\"gridcolor\":\"white\",\"linecolor\":\"white\",\"ticks\":\"\"},\"bgcolor\":\"#E5ECF6\",\"radialaxis\":{\"gridcolor\":\"white\",\"linecolor\":\"white\",\"ticks\":\"\"}},\"scene\":{\"xaxis\":{\"backgroundcolor\":\"#E5ECF6\",\"gridcolor\":\"white\",\"gridwidth\":2,\"linecolor\":\"white\",\"showbackground\":true,\"ticks\":\"\",\"zerolinecolor\":\"white\"},\"yaxis\":{\"backgroundcolor\":\"#E5ECF6\",\"gridcolor\":\"white\",\"gridwidth\":2,\"linecolor\":\"white\",\"showbackground\":true,\"ticks\":\"\",\"zerolinecolor\":\"white\"},\"zaxis\":{\"backgroundcolor\":\"#E5ECF6\",\"gridcolor\":\"white\",\"gridwidth\":2,\"linecolor\":\"white\",\"showbackground\":true,\"ticks\":\"\",\"zerolinecolor\":\"white\"}},\"shapedefaults\":{\"line\":{\"color\":\"#2a3f5f\"}},\"ternary\":{\"aaxis\":{\"gridcolor\":\"white\",\"linecolor\":\"white\",\"ticks\":\"\"},\"baxis\":{\"gridcolor\":\"white\",\"linecolor\":\"white\",\"ticks\":\"\"},\"bgcolor\":\"#E5ECF6\",\"caxis\":{\"gridcolor\":\"white\",\"linecolor\":\"white\",\"ticks\":\"\"}},\"title\":{\"x\":0.05},\"xaxis\":{\"automargin\":true,\"gridcolor\":\"white\",\"linecolor\":\"white\",\"ticks\":\"\",\"title\":{\"standoff\":15},\"zerolinecolor\":\"white\",\"zerolinewidth\":2},\"yaxis\":{\"automargin\":true,\"gridcolor\":\"white\",\"linecolor\":\"white\",\"ticks\":\"\",\"title\":{\"standoff\":15},\"zerolinecolor\":\"white\",\"zerolinewidth\":2}}},\"xaxis\":{\"anchor\":\"y\",\"domain\":[0.0,1.0],\"title\":{\"text\":\"False Positive Rate\"},\"constrain\":\"domain\"},\"yaxis\":{\"anchor\":\"x\",\"domain\":[0.0,1.0],\"title\":{\"text\":\"True Positive Rate\"},\"scaleanchor\":\"x\",\"scaleratio\":1},\"legend\":{\"tracegroupgap\":0},\"title\":{\"text\":\"ROC Curve (AUC=0.9977)\"},\"height\":500,\"width\":700,\"shapes\":[{\"line\":{\"dash\":\"dash\"},\"type\":\"line\",\"x0\":0,\"x1\":1,\"y0\":0,\"y1\":1}]},                        {\"responsive\": true}                    ).then(function(){\n",
       "                            \n",
       "var gd = document.getElementById('61779679-4520-41be-9731-e5b59722c534');\n",
       "var x = new MutationObserver(function (mutations, observer) {{\n",
       "        var display = window.getComputedStyle(gd).display;\n",
       "        if (!display || display === 'none') {{\n",
       "            console.log([gd, 'removed!']);\n",
       "            Plotly.purge(gd);\n",
       "            observer.disconnect();\n",
       "        }}\n",
       "}});\n",
       "\n",
       "// Listen for the removal of the full notebook cells\n",
       "var notebookContainer = gd.closest('#notebook-container');\n",
       "if (notebookContainer) {{\n",
       "    x.observe(notebookContainer, {childList: true});\n",
       "}}\n",
       "\n",
       "// Listen for the clearing of the current output cell\n",
       "var outputEl = gd.closest('.output');\n",
       "if (outputEl) {{\n",
       "    x.observe(outputEl, {childList: true});\n",
       "}}\n",
       "\n",
       "                        })                };                });            </script>        </div>"
      ]
     },
     "metadata": {},
     "output_type": "display_data"
    }
   ],
   "source": [
    "fig = px.area(\n",
    "    x=fpr, y=tpr,\n",
    "    title=f'ROC Curve (AUC={auc(fpr, tpr):.4f})',\n",
    "    labels=dict(x='False Positive Rate', y='True Positive Rate'),\n",
    "    width=700, height=500\n",
    ")\n",
    "fig.add_shape(\n",
    "    type='line', line=dict(dash='dash'),\n",
    "    x0=0, x1=1, y0=0, y1=1\n",
    ")\n",
    "\n",
    "fig.update_yaxes(scaleanchor=\"x\", scaleratio=1)\n",
    "fig.update_xaxes(constrain='domain')\n",
    "fig.show()"
   ]
  },
  {
   "cell_type": "code",
   "execution_count": 79,
   "id": "0e38ab59",
   "metadata": {},
   "outputs": [
    {
     "data": {
      "text/plain": [
       "217"
      ]
     },
     "execution_count": 79,
     "metadata": {},
     "output_type": "execute_result"
    }
   ],
   "source": [
    "y_test.sum()"
   ]
  },
  {
   "cell_type": "code",
   "execution_count": 78,
   "id": "ac13aacf",
   "metadata": {},
   "outputs": [
    {
     "data": {
      "text/plain": [
       "array([[233860,      0],\n",
       "       [     1,    216]], dtype=int64)"
      ]
     },
     "execution_count": 78,
     "metadata": {},
     "output_type": "execute_result"
    }
   ],
   "source": [
    "from sklearn.metrics import confusion_matrix\n",
    "\n",
    "confusion_matrix(y_test, xclf.predict(X_test))"
   ]
  },
  {
   "cell_type": "code",
   "execution_count": 81,
   "id": "3d854ddf",
   "metadata": {},
   "outputs": [
    {
     "data": {
      "image/png": "[encoded data removed]",
      "text/plain": [
       "<Figure size 432x288 with 1 Axes>"
      ]
     },
     "metadata": {
      "needs_background": "light"
     },
     "output_type": "display_data"
    }
   ],
   "source": [
    "import seaborn as sns\n",
    "import matplotlib.pyplot as plt\n",
    "confusiondata = confusion_matrix(y_test, xclf.predict(X_test))\n",
    "yticklabels = [\"Positive\", \"Negative\"]\n",
    "xticklabels = [\"Positive\", \"Negative\"]\n",
    "ax = plt.axes()\n",
    "fig = sns.heatmap(confusiondata,linewidths=.5, annot=True, ax=ax, vmin = 0, vmax = 200,cmap=\"icefire\",cbar = False,fmt='g')\n",
    "ax.set_title(\"Confusion Matrix for Classification\")\n",
    "figure = fig.get_figure()    \n",
    "\n",
    "figure.savefig(\"ConfusionMatrix.png\") "
   ]
  },
  {
   "cell_type": "code",
   "execution_count": null,
   "id": "6c095bb6",
   "metadata": {},
   "outputs": [],
   "source": [
    "from sklearn.metrics import accuracy_score, average_precision_score\n",
    "from sklearn.model_selection import KFold, cross_validate\n",
    "kf = KFold(n_splits = 5, shuffle = True, random_state = 42)\n",
    "predictions = cross_validate(RandomForestClassifier(),X_train, y_train, cv = kf, scoring = [\"accuracy\",\"precision\",\"recall\",\"f1\"])"
   ]
  },
  {
   "cell_type": "code",
   "execution_count": 273,
   "id": "525b729a",
   "metadata": {},
   "outputs": [],
   "source": [
    "\n",
    "predictions_xgb = xgb.cv(params = {}, dtrain = dtrain, nfold = 5, folds = kf, metrics = [\"aucpr\"])"
   ]
  },
  {
   "cell_type": "code",
   "execution_count": 275,
   "id": "775a3f9d",
   "metadata": {},
   "outputs": [
    {
     "data": {
      "text/html": [
       "<div>\n",
       "<style scoped>\n",
       "    .dataframe tbody tr th:only-of-type {\n",
       "        vertical-align: middle;\n",
       "    }\n",
       "\n",
       "    .dataframe tbody tr th {\n",
       "        vertical-align: top;\n",
       "    }\n",
       "\n",
       "    .dataframe thead th {\n",
       "        text-align: right;\n",
       "    }\n",
       "</style>\n",
       "<table border=\"1\" class=\"dataframe\">\n",
       "  <thead>\n",
       "    <tr style=\"text-align: right;\">\n",
       "      <th></th>\n",
       "      <th>train-aucpr-mean</th>\n",
       "      <th>train-aucpr-std</th>\n",
       "      <th>test-aucpr-mean</th>\n",
       "      <th>test-aucpr-std</th>\n",
       "    </tr>\n",
       "  </thead>\n",
       "  <tbody>\n",
       "    <tr>\n",
       "      <th>0</th>\n",
       "      <td>0.988107</td>\n",
       "      <td>0.000653</td>\n",
       "      <td>0.987411</td>\n",
       "      <td>0.000617</td>\n",
       "    </tr>\n",
       "    <tr>\n",
       "      <th>1</th>\n",
       "      <td>0.991321</td>\n",
       "      <td>0.000805</td>\n",
       "      <td>0.990593</td>\n",
       "      <td>0.000762</td>\n",
       "    </tr>\n",
       "    <tr>\n",
       "      <th>2</th>\n",
       "      <td>0.994485</td>\n",
       "      <td>0.000188</td>\n",
       "      <td>0.993904</td>\n",
       "      <td>0.000626</td>\n",
       "    </tr>\n",
       "    <tr>\n",
       "      <th>3</th>\n",
       "      <td>0.995383</td>\n",
       "      <td>0.000134</td>\n",
       "      <td>0.994822</td>\n",
       "      <td>0.000558</td>\n",
       "    </tr>\n",
       "    <tr>\n",
       "      <th>4</th>\n",
       "      <td>0.996204</td>\n",
       "      <td>0.000215</td>\n",
       "      <td>0.995532</td>\n",
       "      <td>0.000507</td>\n",
       "    </tr>\n",
       "    <tr>\n",
       "      <th>5</th>\n",
       "      <td>0.996772</td>\n",
       "      <td>0.000162</td>\n",
       "      <td>0.996122</td>\n",
       "      <td>0.000587</td>\n",
       "    </tr>\n",
       "    <tr>\n",
       "      <th>6</th>\n",
       "      <td>0.997394</td>\n",
       "      <td>0.000199</td>\n",
       "      <td>0.996791</td>\n",
       "      <td>0.000345</td>\n",
       "    </tr>\n",
       "    <tr>\n",
       "      <th>7</th>\n",
       "      <td>0.997873</td>\n",
       "      <td>0.000240</td>\n",
       "      <td>0.997256</td>\n",
       "      <td>0.000355</td>\n",
       "    </tr>\n",
       "    <tr>\n",
       "      <th>8</th>\n",
       "      <td>0.998219</td>\n",
       "      <td>0.000200</td>\n",
       "      <td>0.997713</td>\n",
       "      <td>0.000561</td>\n",
       "    </tr>\n",
       "    <tr>\n",
       "      <th>9</th>\n",
       "      <td>0.998387</td>\n",
       "      <td>0.000216</td>\n",
       "      <td>0.997855</td>\n",
       "      <td>0.000554</td>\n",
       "    </tr>\n",
       "  </tbody>\n",
       "</table>\n",
       "</div>"
      ],
      "text/plain": [
       "   train-aucpr-mean  train-aucpr-std  test-aucpr-mean  test-aucpr-std\n",
       "0          0.988107         0.000653         0.987411        0.000617\n",
       "1          0.991321         0.000805         0.990593        0.000762\n",
       "2          0.994485         0.000188         0.993904        0.000626\n",
       "3          0.995383         0.000134         0.994822        0.000558\n",
       "4          0.996204         0.000215         0.995532        0.000507\n",
       "5          0.996772         0.000162         0.996122        0.000587\n",
       "6          0.997394         0.000199         0.996791        0.000345\n",
       "7          0.997873         0.000240         0.997256        0.000355\n",
       "8          0.998219         0.000200         0.997713        0.000561\n",
       "9          0.998387         0.000216         0.997855        0.000554"
      ]
     },
     "execution_count": 275,
     "metadata": {},
     "output_type": "execute_result"
    }
   ],
   "source": [
    "predictions_xgb"
   ]
  },
  {
   "cell_type": "code",
   "execution_count": 276,
   "id": "070dcb69",
   "metadata": {},
   "outputs": [],
   "source": [
    "import pickle\n",
    "with open('xgb_classifier_pkl', 'wb') as files:\n",
    "    pickle.dump(xclf, files)\n"
   ]
  },
  {
   "cell_type": "code",
   "execution_count": 280,
   "id": "9c27d0cf",
   "metadata": {},
   "outputs": [],
   "source": [
    "with open('X.pkl', \"wb\") as files:\n",
    "    pickle.dump([X_train, X_test], files)\n",
    "with open('y.pkl', \"wb\") as files:\n",
    "    pickle.dump([y_train, y_test], files)"
   ]
  },
  {
   "cell_type": "code",
   "execution_count": 281,
   "id": "07121691",
   "metadata": {},
   "outputs": [],
   "source": [
    "with open(\"feature_names.pkl\", \"wb\") as files:\n",
    "    pickle.dump(preprocessor.get_feature_names_out(), files)"
   ]
  },
  {
   "cell_type": "code",
   "execution_count": 259,
   "id": "f73ae0e8",
   "metadata": {},
   "outputs": [
    {
     "name": "stderr",
     "output_type": "stream",
     "text": [
      "C:\\ProgramData\\Anaconda3\\lib\\site-packages\\pandas\\core\\arraylike.py:52: UserWarning: Parsing '31-05-2015' in DD/MM/YYYY format. Provide format or specify infer_datetime_format=True for consistent parsing.\n",
      "  return self._cmp_method(other, operator.le)\n"
     ]
    },
    {
     "data": {
      "text/plain": [
       "loan_amnt                35000.0\n",
       "issue_d      2015-05-01 00:00:00\n",
       "dtype: object"
      ]
     },
     "execution_count": 259,
     "metadata": {},
     "output_type": "execute_result"
    }
   ],
   "source": [
    "df_clean[df_clean[\"issue_d\"] <= \"31-05-2015\"][[\"loan_amnt\",\"issue_d\"]].max()"
   ]
  },
  {
   "cell_type": "code",
   "execution_count": 282,
   "id": "09ce963a",
   "metadata": {},
   "outputs": [],
   "source": [
    "df_clean.to_pickle(\"df_clean.pkl\")"
   ]
  },
  {
   "cell_type": "code",
   "execution_count": null,
   "id": "4d1c52c6",
   "metadata": {},
   "outputs": [],
   "source": []
  }
 ],
 "metadata": {
  "kernelspec": {
   "display_name": "Python 3 (ipykernel)",
   "language": "python",
   "name": "python3"
  },
  "language_info": {
   "codemirror_mode": {
    "name": "ipython",
    "version": 3
   },
   "file_extension": ".py",
   "mimetype": "text/x-python",
   "name": "python",
   "nbconvert_exporter": "python",
   "pygments_lexer": "ipython3",
   "version": "3.9.12"
  }
 },
 "nbformat": 4,
 "nbformat_minor": 5
}
